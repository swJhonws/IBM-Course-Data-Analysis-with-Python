{
 "cells": [
  {
   "cell_type": "markdown",
   "id": "c4e27e6d-df22-4c6e-b284-1dd300c285a7",
   "metadata": {},
   "source": [
    "# Desarrollo de Modelos"
   ]
  },
  {
   "cell_type": "markdown",
   "id": "934e4300-97b8-4f8b-87a9-24a66d72e1f8",
   "metadata": {},
   "source": [
    "En esta sección, desarrollaremos varios modelos que predecirán el precio del automóvil utilizando las variables o características. Esto es solo una estimación, pero debería brindarnos una idea objetiva de cuánto debería costar el automóvil."
   ]
  },
  {
   "cell_type": "markdown",
   "id": "f2c15c16-f5e2-406a-8778-ca97f040bd06",
   "metadata": {},
   "source": [
    "En este Notebook aprenderás:\n",
    "\n",
    "* Desarrollar modelos predictivos."
   ]
  },
  {
   "cell_type": "markdown",
   "id": "bc4875fb-d369-4c80-ba11-1522d68a0f5a",
   "metadata": {},
   "source": [
    "Algunas preguntas son necesarias hacerlas en esta sección:\n",
    "\n",
    "* ¿Sé si el concesionario está ofreciendo un valor justo por mi vehículo usado?\n",
    "* ¿Sé si estoy dando un valor justo a mi coche?"
   ]
  },
  {
   "cell_type": "markdown",
   "id": "cc53f862-39f1-4098-b8ec-ce9be070f442",
   "metadata": {},
   "source": [
    "En análisis de datos, a menudo utilizamos el Desarrollo de Modelos para ayudarnos a predecir observaciones futuras a partir de los datos que tenemos."
   ]
  },
  {
   "cell_type": "markdown",
   "id": "2ac0a0f6-6f77-4b74-ad0d-2deacfc0e514",
   "metadata": {},
   "source": [
    "Un modelo puede ayudarnos a entender la relación exacta entre diferentes variables y como estas variables son usadas para predecir resultados."
   ]
  },
  {
   "cell_type": "markdown",
   "id": "9bfb7b01-ff25-44a0-8961-def39ea64ca3",
   "metadata": {},
   "source": [
    "Iniciamos importando las librerías necesarias."
   ]
  },
  {
   "cell_type": "code",
   "execution_count": 1,
   "id": "3c61f9b6-ad92-4566-a657-55dab444e357",
   "metadata": {},
   "outputs": [],
   "source": [
    "import pandas as pd\n",
    "import numpy as np\n",
    "import matplotlib.pyplot as plt"
   ]
  },
  {
   "cell_type": "markdown",
   "id": "3ed57a8e-d6ed-4e9b-a4d8-b39a526a374a",
   "metadata": {},
   "source": [
    "caragamos el conjunto de datos a usar."
   ]
  },
  {
   "cell_type": "markdown",
   "id": "c87de9f4-8de0-427d-89df-1d28c04d778c",
   "metadata": {},
   "source": [
    "Haciendo uso de la librería de Pandas."
   ]
  },
  {
   "cell_type": "code",
   "execution_count": 2,
   "id": "ba7bf137-966e-4a87-91ad-db97de925d1a",
   "metadata": {},
   "outputs": [],
   "source": [
    "url = 'https://cf-courses-data.s3.us.cloud-object-storage.appdomain.cloud/IBMDeveloperSkillsNetwork-DA0101EN-SkillsNetwork/labs/Data%20files/automobileEDA.csv'\n",
    "\n",
    "df = pd.read_csv(url)"
   ]
  },
  {
   "cell_type": "code",
   "execution_count": 3,
   "id": "0240eefb-9b7b-458f-80cc-cf40a736b226",
   "metadata": {},
   "outputs": [
    {
     "data": {
      "text/html": [
       "<div>\n",
       "<style scoped>\n",
       "    .dataframe tbody tr th:only-of-type {\n",
       "        vertical-align: middle;\n",
       "    }\n",
       "\n",
       "    .dataframe tbody tr th {\n",
       "        vertical-align: top;\n",
       "    }\n",
       "\n",
       "    .dataframe thead th {\n",
       "        text-align: right;\n",
       "    }\n",
       "</style>\n",
       "<table border=\"1\" class=\"dataframe\">\n",
       "  <thead>\n",
       "    <tr style=\"text-align: right;\">\n",
       "      <th></th>\n",
       "      <th>symboling</th>\n",
       "      <th>normalized-losses</th>\n",
       "      <th>make</th>\n",
       "      <th>aspiration</th>\n",
       "      <th>num-of-doors</th>\n",
       "      <th>body-style</th>\n",
       "      <th>drive-wheels</th>\n",
       "      <th>engine-location</th>\n",
       "      <th>wheel-base</th>\n",
       "      <th>length</th>\n",
       "      <th>...</th>\n",
       "      <th>compression-ratio</th>\n",
       "      <th>horsepower</th>\n",
       "      <th>peak-rpm</th>\n",
       "      <th>city-mpg</th>\n",
       "      <th>highway-mpg</th>\n",
       "      <th>price</th>\n",
       "      <th>city-L/100km</th>\n",
       "      <th>horsepower-binned</th>\n",
       "      <th>diesel</th>\n",
       "      <th>gas</th>\n",
       "    </tr>\n",
       "  </thead>\n",
       "  <tbody>\n",
       "    <tr>\n",
       "      <th>0</th>\n",
       "      <td>3</td>\n",
       "      <td>122</td>\n",
       "      <td>alfa-romero</td>\n",
       "      <td>std</td>\n",
       "      <td>two</td>\n",
       "      <td>convertible</td>\n",
       "      <td>rwd</td>\n",
       "      <td>front</td>\n",
       "      <td>88.6</td>\n",
       "      <td>0.811148</td>\n",
       "      <td>...</td>\n",
       "      <td>9.0</td>\n",
       "      <td>111.0</td>\n",
       "      <td>5000.0</td>\n",
       "      <td>21</td>\n",
       "      <td>27</td>\n",
       "      <td>13495.0</td>\n",
       "      <td>11.190476</td>\n",
       "      <td>Medium</td>\n",
       "      <td>0</td>\n",
       "      <td>1</td>\n",
       "    </tr>\n",
       "    <tr>\n",
       "      <th>1</th>\n",
       "      <td>3</td>\n",
       "      <td>122</td>\n",
       "      <td>alfa-romero</td>\n",
       "      <td>std</td>\n",
       "      <td>two</td>\n",
       "      <td>convertible</td>\n",
       "      <td>rwd</td>\n",
       "      <td>front</td>\n",
       "      <td>88.6</td>\n",
       "      <td>0.811148</td>\n",
       "      <td>...</td>\n",
       "      <td>9.0</td>\n",
       "      <td>111.0</td>\n",
       "      <td>5000.0</td>\n",
       "      <td>21</td>\n",
       "      <td>27</td>\n",
       "      <td>16500.0</td>\n",
       "      <td>11.190476</td>\n",
       "      <td>Medium</td>\n",
       "      <td>0</td>\n",
       "      <td>1</td>\n",
       "    </tr>\n",
       "    <tr>\n",
       "      <th>2</th>\n",
       "      <td>1</td>\n",
       "      <td>122</td>\n",
       "      <td>alfa-romero</td>\n",
       "      <td>std</td>\n",
       "      <td>two</td>\n",
       "      <td>hatchback</td>\n",
       "      <td>rwd</td>\n",
       "      <td>front</td>\n",
       "      <td>94.5</td>\n",
       "      <td>0.822681</td>\n",
       "      <td>...</td>\n",
       "      <td>9.0</td>\n",
       "      <td>154.0</td>\n",
       "      <td>5000.0</td>\n",
       "      <td>19</td>\n",
       "      <td>26</td>\n",
       "      <td>16500.0</td>\n",
       "      <td>12.368421</td>\n",
       "      <td>Medium</td>\n",
       "      <td>0</td>\n",
       "      <td>1</td>\n",
       "    </tr>\n",
       "    <tr>\n",
       "      <th>3</th>\n",
       "      <td>2</td>\n",
       "      <td>164</td>\n",
       "      <td>audi</td>\n",
       "      <td>std</td>\n",
       "      <td>four</td>\n",
       "      <td>sedan</td>\n",
       "      <td>fwd</td>\n",
       "      <td>front</td>\n",
       "      <td>99.8</td>\n",
       "      <td>0.848630</td>\n",
       "      <td>...</td>\n",
       "      <td>10.0</td>\n",
       "      <td>102.0</td>\n",
       "      <td>5500.0</td>\n",
       "      <td>24</td>\n",
       "      <td>30</td>\n",
       "      <td>13950.0</td>\n",
       "      <td>9.791667</td>\n",
       "      <td>Medium</td>\n",
       "      <td>0</td>\n",
       "      <td>1</td>\n",
       "    </tr>\n",
       "    <tr>\n",
       "      <th>4</th>\n",
       "      <td>2</td>\n",
       "      <td>164</td>\n",
       "      <td>audi</td>\n",
       "      <td>std</td>\n",
       "      <td>four</td>\n",
       "      <td>sedan</td>\n",
       "      <td>4wd</td>\n",
       "      <td>front</td>\n",
       "      <td>99.4</td>\n",
       "      <td>0.848630</td>\n",
       "      <td>...</td>\n",
       "      <td>8.0</td>\n",
       "      <td>115.0</td>\n",
       "      <td>5500.0</td>\n",
       "      <td>18</td>\n",
       "      <td>22</td>\n",
       "      <td>17450.0</td>\n",
       "      <td>13.055556</td>\n",
       "      <td>Medium</td>\n",
       "      <td>0</td>\n",
       "      <td>1</td>\n",
       "    </tr>\n",
       "  </tbody>\n",
       "</table>\n",
       "<p>5 rows × 29 columns</p>\n",
       "</div>"
      ],
      "text/plain": [
       "   symboling  normalized-losses         make aspiration num-of-doors  \\\n",
       "0          3                122  alfa-romero        std          two   \n",
       "1          3                122  alfa-romero        std          two   \n",
       "2          1                122  alfa-romero        std          two   \n",
       "3          2                164         audi        std         four   \n",
       "4          2                164         audi        std         four   \n",
       "\n",
       "    body-style drive-wheels engine-location  wheel-base    length  ...  \\\n",
       "0  convertible          rwd           front        88.6  0.811148  ...   \n",
       "1  convertible          rwd           front        88.6  0.811148  ...   \n",
       "2    hatchback          rwd           front        94.5  0.822681  ...   \n",
       "3        sedan          fwd           front        99.8  0.848630  ...   \n",
       "4        sedan          4wd           front        99.4  0.848630  ...   \n",
       "\n",
       "   compression-ratio  horsepower  peak-rpm city-mpg highway-mpg    price  \\\n",
       "0                9.0       111.0    5000.0       21          27  13495.0   \n",
       "1                9.0       111.0    5000.0       21          27  16500.0   \n",
       "2                9.0       154.0    5000.0       19          26  16500.0   \n",
       "3               10.0       102.0    5500.0       24          30  13950.0   \n",
       "4                8.0       115.0    5500.0       18          22  17450.0   \n",
       "\n",
       "  city-L/100km  horsepower-binned  diesel  gas  \n",
       "0    11.190476             Medium       0    1  \n",
       "1    11.190476             Medium       0    1  \n",
       "2    12.368421             Medium       0    1  \n",
       "3     9.791667             Medium       0    1  \n",
       "4    13.055556             Medium       0    1  \n",
       "\n",
       "[5 rows x 29 columns]"
      ]
     },
     "execution_count": 3,
     "metadata": {},
     "output_type": "execute_result"
    }
   ],
   "source": [
    "df.head()"
   ]
  },
  {
   "cell_type": "markdown",
   "id": "c3d1b458-b404-4ea9-bb1d-bbdc688dba9d",
   "metadata": {},
   "source": [
    "# 1. Regresión Lineal y Regresión Lineal Multiple"
   ]
  },
  {
   "cell_type": "markdown",
   "id": "06a20341-f4cf-4fa0-996b-d261fe3ee90b",
   "metadata": {},
   "source": [
    "## Regresión Lineal Simple"
   ]
  },
  {
   "cell_type": "markdown",
   "id": "e8bee47f-c25f-4f68-846c-67a98dd3acc0",
   "metadata": {},
   "source": [
    "Es un método que nos ayuda a entender la relación entre dos variables:\n",
    "\n",
    "* La variable predictor o variable `independiente` <b>X</b>\n",
    "* La variable de respuesta/objetivo o variable `dependiente` (Que queremos predecir) <b>Y</b>"
   ]
  },
  {
   "cell_type": "markdown",
   "id": "70c596d3-fbe0-4d37-8c96-19c699c6349f",
   "metadata": {},
   "source": [
    "El resultado de la regresión lineal es una función lineal que predice la variable objetivo(dependiente) como una función de la variable predictor(independiente)."
   ]
  },
  {
   "cell_type": "markdown",
   "id": "72ccca0a-e03e-48e7-9941-e292f8b4eab1",
   "metadata": {},
   "source": [
    "$$\n",
    " Y: Response \\ Variable\\\\\\\\\\\\\n",
    " X: Predictor \\ Variables\n",
    "$$\n"
   ]
  },
  {
   "cell_type": "markdown",
   "id": "32340e3c-94fa-423b-a9d3-119def3a6b90",
   "metadata": {},
   "source": [
    "#### Función lineal"
   ]
  },
  {
   "cell_type": "markdown",
   "id": "4685668b-81e2-401e-a431-8eacd9f5ed84",
   "metadata": {},
   "source": [
    "$$\n",
    "Yhat = a + b  X\n",
    "$$"
   ]
  },
  {
   "cell_type": "markdown",
   "id": "c3333867-d541-447a-940f-ae920f72915c",
   "metadata": {},
   "source": [
    "Donde:\n",
    "\n",
    "* <b>a</b> se refiere a la <b>intercepción</b> de la regresión lineal, en otras palabras el valor de Y cuando X es 0.\n",
    "* <b>b</b> se refiere a la <b>pendiente</b> de la regresión lineal, en otras palabras, el valor con el cual Y cambia cuando X aumenta en 1 unidad. "
   ]
  },
  {
   "cell_type": "markdown",
   "id": "9997ec7e-58a8-46a4-aa42-e13b6b676cca",
   "metadata": {},
   "source": [
    "Para hacer estos cálculos usaremos los módulos de la librerías de sckit-learn."
   ]
  },
  {
   "cell_type": "markdown",
   "id": "0b3da76b-31e1-49b9-a551-bcceb76e9c80",
   "metadata": {},
   "source": [
    "#### Cargar módulo"
   ]
  },
  {
   "cell_type": "code",
   "execution_count": 4,
   "id": "45b44785-c219-4d95-9b2d-96d98897ecc9",
   "metadata": {},
   "outputs": [],
   "source": [
    "from sklearn.linear_model import LinearRegression"
   ]
  },
  {
   "cell_type": "markdown",
   "id": "755f295a-f754-48b7-8c2b-eeda29baba22",
   "metadata": {},
   "source": [
    "#### Crear el objeto de regresión lineal"
   ]
  },
  {
   "cell_type": "code",
   "execution_count": 5,
   "id": "6d543735-0fd5-4d19-acfb-38eb7478ffd8",
   "metadata": {},
   "outputs": [
    {
     "data": {
      "text/html": [
       "<style>#sk-container-id-1 {color: black;background-color: white;}#sk-container-id-1 pre{padding: 0;}#sk-container-id-1 div.sk-toggleable {background-color: white;}#sk-container-id-1 label.sk-toggleable__label {cursor: pointer;display: block;width: 100%;margin-bottom: 0;padding: 0.3em;box-sizing: border-box;text-align: center;}#sk-container-id-1 label.sk-toggleable__label-arrow:before {content: \"▸\";float: left;margin-right: 0.25em;color: #696969;}#sk-container-id-1 label.sk-toggleable__label-arrow:hover:before {color: black;}#sk-container-id-1 div.sk-estimator:hover label.sk-toggleable__label-arrow:before {color: black;}#sk-container-id-1 div.sk-toggleable__content {max-height: 0;max-width: 0;overflow: hidden;text-align: left;background-color: #f0f8ff;}#sk-container-id-1 div.sk-toggleable__content pre {margin: 0.2em;color: black;border-radius: 0.25em;background-color: #f0f8ff;}#sk-container-id-1 input.sk-toggleable__control:checked~div.sk-toggleable__content {max-height: 200px;max-width: 100%;overflow: auto;}#sk-container-id-1 input.sk-toggleable__control:checked~label.sk-toggleable__label-arrow:before {content: \"▾\";}#sk-container-id-1 div.sk-estimator input.sk-toggleable__control:checked~label.sk-toggleable__label {background-color: #d4ebff;}#sk-container-id-1 div.sk-label input.sk-toggleable__control:checked~label.sk-toggleable__label {background-color: #d4ebff;}#sk-container-id-1 input.sk-hidden--visually {border: 0;clip: rect(1px 1px 1px 1px);clip: rect(1px, 1px, 1px, 1px);height: 1px;margin: -1px;overflow: hidden;padding: 0;position: absolute;width: 1px;}#sk-container-id-1 div.sk-estimator {font-family: monospace;background-color: #f0f8ff;border: 1px dotted black;border-radius: 0.25em;box-sizing: border-box;margin-bottom: 0.5em;}#sk-container-id-1 div.sk-estimator:hover {background-color: #d4ebff;}#sk-container-id-1 div.sk-parallel-item::after {content: \"\";width: 100%;border-bottom: 1px solid gray;flex-grow: 1;}#sk-container-id-1 div.sk-label:hover label.sk-toggleable__label {background-color: #d4ebff;}#sk-container-id-1 div.sk-serial::before {content: \"\";position: absolute;border-left: 1px solid gray;box-sizing: border-box;top: 0;bottom: 0;left: 50%;z-index: 0;}#sk-container-id-1 div.sk-serial {display: flex;flex-direction: column;align-items: center;background-color: white;padding-right: 0.2em;padding-left: 0.2em;position: relative;}#sk-container-id-1 div.sk-item {position: relative;z-index: 1;}#sk-container-id-1 div.sk-parallel {display: flex;align-items: stretch;justify-content: center;background-color: white;position: relative;}#sk-container-id-1 div.sk-item::before, #sk-container-id-1 div.sk-parallel-item::before {content: \"\";position: absolute;border-left: 1px solid gray;box-sizing: border-box;top: 0;bottom: 0;left: 50%;z-index: -1;}#sk-container-id-1 div.sk-parallel-item {display: flex;flex-direction: column;z-index: 1;position: relative;background-color: white;}#sk-container-id-1 div.sk-parallel-item:first-child::after {align-self: flex-end;width: 50%;}#sk-container-id-1 div.sk-parallel-item:last-child::after {align-self: flex-start;width: 50%;}#sk-container-id-1 div.sk-parallel-item:only-child::after {width: 0;}#sk-container-id-1 div.sk-dashed-wrapped {border: 1px dashed gray;margin: 0 0.4em 0.5em 0.4em;box-sizing: border-box;padding-bottom: 0.4em;background-color: white;}#sk-container-id-1 div.sk-label label {font-family: monospace;font-weight: bold;display: inline-block;line-height: 1.2em;}#sk-container-id-1 div.sk-label-container {text-align: center;}#sk-container-id-1 div.sk-container {/* jupyter's `normalize.less` sets `[hidden] { display: none; }` but bootstrap.min.css set `[hidden] { display: none !important; }` so we also need the `!important` here to be able to override the default hidden behavior on the sphinx rendered scikit-learn.org. See: https://github.com/scikit-learn/scikit-learn/issues/21755 */display: inline-block !important;position: relative;}#sk-container-id-1 div.sk-text-repr-fallback {display: none;}</style><div id=\"sk-container-id-1\" class=\"sk-top-container\"><div class=\"sk-text-repr-fallback\"><pre>LinearRegression()</pre><b>In a Jupyter environment, please rerun this cell to show the HTML representation or trust the notebook. <br />On GitHub, the HTML representation is unable to render, please try loading this page with nbviewer.org.</b></div><div class=\"sk-container\" hidden><div class=\"sk-item\"><div class=\"sk-estimator sk-toggleable\"><input class=\"sk-toggleable__control sk-hidden--visually\" id=\"sk-estimator-id-1\" type=\"checkbox\" checked><label for=\"sk-estimator-id-1\" class=\"sk-toggleable__label sk-toggleable__label-arrow\">LinearRegression</label><div class=\"sk-toggleable__content\"><pre>LinearRegression()</pre></div></div></div></div></div>"
      ],
      "text/plain": [
       "LinearRegression()"
      ]
     },
     "execution_count": 5,
     "metadata": {},
     "output_type": "execute_result"
    }
   ],
   "source": [
    "lm = LinearRegression()\n",
    "lm"
   ]
  },
  {
   "cell_type": "markdown",
   "id": "d8998f28-3373-47e5-ab76-5a95ccaed1bc",
   "metadata": {},
   "source": [
    "<b>Cómo puede la variable \"highway-mpg\" ayudarnos a predecir el precio de un auto? </b>"
   ]
  },
  {
   "cell_type": "markdown",
   "id": "26e0f359-1af3-4b04-a98a-00387338ac52",
   "metadata": {},
   "source": [
    "Para este ejemplo, queremos analizar cómo la autonomía en carretera (highway-mpg) puede ayudarnos a predecir el precio del automóvil. Utilizando regresión lineal simple, crearemos una función lineal con \"highway-mpg\" como la variable predictora y el precio \"Price\" como la variable de respuesta/objetivo."
   ]
  },
  {
   "cell_type": "markdown",
   "id": "b3b23d1b-122c-4ea4-a2f1-8e12a6a99917",
   "metadata": {},
   "source": [
    "Para usar el módulo LinearRegression de scikit-learn, necesitas una matriz 2D para la variable independiente (X) y un arreglo 1D para la variable dependiente (Y).\n",
    "\n",
    "Al pasar una sola columna como variable independiente, debes usar doble corchete `[[ ]]` para crear un DataFrame en lugar de una serie, que es lo que obtendrías con un solo corchete."
   ]
  },
  {
   "cell_type": "code",
   "execution_count": 6,
   "id": "42d21615-910b-4d1b-8332-bf454df6d10a",
   "metadata": {},
   "outputs": [],
   "source": [
    "X = df[['highway-mpg']]\n",
    "Y = df['price']"
   ]
  },
  {
   "cell_type": "code",
   "execution_count": 7,
   "id": "49285567-604a-466b-8a68-a985685f935d",
   "metadata": {},
   "outputs": [
    {
     "name": "stdout",
     "output_type": "stream",
     "text": [
      "<class 'pandas.core.frame.DataFrame'>\n",
      "<class 'pandas.core.series.Series'>\n"
     ]
    }
   ],
   "source": [
    "print(type(X))\n",
    "print(type(Y))"
   ]
  },
  {
   "cell_type": "markdown",
   "id": "187832bf-88f6-4284-85fd-0f7f9722bd11",
   "metadata": {},
   "source": [
    "Ajusta el modelo lineal usando highway-mpg:"
   ]
  },
  {
   "cell_type": "code",
   "execution_count": 8,
   "id": "b0ce06ab-e2b0-421c-bc6c-4c4060d8322f",
   "metadata": {},
   "outputs": [
    {
     "data": {
      "text/html": [
       "<style>#sk-container-id-2 {color: black;background-color: white;}#sk-container-id-2 pre{padding: 0;}#sk-container-id-2 div.sk-toggleable {background-color: white;}#sk-container-id-2 label.sk-toggleable__label {cursor: pointer;display: block;width: 100%;margin-bottom: 0;padding: 0.3em;box-sizing: border-box;text-align: center;}#sk-container-id-2 label.sk-toggleable__label-arrow:before {content: \"▸\";float: left;margin-right: 0.25em;color: #696969;}#sk-container-id-2 label.sk-toggleable__label-arrow:hover:before {color: black;}#sk-container-id-2 div.sk-estimator:hover label.sk-toggleable__label-arrow:before {color: black;}#sk-container-id-2 div.sk-toggleable__content {max-height: 0;max-width: 0;overflow: hidden;text-align: left;background-color: #f0f8ff;}#sk-container-id-2 div.sk-toggleable__content pre {margin: 0.2em;color: black;border-radius: 0.25em;background-color: #f0f8ff;}#sk-container-id-2 input.sk-toggleable__control:checked~div.sk-toggleable__content {max-height: 200px;max-width: 100%;overflow: auto;}#sk-container-id-2 input.sk-toggleable__control:checked~label.sk-toggleable__label-arrow:before {content: \"▾\";}#sk-container-id-2 div.sk-estimator input.sk-toggleable__control:checked~label.sk-toggleable__label {background-color: #d4ebff;}#sk-container-id-2 div.sk-label input.sk-toggleable__control:checked~label.sk-toggleable__label {background-color: #d4ebff;}#sk-container-id-2 input.sk-hidden--visually {border: 0;clip: rect(1px 1px 1px 1px);clip: rect(1px, 1px, 1px, 1px);height: 1px;margin: -1px;overflow: hidden;padding: 0;position: absolute;width: 1px;}#sk-container-id-2 div.sk-estimator {font-family: monospace;background-color: #f0f8ff;border: 1px dotted black;border-radius: 0.25em;box-sizing: border-box;margin-bottom: 0.5em;}#sk-container-id-2 div.sk-estimator:hover {background-color: #d4ebff;}#sk-container-id-2 div.sk-parallel-item::after {content: \"\";width: 100%;border-bottom: 1px solid gray;flex-grow: 1;}#sk-container-id-2 div.sk-label:hover label.sk-toggleable__label {background-color: #d4ebff;}#sk-container-id-2 div.sk-serial::before {content: \"\";position: absolute;border-left: 1px solid gray;box-sizing: border-box;top: 0;bottom: 0;left: 50%;z-index: 0;}#sk-container-id-2 div.sk-serial {display: flex;flex-direction: column;align-items: center;background-color: white;padding-right: 0.2em;padding-left: 0.2em;position: relative;}#sk-container-id-2 div.sk-item {position: relative;z-index: 1;}#sk-container-id-2 div.sk-parallel {display: flex;align-items: stretch;justify-content: center;background-color: white;position: relative;}#sk-container-id-2 div.sk-item::before, #sk-container-id-2 div.sk-parallel-item::before {content: \"\";position: absolute;border-left: 1px solid gray;box-sizing: border-box;top: 0;bottom: 0;left: 50%;z-index: -1;}#sk-container-id-2 div.sk-parallel-item {display: flex;flex-direction: column;z-index: 1;position: relative;background-color: white;}#sk-container-id-2 div.sk-parallel-item:first-child::after {align-self: flex-end;width: 50%;}#sk-container-id-2 div.sk-parallel-item:last-child::after {align-self: flex-start;width: 50%;}#sk-container-id-2 div.sk-parallel-item:only-child::after {width: 0;}#sk-container-id-2 div.sk-dashed-wrapped {border: 1px dashed gray;margin: 0 0.4em 0.5em 0.4em;box-sizing: border-box;padding-bottom: 0.4em;background-color: white;}#sk-container-id-2 div.sk-label label {font-family: monospace;font-weight: bold;display: inline-block;line-height: 1.2em;}#sk-container-id-2 div.sk-label-container {text-align: center;}#sk-container-id-2 div.sk-container {/* jupyter's `normalize.less` sets `[hidden] { display: none; }` but bootstrap.min.css set `[hidden] { display: none !important; }` so we also need the `!important` here to be able to override the default hidden behavior on the sphinx rendered scikit-learn.org. See: https://github.com/scikit-learn/scikit-learn/issues/21755 */display: inline-block !important;position: relative;}#sk-container-id-2 div.sk-text-repr-fallback {display: none;}</style><div id=\"sk-container-id-2\" class=\"sk-top-container\"><div class=\"sk-text-repr-fallback\"><pre>LinearRegression()</pre><b>In a Jupyter environment, please rerun this cell to show the HTML representation or trust the notebook. <br />On GitHub, the HTML representation is unable to render, please try loading this page with nbviewer.org.</b></div><div class=\"sk-container\" hidden><div class=\"sk-item\"><div class=\"sk-estimator sk-toggleable\"><input class=\"sk-toggleable__control sk-hidden--visually\" id=\"sk-estimator-id-2\" type=\"checkbox\" checked><label for=\"sk-estimator-id-2\" class=\"sk-toggleable__label sk-toggleable__label-arrow\">LinearRegression</label><div class=\"sk-toggleable__content\"><pre>LinearRegression()</pre></div></div></div></div></div>"
      ],
      "text/plain": [
       "LinearRegression()"
      ]
     },
     "execution_count": 8,
     "metadata": {},
     "output_type": "execute_result"
    }
   ],
   "source": [
    "lm.fit(X,Y)"
   ]
  },
  {
   "cell_type": "markdown",
   "id": "9ee8877f-2d26-4ec4-ac00-3cad2c7bc0df",
   "metadata": {},
   "source": [
    "Podemos generar una predicción."
   ]
  },
  {
   "cell_type": "code",
   "execution_count": 9,
   "id": "f05f2168-3a24-437e-81dc-6ce2c13350a8",
   "metadata": {},
   "outputs": [
    {
     "data": {
      "text/plain": [
       "array([16236.50464347, 16236.50464347, 17058.23802179, 13771.3045085 ,\n",
       "       20345.17153508])"
      ]
     },
     "execution_count": 9,
     "metadata": {},
     "output_type": "execute_result"
    }
   ],
   "source": [
    "Yhat = lm.predict(X)\n",
    "Yhat[0:5]"
   ]
  },
  {
   "cell_type": "markdown",
   "id": "991c5ec3-e64b-44ec-9de2-6c1ab6ccf77a",
   "metadata": {},
   "source": [
    "<b>Cuál es el valor de la intersección (a)?</b>"
   ]
  },
  {
   "cell_type": "code",
   "execution_count": 10,
   "id": "ae727ad9-9803-4fc7-96e5-686c62d594fe",
   "metadata": {},
   "outputs": [
    {
     "data": {
      "text/plain": [
       "38423.3058581574"
      ]
     },
     "execution_count": 10,
     "metadata": {},
     "output_type": "execute_result"
    }
   ],
   "source": [
    "lm.intercept_"
   ]
  },
  {
   "cell_type": "markdown",
   "id": "a4a7e937-215b-45ad-a2e1-783f5a5b9bd4",
   "metadata": {},
   "source": [
    "<b> Cuál es el valor de la pendiente (b)?</b>"
   ]
  },
  {
   "cell_type": "code",
   "execution_count": 11,
   "id": "1a001f68-093f-4f05-bfc6-5d5ae4ae61e9",
   "metadata": {},
   "outputs": [
    {
     "data": {
      "text/plain": [
       "array([-821.73337832])"
      ]
     },
     "execution_count": 11,
     "metadata": {},
     "output_type": "execute_result"
    }
   ],
   "source": [
    "lm.coef_"
   ]
  },
  {
   "cell_type": "markdown",
   "id": "9500344e-476d-48bb-bf58-278bd2b77506",
   "metadata": {},
   "source": [
    "<b>Cuál es el modelo lineal estimado final que obtenemos?</b>"
   ]
  },
  {
   "cell_type": "markdown",
   "id": "2b235160-b9b5-4ecf-8ca6-c07c75510483",
   "metadata": {},
   "source": [
    "Como vimos antes, esperamos obtener un modelo lineal final con la estructura:"
   ]
  },
  {
   "cell_type": "markdown",
   "id": "85dcd53a-7867-42d3-80dc-1dd05af4a926",
   "metadata": {},
   "source": [
    "$$\n",
    "Yhat = a + b  X\n",
    "$$\n"
   ]
  },
  {
   "cell_type": "markdown",
   "id": "9008b327-4b24-4f56-a2fd-041bd7f36335",
   "metadata": {},
   "source": [
    "Al reemplazar los valores reales que obtuvimos:\n",
    "\n",
    "* a = 38423.31\n",
    "* b = -821.73\n",
    "* Yhat = variable a predecir `Price`\n",
    "* X = variable predictora `highway-mpg`"
   ]
  },
  {
   "cell_type": "markdown",
   "id": "53787572-f82b-4e89-bf3c-85cd6c2e3d58",
   "metadata": {},
   "source": [
    "<b>Price</b> = 38423.31 - 821.73 x <b>highway-mpg</b>"
   ]
  },
  {
   "cell_type": "code",
   "execution_count": 12,
   "id": "77f6ad7a-0bca-429c-aa38-e085ab9d7872",
   "metadata": {},
   "outputs": [],
   "source": [
    "Price=38423.31 - 821.73*df['highway-mpg']"
   ]
  },
  {
   "cell_type": "markdown",
   "id": "a4dc0621-0e3d-4f95-87d7-0d0d2f48e5fe",
   "metadata": {},
   "source": [
    "Creemos otra regresión lineal esta vez tomando otra variable predictora."
   ]
  },
  {
   "cell_type": "code",
   "execution_count": 13,
   "id": "b3c3eedc-1c09-4700-a7fa-150462c1787f",
   "metadata": {},
   "outputs": [
    {
     "data": {
      "text/html": [
       "<style>#sk-container-id-3 {color: black;background-color: white;}#sk-container-id-3 pre{padding: 0;}#sk-container-id-3 div.sk-toggleable {background-color: white;}#sk-container-id-3 label.sk-toggleable__label {cursor: pointer;display: block;width: 100%;margin-bottom: 0;padding: 0.3em;box-sizing: border-box;text-align: center;}#sk-container-id-3 label.sk-toggleable__label-arrow:before {content: \"▸\";float: left;margin-right: 0.25em;color: #696969;}#sk-container-id-3 label.sk-toggleable__label-arrow:hover:before {color: black;}#sk-container-id-3 div.sk-estimator:hover label.sk-toggleable__label-arrow:before {color: black;}#sk-container-id-3 div.sk-toggleable__content {max-height: 0;max-width: 0;overflow: hidden;text-align: left;background-color: #f0f8ff;}#sk-container-id-3 div.sk-toggleable__content pre {margin: 0.2em;color: black;border-radius: 0.25em;background-color: #f0f8ff;}#sk-container-id-3 input.sk-toggleable__control:checked~div.sk-toggleable__content {max-height: 200px;max-width: 100%;overflow: auto;}#sk-container-id-3 input.sk-toggleable__control:checked~label.sk-toggleable__label-arrow:before {content: \"▾\";}#sk-container-id-3 div.sk-estimator input.sk-toggleable__control:checked~label.sk-toggleable__label {background-color: #d4ebff;}#sk-container-id-3 div.sk-label input.sk-toggleable__control:checked~label.sk-toggleable__label {background-color: #d4ebff;}#sk-container-id-3 input.sk-hidden--visually {border: 0;clip: rect(1px 1px 1px 1px);clip: rect(1px, 1px, 1px, 1px);height: 1px;margin: -1px;overflow: hidden;padding: 0;position: absolute;width: 1px;}#sk-container-id-3 div.sk-estimator {font-family: monospace;background-color: #f0f8ff;border: 1px dotted black;border-radius: 0.25em;box-sizing: border-box;margin-bottom: 0.5em;}#sk-container-id-3 div.sk-estimator:hover {background-color: #d4ebff;}#sk-container-id-3 div.sk-parallel-item::after {content: \"\";width: 100%;border-bottom: 1px solid gray;flex-grow: 1;}#sk-container-id-3 div.sk-label:hover label.sk-toggleable__label {background-color: #d4ebff;}#sk-container-id-3 div.sk-serial::before {content: \"\";position: absolute;border-left: 1px solid gray;box-sizing: border-box;top: 0;bottom: 0;left: 50%;z-index: 0;}#sk-container-id-3 div.sk-serial {display: flex;flex-direction: column;align-items: center;background-color: white;padding-right: 0.2em;padding-left: 0.2em;position: relative;}#sk-container-id-3 div.sk-item {position: relative;z-index: 1;}#sk-container-id-3 div.sk-parallel {display: flex;align-items: stretch;justify-content: center;background-color: white;position: relative;}#sk-container-id-3 div.sk-item::before, #sk-container-id-3 div.sk-parallel-item::before {content: \"\";position: absolute;border-left: 1px solid gray;box-sizing: border-box;top: 0;bottom: 0;left: 50%;z-index: -1;}#sk-container-id-3 div.sk-parallel-item {display: flex;flex-direction: column;z-index: 1;position: relative;background-color: white;}#sk-container-id-3 div.sk-parallel-item:first-child::after {align-self: flex-end;width: 50%;}#sk-container-id-3 div.sk-parallel-item:last-child::after {align-self: flex-start;width: 50%;}#sk-container-id-3 div.sk-parallel-item:only-child::after {width: 0;}#sk-container-id-3 div.sk-dashed-wrapped {border: 1px dashed gray;margin: 0 0.4em 0.5em 0.4em;box-sizing: border-box;padding-bottom: 0.4em;background-color: white;}#sk-container-id-3 div.sk-label label {font-family: monospace;font-weight: bold;display: inline-block;line-height: 1.2em;}#sk-container-id-3 div.sk-label-container {text-align: center;}#sk-container-id-3 div.sk-container {/* jupyter's `normalize.less` sets `[hidden] { display: none; }` but bootstrap.min.css set `[hidden] { display: none !important; }` so we also need the `!important` here to be able to override the default hidden behavior on the sphinx rendered scikit-learn.org. See: https://github.com/scikit-learn/scikit-learn/issues/21755 */display: inline-block !important;position: relative;}#sk-container-id-3 div.sk-text-repr-fallback {display: none;}</style><div id=\"sk-container-id-3\" class=\"sk-top-container\"><div class=\"sk-text-repr-fallback\"><pre>LinearRegression()</pre><b>In a Jupyter environment, please rerun this cell to show the HTML representation or trust the notebook. <br />On GitHub, the HTML representation is unable to render, please try loading this page with nbviewer.org.</b></div><div class=\"sk-container\" hidden><div class=\"sk-item\"><div class=\"sk-estimator sk-toggleable\"><input class=\"sk-toggleable__control sk-hidden--visually\" id=\"sk-estimator-id-3\" type=\"checkbox\" checked><label for=\"sk-estimator-id-3\" class=\"sk-toggleable__label sk-toggleable__label-arrow\">LinearRegression</label><div class=\"sk-toggleable__content\"><pre>LinearRegression()</pre></div></div></div></div></div>"
      ],
      "text/plain": [
       "LinearRegression()"
      ]
     },
     "execution_count": 13,
     "metadata": {},
     "output_type": "execute_result"
    }
   ],
   "source": [
    "lm1 = LinearRegression()\n",
    "lm1"
   ]
  },
  {
   "cell_type": "markdown",
   "id": "6c15725f-bf73-46d7-8561-dcc9f30487a5",
   "metadata": {},
   "source": [
    "Entrenemos al modelo usando como variable predictora/independiete \"engine-size\" y \"price\" como variable dependiente."
   ]
  },
  {
   "cell_type": "code",
   "execution_count": 14,
   "id": "79d1aaa8-349c-4232-989e-9591aa16b991",
   "metadata": {},
   "outputs": [],
   "source": [
    "X = df[['engine-size']]\n",
    "Y = df['price']"
   ]
  },
  {
   "cell_type": "code",
   "execution_count": 15,
   "id": "13e0cda7-7f0b-44d4-a5da-a53cd1b4cdb3",
   "metadata": {},
   "outputs": [
    {
     "data": {
      "text/html": [
       "<style>#sk-container-id-4 {color: black;background-color: white;}#sk-container-id-4 pre{padding: 0;}#sk-container-id-4 div.sk-toggleable {background-color: white;}#sk-container-id-4 label.sk-toggleable__label {cursor: pointer;display: block;width: 100%;margin-bottom: 0;padding: 0.3em;box-sizing: border-box;text-align: center;}#sk-container-id-4 label.sk-toggleable__label-arrow:before {content: \"▸\";float: left;margin-right: 0.25em;color: #696969;}#sk-container-id-4 label.sk-toggleable__label-arrow:hover:before {color: black;}#sk-container-id-4 div.sk-estimator:hover label.sk-toggleable__label-arrow:before {color: black;}#sk-container-id-4 div.sk-toggleable__content {max-height: 0;max-width: 0;overflow: hidden;text-align: left;background-color: #f0f8ff;}#sk-container-id-4 div.sk-toggleable__content pre {margin: 0.2em;color: black;border-radius: 0.25em;background-color: #f0f8ff;}#sk-container-id-4 input.sk-toggleable__control:checked~div.sk-toggleable__content {max-height: 200px;max-width: 100%;overflow: auto;}#sk-container-id-4 input.sk-toggleable__control:checked~label.sk-toggleable__label-arrow:before {content: \"▾\";}#sk-container-id-4 div.sk-estimator input.sk-toggleable__control:checked~label.sk-toggleable__label {background-color: #d4ebff;}#sk-container-id-4 div.sk-label input.sk-toggleable__control:checked~label.sk-toggleable__label {background-color: #d4ebff;}#sk-container-id-4 input.sk-hidden--visually {border: 0;clip: rect(1px 1px 1px 1px);clip: rect(1px, 1px, 1px, 1px);height: 1px;margin: -1px;overflow: hidden;padding: 0;position: absolute;width: 1px;}#sk-container-id-4 div.sk-estimator {font-family: monospace;background-color: #f0f8ff;border: 1px dotted black;border-radius: 0.25em;box-sizing: border-box;margin-bottom: 0.5em;}#sk-container-id-4 div.sk-estimator:hover {background-color: #d4ebff;}#sk-container-id-4 div.sk-parallel-item::after {content: \"\";width: 100%;border-bottom: 1px solid gray;flex-grow: 1;}#sk-container-id-4 div.sk-label:hover label.sk-toggleable__label {background-color: #d4ebff;}#sk-container-id-4 div.sk-serial::before {content: \"\";position: absolute;border-left: 1px solid gray;box-sizing: border-box;top: 0;bottom: 0;left: 50%;z-index: 0;}#sk-container-id-4 div.sk-serial {display: flex;flex-direction: column;align-items: center;background-color: white;padding-right: 0.2em;padding-left: 0.2em;position: relative;}#sk-container-id-4 div.sk-item {position: relative;z-index: 1;}#sk-container-id-4 div.sk-parallel {display: flex;align-items: stretch;justify-content: center;background-color: white;position: relative;}#sk-container-id-4 div.sk-item::before, #sk-container-id-4 div.sk-parallel-item::before {content: \"\";position: absolute;border-left: 1px solid gray;box-sizing: border-box;top: 0;bottom: 0;left: 50%;z-index: -1;}#sk-container-id-4 div.sk-parallel-item {display: flex;flex-direction: column;z-index: 1;position: relative;background-color: white;}#sk-container-id-4 div.sk-parallel-item:first-child::after {align-self: flex-end;width: 50%;}#sk-container-id-4 div.sk-parallel-item:last-child::after {align-self: flex-start;width: 50%;}#sk-container-id-4 div.sk-parallel-item:only-child::after {width: 0;}#sk-container-id-4 div.sk-dashed-wrapped {border: 1px dashed gray;margin: 0 0.4em 0.5em 0.4em;box-sizing: border-box;padding-bottom: 0.4em;background-color: white;}#sk-container-id-4 div.sk-label label {font-family: monospace;font-weight: bold;display: inline-block;line-height: 1.2em;}#sk-container-id-4 div.sk-label-container {text-align: center;}#sk-container-id-4 div.sk-container {/* jupyter's `normalize.less` sets `[hidden] { display: none; }` but bootstrap.min.css set `[hidden] { display: none !important; }` so we also need the `!important` here to be able to override the default hidden behavior on the sphinx rendered scikit-learn.org. See: https://github.com/scikit-learn/scikit-learn/issues/21755 */display: inline-block !important;position: relative;}#sk-container-id-4 div.sk-text-repr-fallback {display: none;}</style><div id=\"sk-container-id-4\" class=\"sk-top-container\"><div class=\"sk-text-repr-fallback\"><pre>LinearRegression()</pre><b>In a Jupyter environment, please rerun this cell to show the HTML representation or trust the notebook. <br />On GitHub, the HTML representation is unable to render, please try loading this page with nbviewer.org.</b></div><div class=\"sk-container\" hidden><div class=\"sk-item\"><div class=\"sk-estimator sk-toggleable\"><input class=\"sk-toggleable__control sk-hidden--visually\" id=\"sk-estimator-id-4\" type=\"checkbox\" checked><label for=\"sk-estimator-id-4\" class=\"sk-toggleable__label sk-toggleable__label-arrow\">LinearRegression</label><div class=\"sk-toggleable__content\"><pre>LinearRegression()</pre></div></div></div></div></div>"
      ],
      "text/plain": [
       "LinearRegression()"
      ]
     },
     "execution_count": 15,
     "metadata": {},
     "output_type": "execute_result"
    }
   ],
   "source": [
    "lm1.fit(X,Y)"
   ]
  },
  {
   "cell_type": "markdown",
   "id": "36eaeca6-cf97-49a8-9bec-12a6add4659c",
   "metadata": {},
   "source": [
    "Generamos la predicción."
   ]
  },
  {
   "cell_type": "code",
   "execution_count": 16,
   "id": "a3aa7ece-938e-46df-9582-2b3c265189b2",
   "metadata": {},
   "outputs": [
    {
     "data": {
      "text/plain": [
       "array([13728.4631336 , 13728.4631336 , 17399.38347881, 10224.40280408,\n",
       "       14729.62322775])"
      ]
     },
     "execution_count": 16,
     "metadata": {},
     "output_type": "execute_result"
    }
   ],
   "source": [
    "Yhat = lm1.predict(X)\n",
    "Yhat[:5]"
   ]
  },
  {
   "cell_type": "markdown",
   "id": "6bf53818-c9a8-4b02-80fa-b54d8a110bd4",
   "metadata": {},
   "source": [
    "Valor de interseccion a."
   ]
  },
  {
   "cell_type": "code",
   "execution_count": 17,
   "id": "b455002d-c33e-4149-a85f-f866a4ad4852",
   "metadata": {},
   "outputs": [
    {
     "data": {
      "text/plain": [
       "-7963.338906281046"
      ]
     },
     "execution_count": 17,
     "metadata": {},
     "output_type": "execute_result"
    }
   ],
   "source": [
    "lm1.intercept_"
   ]
  },
  {
   "cell_type": "markdown",
   "id": "0042f5f8-afe7-4d37-87d8-a96de71ca02d",
   "metadata": {},
   "source": [
    "Valor de la pendiente b."
   ]
  },
  {
   "cell_type": "code",
   "execution_count": 18,
   "id": "b9bc5113-e41e-4217-b628-414192deaec2",
   "metadata": {},
   "outputs": [
    {
     "data": {
      "text/plain": [
       "array([166.86001569])"
      ]
     },
     "execution_count": 18,
     "metadata": {},
     "output_type": "execute_result"
    }
   ],
   "source": [
    "lm1.coef_"
   ]
  },
  {
   "cell_type": "markdown",
   "id": "4a6cd5f8-8abb-40f7-9599-c4635525a899",
   "metadata": {},
   "source": [
    "El modelo final quedaría:\n",
    "\n",
    "<b>Price</b> = -7963.33 - 166.86 x <b>engine-size</b>"
   ]
  },
  {
   "cell_type": "code",
   "execution_count": 19,
   "id": "be23d0b0-7788-447d-9112-f9db4b54f239",
   "metadata": {},
   "outputs": [],
   "source": [
    "Price=-7963.34 + 166.86*df['engine-size']"
   ]
  },
  {
   "cell_type": "markdown",
   "id": "f4bf470c-67a9-43fe-9848-d990488b4abf",
   "metadata": {},
   "source": [
    "## Regresión lineal multiple"
   ]
  },
  {
   "cell_type": "markdown",
   "id": "b7430a7e-b1af-4f15-b8b6-650acb15fbd7",
   "metadata": {},
   "source": [
    "¿Y si queremos predecir el precio del automóvil usando más de una variable?\n",
    "\n",
    "Si queremos utilizar más variables en nuestro modelo para predecir el precio del automóvil, podemos utilizar la Regresión Lineal Múltiple. La Regresión Lineal Múltiple es muy similar a la Regresión Lineal Simple, pero este método se utiliza para explicar la relación entre una variable de respuesta continua (dependiente) y dos o más variables predictoras (independientes). La mayoría de los modelos de regresión del mundo real involucran múltiples predictores. Ilustraremos la estructura utilizando cuatro variables predictoras, pero estos resultados pueden generalizarse a cualquier entero:"
   ]
  },
  {
   "cell_type": "markdown",
   "id": "e9cf2928-a39f-4917-8681-e977f25180e7",
   "metadata": {},
   "source": [
    "$$\n",
    "Y: Response \\ Variable\\\\\\\\\\\\\n",
    "X_1 :Predictor\\ Variable \\ 1\\\\\\\\\n",
    "X_2: Predictor\\ Variable \\ 2\\\\\\\\\n",
    "X_3: Predictor\\ Variable \\ 3\\\\\\\\\n",
    "X_4: Predictor\\ Variable \\ 4\\\\\\\\\n",
    "$$"
   ]
  },
  {
   "cell_type": "markdown",
   "id": "04d7d399-116b-4229-98e6-ded8ace36b3d",
   "metadata": {},
   "source": [
    "$$\n",
    "a: intercept\\\\\\\\\\\\\n",
    "b_1 :coefficients \\ of\\ Variable \\ 1\\\\\\\\\n",
    "b_2: coefficients \\ of\\ Variable \\ 2\\\\\\\\\n",
    "b_3: coefficients \\ of\\ Variable \\ 3\\\\\\\\\n",
    "b_4: coefficients \\ of\\ Variable \\ 4\\\\\\\\\n",
    "$$\n"
   ]
  },
  {
   "cell_type": "markdown",
   "id": "007d4f6f-a7b6-4cde-bddd-f512518afe21",
   "metadata": {},
   "source": [
    "La ecuación esta dada por:"
   ]
  },
  {
   "cell_type": "markdown",
   "id": "3163e970-a590-4949-9851-fde69e0f7e7d",
   "metadata": {},
   "source": [
    "$$\n",
    "Yhat = a + b_1 X_1 + b_2 X_2 + b_3 X_3 + b_4 X_4\n",
    "$$\n"
   ]
  },
  {
   "cell_type": "markdown",
   "id": "fb28e7ee-cbb3-4f16-b07c-5cf7288fa454",
   "metadata": {},
   "source": [
    "En anteriores secciones conocimos que las siguientes variables eran buenas candidatas para predecir el precio del automóvil:mpg"
   ]
  },
  {
   "cell_type": "markdown",
   "id": "944ca4fb-d140-4989-a208-98a5bebc84cc",
   "metadata": {},
   "source": [
    "\n",
    "* Horsepower\n",
    "* Curb-weight\n",
    "* Engine-size\n",
    "* Highway-mpg"
   ]
  },
  {
   "cell_type": "markdown",
   "id": "0584d575-4277-4bac-8769-a8e6ef6416a7",
   "metadata": {},
   "source": [
    "Vamos a diseñar un modelo usando esas variables como predicadores es decir variables independientes."
   ]
  },
  {
   "cell_type": "code",
   "execution_count": 20,
   "id": "459fafbc-7323-490b-b712-85be1bb95ce0",
   "metadata": {},
   "outputs": [],
   "source": [
    "Z = df[['horsepower', 'curb-weight', 'engine-size', 'highway-mpg']]"
   ]
  },
  {
   "cell_type": "markdown",
   "id": "65619ec8-3185-4cba-b0c0-acb32e10a0f5",
   "metadata": {},
   "source": [
    "Ajustar el modelo lineal usando las cuatro variables anteriores."
   ]
  },
  {
   "cell_type": "code",
   "execution_count": 21,
   "id": "74cb671a-5ef8-48eb-8de6-ed67ac4fc4b0",
   "metadata": {},
   "outputs": [
    {
     "data": {
      "text/html": [
       "<style>#sk-container-id-5 {color: black;background-color: white;}#sk-container-id-5 pre{padding: 0;}#sk-container-id-5 div.sk-toggleable {background-color: white;}#sk-container-id-5 label.sk-toggleable__label {cursor: pointer;display: block;width: 100%;margin-bottom: 0;padding: 0.3em;box-sizing: border-box;text-align: center;}#sk-container-id-5 label.sk-toggleable__label-arrow:before {content: \"▸\";float: left;margin-right: 0.25em;color: #696969;}#sk-container-id-5 label.sk-toggleable__label-arrow:hover:before {color: black;}#sk-container-id-5 div.sk-estimator:hover label.sk-toggleable__label-arrow:before {color: black;}#sk-container-id-5 div.sk-toggleable__content {max-height: 0;max-width: 0;overflow: hidden;text-align: left;background-color: #f0f8ff;}#sk-container-id-5 div.sk-toggleable__content pre {margin: 0.2em;color: black;border-radius: 0.25em;background-color: #f0f8ff;}#sk-container-id-5 input.sk-toggleable__control:checked~div.sk-toggleable__content {max-height: 200px;max-width: 100%;overflow: auto;}#sk-container-id-5 input.sk-toggleable__control:checked~label.sk-toggleable__label-arrow:before {content: \"▾\";}#sk-container-id-5 div.sk-estimator input.sk-toggleable__control:checked~label.sk-toggleable__label {background-color: #d4ebff;}#sk-container-id-5 div.sk-label input.sk-toggleable__control:checked~label.sk-toggleable__label {background-color: #d4ebff;}#sk-container-id-5 input.sk-hidden--visually {border: 0;clip: rect(1px 1px 1px 1px);clip: rect(1px, 1px, 1px, 1px);height: 1px;margin: -1px;overflow: hidden;padding: 0;position: absolute;width: 1px;}#sk-container-id-5 div.sk-estimator {font-family: monospace;background-color: #f0f8ff;border: 1px dotted black;border-radius: 0.25em;box-sizing: border-box;margin-bottom: 0.5em;}#sk-container-id-5 div.sk-estimator:hover {background-color: #d4ebff;}#sk-container-id-5 div.sk-parallel-item::after {content: \"\";width: 100%;border-bottom: 1px solid gray;flex-grow: 1;}#sk-container-id-5 div.sk-label:hover label.sk-toggleable__label {background-color: #d4ebff;}#sk-container-id-5 div.sk-serial::before {content: \"\";position: absolute;border-left: 1px solid gray;box-sizing: border-box;top: 0;bottom: 0;left: 50%;z-index: 0;}#sk-container-id-5 div.sk-serial {display: flex;flex-direction: column;align-items: center;background-color: white;padding-right: 0.2em;padding-left: 0.2em;position: relative;}#sk-container-id-5 div.sk-item {position: relative;z-index: 1;}#sk-container-id-5 div.sk-parallel {display: flex;align-items: stretch;justify-content: center;background-color: white;position: relative;}#sk-container-id-5 div.sk-item::before, #sk-container-id-5 div.sk-parallel-item::before {content: \"\";position: absolute;border-left: 1px solid gray;box-sizing: border-box;top: 0;bottom: 0;left: 50%;z-index: -1;}#sk-container-id-5 div.sk-parallel-item {display: flex;flex-direction: column;z-index: 1;position: relative;background-color: white;}#sk-container-id-5 div.sk-parallel-item:first-child::after {align-self: flex-end;width: 50%;}#sk-container-id-5 div.sk-parallel-item:last-child::after {align-self: flex-start;width: 50%;}#sk-container-id-5 div.sk-parallel-item:only-child::after {width: 0;}#sk-container-id-5 div.sk-dashed-wrapped {border: 1px dashed gray;margin: 0 0.4em 0.5em 0.4em;box-sizing: border-box;padding-bottom: 0.4em;background-color: white;}#sk-container-id-5 div.sk-label label {font-family: monospace;font-weight: bold;display: inline-block;line-height: 1.2em;}#sk-container-id-5 div.sk-label-container {text-align: center;}#sk-container-id-5 div.sk-container {/* jupyter's `normalize.less` sets `[hidden] { display: none; }` but bootstrap.min.css set `[hidden] { display: none !important; }` so we also need the `!important` here to be able to override the default hidden behavior on the sphinx rendered scikit-learn.org. See: https://github.com/scikit-learn/scikit-learn/issues/21755 */display: inline-block !important;position: relative;}#sk-container-id-5 div.sk-text-repr-fallback {display: none;}</style><div id=\"sk-container-id-5\" class=\"sk-top-container\"><div class=\"sk-text-repr-fallback\"><pre>LinearRegression()</pre><b>In a Jupyter environment, please rerun this cell to show the HTML representation or trust the notebook. <br />On GitHub, the HTML representation is unable to render, please try loading this page with nbviewer.org.</b></div><div class=\"sk-container\" hidden><div class=\"sk-item\"><div class=\"sk-estimator sk-toggleable\"><input class=\"sk-toggleable__control sk-hidden--visually\" id=\"sk-estimator-id-5\" type=\"checkbox\" checked><label for=\"sk-estimator-id-5\" class=\"sk-toggleable__label sk-toggleable__label-arrow\">LinearRegression</label><div class=\"sk-toggleable__content\"><pre>LinearRegression()</pre></div></div></div></div></div>"
      ],
      "text/plain": [
       "LinearRegression()"
      ]
     },
     "execution_count": 21,
     "metadata": {},
     "output_type": "execute_result"
    }
   ],
   "source": [
    "lm.fit(Z, df['price'])"
   ]
  },
  {
   "cell_type": "markdown",
   "id": "8b3b5616-a302-45ec-8d9f-9983476ccc60",
   "metadata": {},
   "source": [
    "Valor de la intercepción a."
   ]
  },
  {
   "cell_type": "code",
   "execution_count": 22,
   "id": "1da7c1d6-c3c0-435c-ad66-9ce87f185a72",
   "metadata": {},
   "outputs": [
    {
     "data": {
      "text/plain": [
       "-15806.624626329194"
      ]
     },
     "execution_count": 22,
     "metadata": {},
     "output_type": "execute_result"
    }
   ],
   "source": [
    "lm.intercept_"
   ]
  },
  {
   "cell_type": "markdown",
   "id": "1173551e-084b-4f24-b2b5-218aec0231d2",
   "metadata": {},
   "source": [
    "Valores de las pendientes b1,b2,b3,b4."
   ]
  },
  {
   "cell_type": "code",
   "execution_count": 23,
   "id": "ce65512d-42ca-45d5-b854-5c54dfb6763d",
   "metadata": {},
   "outputs": [
    {
     "data": {
      "text/plain": [
       "array([53.49574423,  4.70770099, 81.53026382, 36.05748882])"
      ]
     },
     "execution_count": 23,
     "metadata": {},
     "output_type": "execute_result"
    }
   ],
   "source": [
    "lm.coef_"
   ]
  },
  {
   "cell_type": "markdown",
   "id": "395a4abd-66d2-420a-bbc4-14edd9993985",
   "metadata": {},
   "source": [
    "Valores estimado del modelo.\n",
    "Recordando que la estructura de la función lineal múltiple es:\n",
    "\n",
    "$$\n",
    "Yhat = a + b_1 X_1 + b_2 X_2 + b_3 X_3 + b_4 X_4\n",
    "$$"
   ]
  },
  {
   "cell_type": "markdown",
   "id": "78d26c0c-8d2f-4171-a59c-54c0ffd9df31",
   "metadata": {},
   "source": [
    "<b>Price</b> = -15806.62 + 53.49 x <b>horsepower</b> + 4.70 x <b>curb-weight</b> + 81.53 x <b>engine-size</b> + 36.05 x <b>highway-mpg</b>"
   ]
  },
  {
   "cell_type": "markdown",
   "id": "af286d9e-f327-4047-ab4e-2a1d70c2f61a",
   "metadata": {},
   "source": [
    "Creemos un modelo de regresión lineal multiple usando como variables predictoras \"normalized-losses\" y \"highway-mpg\"."
   ]
  },
  {
   "cell_type": "code",
   "execution_count": 24,
   "id": "c458ff6c-6c56-4a1c-a1a0-ad225d5ccdd4",
   "metadata": {},
   "outputs": [
    {
     "data": {
      "text/html": [
       "<style>#sk-container-id-6 {color: black;background-color: white;}#sk-container-id-6 pre{padding: 0;}#sk-container-id-6 div.sk-toggleable {background-color: white;}#sk-container-id-6 label.sk-toggleable__label {cursor: pointer;display: block;width: 100%;margin-bottom: 0;padding: 0.3em;box-sizing: border-box;text-align: center;}#sk-container-id-6 label.sk-toggleable__label-arrow:before {content: \"▸\";float: left;margin-right: 0.25em;color: #696969;}#sk-container-id-6 label.sk-toggleable__label-arrow:hover:before {color: black;}#sk-container-id-6 div.sk-estimator:hover label.sk-toggleable__label-arrow:before {color: black;}#sk-container-id-6 div.sk-toggleable__content {max-height: 0;max-width: 0;overflow: hidden;text-align: left;background-color: #f0f8ff;}#sk-container-id-6 div.sk-toggleable__content pre {margin: 0.2em;color: black;border-radius: 0.25em;background-color: #f0f8ff;}#sk-container-id-6 input.sk-toggleable__control:checked~div.sk-toggleable__content {max-height: 200px;max-width: 100%;overflow: auto;}#sk-container-id-6 input.sk-toggleable__control:checked~label.sk-toggleable__label-arrow:before {content: \"▾\";}#sk-container-id-6 div.sk-estimator input.sk-toggleable__control:checked~label.sk-toggleable__label {background-color: #d4ebff;}#sk-container-id-6 div.sk-label input.sk-toggleable__control:checked~label.sk-toggleable__label {background-color: #d4ebff;}#sk-container-id-6 input.sk-hidden--visually {border: 0;clip: rect(1px 1px 1px 1px);clip: rect(1px, 1px, 1px, 1px);height: 1px;margin: -1px;overflow: hidden;padding: 0;position: absolute;width: 1px;}#sk-container-id-6 div.sk-estimator {font-family: monospace;background-color: #f0f8ff;border: 1px dotted black;border-radius: 0.25em;box-sizing: border-box;margin-bottom: 0.5em;}#sk-container-id-6 div.sk-estimator:hover {background-color: #d4ebff;}#sk-container-id-6 div.sk-parallel-item::after {content: \"\";width: 100%;border-bottom: 1px solid gray;flex-grow: 1;}#sk-container-id-6 div.sk-label:hover label.sk-toggleable__label {background-color: #d4ebff;}#sk-container-id-6 div.sk-serial::before {content: \"\";position: absolute;border-left: 1px solid gray;box-sizing: border-box;top: 0;bottom: 0;left: 50%;z-index: 0;}#sk-container-id-6 div.sk-serial {display: flex;flex-direction: column;align-items: center;background-color: white;padding-right: 0.2em;padding-left: 0.2em;position: relative;}#sk-container-id-6 div.sk-item {position: relative;z-index: 1;}#sk-container-id-6 div.sk-parallel {display: flex;align-items: stretch;justify-content: center;background-color: white;position: relative;}#sk-container-id-6 div.sk-item::before, #sk-container-id-6 div.sk-parallel-item::before {content: \"\";position: absolute;border-left: 1px solid gray;box-sizing: border-box;top: 0;bottom: 0;left: 50%;z-index: -1;}#sk-container-id-6 div.sk-parallel-item {display: flex;flex-direction: column;z-index: 1;position: relative;background-color: white;}#sk-container-id-6 div.sk-parallel-item:first-child::after {align-self: flex-end;width: 50%;}#sk-container-id-6 div.sk-parallel-item:last-child::after {align-self: flex-start;width: 50%;}#sk-container-id-6 div.sk-parallel-item:only-child::after {width: 0;}#sk-container-id-6 div.sk-dashed-wrapped {border: 1px dashed gray;margin: 0 0.4em 0.5em 0.4em;box-sizing: border-box;padding-bottom: 0.4em;background-color: white;}#sk-container-id-6 div.sk-label label {font-family: monospace;font-weight: bold;display: inline-block;line-height: 1.2em;}#sk-container-id-6 div.sk-label-container {text-align: center;}#sk-container-id-6 div.sk-container {/* jupyter's `normalize.less` sets `[hidden] { display: none; }` but bootstrap.min.css set `[hidden] { display: none !important; }` so we also need the `!important` here to be able to override the default hidden behavior on the sphinx rendered scikit-learn.org. See: https://github.com/scikit-learn/scikit-learn/issues/21755 */display: inline-block !important;position: relative;}#sk-container-id-6 div.sk-text-repr-fallback {display: none;}</style><div id=\"sk-container-id-6\" class=\"sk-top-container\"><div class=\"sk-text-repr-fallback\"><pre>LinearRegression()</pre><b>In a Jupyter environment, please rerun this cell to show the HTML representation or trust the notebook. <br />On GitHub, the HTML representation is unable to render, please try loading this page with nbviewer.org.</b></div><div class=\"sk-container\" hidden><div class=\"sk-item\"><div class=\"sk-estimator sk-toggleable\"><input class=\"sk-toggleable__control sk-hidden--visually\" id=\"sk-estimator-id-6\" type=\"checkbox\" checked><label for=\"sk-estimator-id-6\" class=\"sk-toggleable__label sk-toggleable__label-arrow\">LinearRegression</label><div class=\"sk-toggleable__content\"><pre>LinearRegression()</pre></div></div></div></div></div>"
      ],
      "text/plain": [
       "LinearRegression()"
      ]
     },
     "execution_count": 24,
     "metadata": {},
     "output_type": "execute_result"
    }
   ],
   "source": [
    "lm2 = LinearRegression()\n",
    "lm2.fit(df[['normalized-losses','highway-mpg']],df['price'])"
   ]
  },
  {
   "cell_type": "markdown",
   "id": "a224f7da-0283-48d7-8a54-b6705592d68a",
   "metadata": {},
   "source": [
    "Valor de la pendiente b1,b2."
   ]
  },
  {
   "cell_type": "code",
   "execution_count": 25,
   "id": "229f1264-7c49-47fa-aaa6-2a7e92d4ccd3",
   "metadata": {},
   "outputs": [
    {
     "data": {
      "text/plain": [
       "array([   1.49789586, -820.45434016])"
      ]
     },
     "execution_count": 25,
     "metadata": {},
     "output_type": "execute_result"
    }
   ],
   "source": [
    "lm2.coef_"
   ]
  },
  {
   "cell_type": "markdown",
   "id": "ca0c2d55-d338-4dc5-9ba3-21552845858d",
   "metadata": {},
   "source": [
    "Valor de la intercepción a."
   ]
  },
  {
   "cell_type": "code",
   "execution_count": 26,
   "id": "4f7ab479-10e8-496a-8268-0da7b1748bc5",
   "metadata": {},
   "outputs": [
    {
     "data": {
      "text/plain": [
       "38201.31327245728"
      ]
     },
     "execution_count": 26,
     "metadata": {},
     "output_type": "execute_result"
    }
   ],
   "source": [
    "lm2.intercept_"
   ]
  },
  {
   "cell_type": "markdown",
   "id": "bf55155b-ac63-4f11-8068-6ce48abc1ae9",
   "metadata": {},
   "source": [
    "El valor estimado del modelo lineal multiple final quedaría: "
   ]
  },
  {
   "cell_type": "markdown",
   "id": "9673a15d-6112-46e2-a6ea-ef850f7cf2e2",
   "metadata": {},
   "source": [
    "<b>Price</b> = 38201.313 + 1.497 x <b>normalized-losses</b> - 820.454 x <b>highway-mpg</b>"
   ]
  },
  {
   "cell_type": "markdown",
   "id": "bdfe3a03-a2e3-456f-a3d3-6a016c1e975d",
   "metadata": {},
   "source": [
    "## Evaluación de modelo mediante visualización"
   ]
  },
  {
   "cell_type": "markdown",
   "id": "f0a499c9-9126-4506-8a5b-793739ef9e45",
   "metadata": {},
   "source": [
    "Ahora que hemos desarrollado algunos modelos, ¿cómo evaluamos nuestros modelos y elegimos el mejor? Una forma de hacerlo es mediante el uso de una visualización."
   ]
  },
  {
   "cell_type": "markdown",
   "id": "c4a1d312-a03f-4238-937f-e3985e8a6c08",
   "metadata": {},
   "source": [
    "Importamos el paquete de visualización, Seaborn."
   ]
  },
  {
   "cell_type": "code",
   "execution_count": 27,
   "id": "95583429-de6e-4eb2-b34f-ea799afe87f1",
   "metadata": {},
   "outputs": [],
   "source": [
    "import seaborn as sns"
   ]
  },
  {
   "cell_type": "markdown",
   "id": "ee83d6e1-ce0f-401c-bc99-b6f62d8c9497",
   "metadata": {},
   "source": [
    "### Gráfica de regresión"
   ]
  },
  {
   "cell_type": "markdown",
   "id": "c5b70cdd-c038-4173-95a6-0781235a8bbe",
   "metadata": {},
   "source": [
    "Cuando se trata de regresión lineal simple, una excelente manera de visualizar el ajuste de nuestro modelo es mediante el uso de gráficos de regresión.\n",
    "\n",
    "Este gráfico mostrará una combinación de puntos de datos dispersos (un gráfico de dispersión), así como la línea de regresión lineal ajustada que atraviesa los datos. Esto nos dará una estimación razonable de la relación entre las dos variables, la fuerza de la correlación, así como la dirección (correlación positiva o negativa)."
   ]
  },
  {
   "cell_type": "markdown",
   "id": "0ca064e8-4ffe-4a1f-b32e-4cb1af1e9e09",
   "metadata": {},
   "source": [
    "Veamos la visualización de \"highway-mpg\" como una variable predictora potencial del precio:\n"
   ]
  },
  {
   "cell_type": "code",
   "execution_count": 28,
   "id": "1ef6d48d-eff5-412d-867f-4bc263758695",
   "metadata": {},
   "outputs": [
    {
     "data": {
      "text/plain": [
       "(0.0, 48173.02038118289)"
      ]
     },
     "execution_count": 28,
     "metadata": {},
     "output_type": "execute_result"
    },
    {
     "data": {
      "image/png": "[encoded data removed]",
      "text/plain": [
       "<Figure size 800x600 with 1 Axes>"
      ]
     },
     "metadata": {},
     "output_type": "display_data"
    }
   ],
   "source": [
    "width = 8\n",
    "height = 6\n",
    "plt.figure(figsize=(width, height))\n",
    "sns.regplot(x=\"highway-mpg\", y=\"price\", data=df)\n",
    "plt.ylim(0,)"
   ]
  },
  {
   "cell_type": "markdown",
   "id": "8ebcf871-d242-47a4-85f4-bd4f0127afca",
   "metadata": {},
   "source": [
    "Podemos ver en este gráfico que el precio está negativamente correlacionado con highway-mpg ya que la pendiente de la regresión es negativa.\n",
    "\n",
    "Una cosa a tener en cuenta al mirar un gráfico de regresión es prestar atención a qué tan dispersos están los puntos de datos alrededor de la línea de regresión. Esto te dará una buena indicación de la varianza de los datos y si un modelo lineal sería el mejor ajuste o no. Si los datos están demasiado lejos de la línea, este modelo lineal podría no ser el mejor modelo para estos datos.\n",
    "\n",
    "Comparemos este gráfico con el gráfico de regresión de \"peak-rpm\"."
   ]
  },
  {
   "cell_type": "code",
   "execution_count": 29,
   "id": "a2bca3a0-41a8-4275-8e8a-3f2a59095d8f",
   "metadata": {},
   "outputs": [
    {
     "data": {
      "text/plain": [
       "(0.0, 47414.1)"
      ]
     },
     "execution_count": 29,
     "metadata": {},
     "output_type": "execute_result"
    },
    {
     "data": {
      "image/png": "[encoded data removed]",
      "text/plain": [
       "<Figure size 800x600 with 1 Axes>"
      ]
     },
     "metadata": {},
     "output_type": "display_data"
    }
   ],
   "source": [
    "plt.figure(figsize=(width, height))\n",
    "sns.regplot(x=\"peak-rpm\", y=\"price\", data=df)\n",
    "plt.ylim(0,)"
   ]
  },
  {
   "cell_type": "markdown",
   "id": "20e02a96-9873-4a32-87ea-f6d88d758036",
   "metadata": {},
   "source": [
    "Al comparar el gráfico de regresión de \"peak-rpm\" y \"highway-mpg\", vemos que los puntos para \"highway-mpg\" están mucho más cerca de la línea generada y, en promedio, disminuyen. Los puntos para \"peak-rpm\" tienen una mayor dispersión alrededor de la línea predicha y es mucho más difícil determinar si los puntos están disminuyendo o aumentando a medida que aumenta el \"peak-rpm\"."
   ]
  },
  {
   "cell_type": "markdown",
   "id": "14797d71-22a4-4ddc-9c4f-9abbae61ec3a",
   "metadata": {},
   "source": [
    "Veamos cual es la variable que más correlacionada está, usando el método `.corr()`"
   ]
  },
  {
   "cell_type": "code",
   "execution_count": 30,
   "id": "a8f44f35-0177-48bd-90d1-b20653760fa2",
   "metadata": {},
   "outputs": [
    {
     "data": {
      "text/html": [
       "<div>\n",
       "<style scoped>\n",
       "    .dataframe tbody tr th:only-of-type {\n",
       "        vertical-align: middle;\n",
       "    }\n",
       "\n",
       "    .dataframe tbody tr th {\n",
       "        vertical-align: top;\n",
       "    }\n",
       "\n",
       "    .dataframe thead th {\n",
       "        text-align: right;\n",
       "    }\n",
       "</style>\n",
       "<table border=\"1\" class=\"dataframe\">\n",
       "  <thead>\n",
       "    <tr style=\"text-align: right;\">\n",
       "      <th></th>\n",
       "      <th>highway-mpg</th>\n",
       "      <th>peak-rpm</th>\n",
       "      <th>price</th>\n",
       "    </tr>\n",
       "  </thead>\n",
       "  <tbody>\n",
       "    <tr>\n",
       "      <th>highway-mpg</th>\n",
       "      <td>1.000000</td>\n",
       "      <td>-0.058598</td>\n",
       "      <td>-0.704692</td>\n",
       "    </tr>\n",
       "    <tr>\n",
       "      <th>peak-rpm</th>\n",
       "      <td>-0.058598</td>\n",
       "      <td>1.000000</td>\n",
       "      <td>-0.101616</td>\n",
       "    </tr>\n",
       "    <tr>\n",
       "      <th>price</th>\n",
       "      <td>-0.704692</td>\n",
       "      <td>-0.101616</td>\n",
       "      <td>1.000000</td>\n",
       "    </tr>\n",
       "  </tbody>\n",
       "</table>\n",
       "</div>"
      ],
      "text/plain": [
       "             highway-mpg  peak-rpm     price\n",
       "highway-mpg     1.000000 -0.058598 -0.704692\n",
       "peak-rpm       -0.058598  1.000000 -0.101616\n",
       "price          -0.704692 -0.101616  1.000000"
      ]
     },
     "execution_count": 30,
     "metadata": {},
     "output_type": "execute_result"
    }
   ],
   "source": [
    "df[['highway-mpg','peak-rpm','price']].corr()"
   ]
  },
  {
   "cell_type": "markdown",
   "id": "ed4d0345-68b4-4394-b979-2f523e758c72",
   "metadata": {},
   "source": [
    "La variable \"highway-mpg\" tiene una correlación más fuerte con 'price', siendo este un aproximado de -0.704692, comparado con el aproximado de 'peak-rpm' que es de -0.101616"
   ]
  },
  {
   "cell_type": "markdown",
   "id": "a2a769d1-0d41-430a-bd11-d0f7229a83d4",
   "metadata": {},
   "source": [
    "### Gráfica Residual"
   ]
  },
  {
   "cell_type": "markdown",
   "id": "c1175b73-0789-4784-8ae5-2e7cd8f8c0ef",
   "metadata": {},
   "source": [
    "Una buena manera de visualizar la varianza de los datos es usando una gráfica de residuos."
   ]
  },
  {
   "cell_type": "markdown",
   "id": "610694b4-9112-4f60-bb2b-68da6b2555cc",
   "metadata": {},
   "source": [
    "<b> Qué es un residuo ?</b>\n",
    "\n",
    "La diferencia entre el `valor observado (y)` y el `valor predicho (Yhat)` se llama residuo `e`. Cuando observamos un gráfico de regresión, el residuo es la distancia desde el punto de datos hasta la línea de regresión ajustada."
   ]
  },
  {
   "cell_type": "markdown",
   "id": "9ed29fa0-3355-4bf1-a138-c41054e3881f",
   "metadata": {},
   "source": [
    "Entonces, <b>¿qué es un gráfico de residuos?</b>\n",
    "\n",
    "Un gráfico de residuos es un gráfico que muestra los residuos en el eje vertical Y y la variable independiente en el eje horizontal X.\n",
    "\n",
    "<b>¿A qué prestamos atención al mirar un gráfico de residuos?</b>\n",
    "\n",
    "Observamos la dispersión de los residuos:\n",
    "\n",
    "Si los puntos en un gráfico de residuos están dispersos aleatoriamente alrededor del eje x, entonces un modelo lineal es apropiado para los datos.\n",
    "¿Por qué es eso? Los residuos dispersos aleatoriamente significan que la varianza es constante y, por lo tanto, el modelo lineal es un buen ajuste para estos datos."
   ]
  },
  {
   "cell_type": "code",
   "execution_count": 31,
   "id": "c949c532-53e3-4985-bf5b-1f35e13b044c",
   "metadata": {},
   "outputs": [
    {
     "data": {
      "image/png": "[encoded data removed]",
      "text/plain": [
       "<Figure size 800x600 with 1 Axes>"
      ]
     },
     "metadata": {},
     "output_type": "display_data"
    }
   ],
   "source": [
    "width = 8\n",
    "height = 6\n",
    "plt.figure(figsize=(width, height))\n",
    "sns.residplot(x=df['highway-mpg'], y=df['price'])\n",
    "plt.show()"
   ]
  },
  {
   "cell_type": "markdown",
   "id": "77d445c6-9bae-40eb-b662-fe3ea7e5255e",
   "metadata": {},
   "source": [
    "Podemos ver en este gráfico de residuos que los residuos no están dispersos aleatoriamente alrededor del eje x, lo que nos lleva a creer que quizás un modelo no lineal sea más apropiado para estos datos."
   ]
  },
  {
   "cell_type": "markdown",
   "id": "35a304f5-7412-48f6-a629-93f11a77c3af",
   "metadata": {},
   "source": [
    "### Gráfica de regresión lineal múltiple"
   ]
  },
  {
   "cell_type": "markdown",
   "id": "53f750a2-8eaf-4d44-be93-c97d79ee7839",
   "metadata": {},
   "source": [
    "¿Cómo visualizamos un modelo para la regresión lineal múltiple? Esto se complica un poco más porque no se puede visualizar con un gráfico de regresión o de residuos.\n",
    "\n",
    "Una forma de ver el ajuste del modelo es observando el gráfico de distribución. Podemos analizar la distribución de los valores ajustados que resultan del modelo y compararla con la distribución de los valores reales.\n",
    "\n",
    "Primero, hagamos una predicción:"
   ]
  },
  {
   "cell_type": "code",
   "execution_count": 32,
   "id": "ea9cac08-4613-417c-ba93-6ba97a345d39",
   "metadata": {},
   "outputs": [],
   "source": [
    "y_hat = lm.predict(Z)"
   ]
  },
  {
   "cell_type": "code",
   "execution_count": 33,
   "id": "9f5f3c73-9bbe-401a-9780-a13acf10cc46",
   "metadata": {},
   "outputs": [
    {
     "name": "stderr",
     "output_type": "stream",
     "text": [
      "D:\\anaconda3\\Lib\\site-packages\\seaborn\\_oldcore.py:1119: FutureWarning: use_inf_as_na option is deprecated and will be removed in a future version. Convert inf values to NaN before operating instead.\n",
      "  with pd.option_context('mode.use_inf_as_na', True):\n",
      "D:\\anaconda3\\Lib\\site-packages\\seaborn\\_oldcore.py:1119: FutureWarning: use_inf_as_na option is deprecated and will be removed in a future version. Convert inf values to NaN before operating instead.\n",
      "  with pd.option_context('mode.use_inf_as_na', True):\n"
     ]
    },
    {
     "data": {
      "image/png": "[encoded data removed]",
      "text/plain": [
       "<Figure size 800x600 with 1 Axes>"
      ]
     },
     "metadata": {},
     "output_type": "display_data"
    }
   ],
   "source": [
    "plt.figure(figsize=(width, height))\n",
    "\n",
    "ax1 = sns.kdeplot(df['price'], color=\"r\", label=\"Actual Value\")\n",
    "sns.kdeplot(y_hat, ax=ax1, label='Predict value')\n",
    "\n",
    "plt.title('Actual vs Fitted Values for Price')\n",
    "plt.xlabel('Price (in dollars)')\n",
    "plt.ylabel('Proportion of Cars')\n",
    "plt.legend()\n",
    "plt.show()\n",
    "plt.close()"
   ]
  },
  {
   "cell_type": "markdown",
   "id": "9d9dd6a0-adfc-4464-86b4-eef3f5d02da7",
   "metadata": {},
   "source": [
    "Podemos ver que los valores ajustados están razonablemente cerca de los valores reales, ya que las dos distribuciones se superponen un poco. Sin embargo, definitivamente hay margen para mejorar."
   ]
  },
  {
   "cell_type": "markdown",
   "id": "646080c3-06b9-4927-9a13-bd6629e0e27f",
   "metadata": {},
   "source": [
    "## Regresión Polinómica y Pipelines"
   ]
  },
  {
   "cell_type": "markdown",
   "id": "8b064476-b2b7-4e57-be9e-0138ea331b12",
   "metadata": {},
   "source": [
    "La regresión polinómica es un caso particular del modelo de regresión lineal general o modelos de regresión lineal múltiple.\n",
    "\n",
    "Obtenemos relaciones no lineales al elevar al cuadrado o establecer términos de orden superior de las variables predictoras.\n",
    "\n",
    "Existen diferentes órdenes de regresión polinómica:"
   ]
  },
  {
   "cell_type": "markdown",
   "id": "456ef7dd-f7ef-40e6-a8d1-d7573107d366",
   "metadata": {},
   "source": [
    "<center><b>Quadratic - 2nd Order</b></center>\n",
    "$$\n",
    "Yhat = a + b_1 X +b_2 X^2 \n",
    "$$\n",
    "\n",
    "\n",
    "<center><b>Cubic - 3rd Order</b></center>\n",
    "$$\n",
    "Yhat = a + b_1 X +b_2 X^2 +b_3 X^3\\\\\\\\\\\\\n",
    "$$\n",
    "\n",
    "\n",
    "<center><b>Higher-Order</b>:</center>\n",
    "$$\n",
    "Y = a + b_1 X +b_2 X^2 +b_3 X^3 ....\\\\\\\\\n",
    "$$\n"
   ]
  },
  {
   "cell_type": "markdown",
   "id": "02386c59-4ab3-4863-ac85-f105fd40afd4",
   "metadata": {},
   "source": [
    "Vimos anteriormente que un modelo lineal no proporcionaba el mejor ajuste al usar \"highway-mpg\" como variable predictora. Veamos si podemos intentar ajustar un modelo polinómico a los datos en su lugar."
   ]
  },
  {
   "cell_type": "markdown",
   "id": "94e47ad7-7f58-490e-ae4f-993afd98276c",
   "metadata": {},
   "source": [
    "Usaremos la siguiente función para graficar los datos."
   ]
  },
  {
   "cell_type": "code",
   "execution_count": 34,
   "id": "92249e99-a036-4a38-8631-017d4ad07bd5",
   "metadata": {},
   "outputs": [],
   "source": [
    "def PlotPolly(model, independent_variable, dependent_variabble, Name):\n",
    "    x_new = np.linspace(15, 55, 100)\n",
    "    y_new = model(x_new)\n",
    "\n",
    "    plt.plot(independent_variable, dependent_variabble, '.', x_new, y_new, '-')\n",
    "    plt.title('Polynomial Fit with Matplotlib for Price ~ Length')\n",
    "    ax = plt.gca()\n",
    "    ax.set_facecolor((0.898, 0.898, 0.898))\n",
    "    fig = plt.gcf()\n",
    "    plt.xlabel(Name)\n",
    "    plt.ylabel('Price of Cars')\n",
    "\n",
    "    plt.show()\n",
    "    plt.close()"
   ]
  },
  {
   "cell_type": "markdown",
   "id": "e2d03dd7-7e55-4542-9a04-8d5590a274f6",
   "metadata": {},
   "source": [
    "Establecer las variables:"
   ]
  },
  {
   "cell_type": "code",
   "execution_count": 35,
   "id": "2841e31d-e19a-4805-987a-70f8db03a355",
   "metadata": {},
   "outputs": [],
   "source": [
    "x = df['highway-mpg']\n",
    "y = df['price']"
   ]
  },
  {
   "cell_type": "markdown",
   "id": "89b49d54-2d4e-4441-a720-19f2fd52342a",
   "metadata": {},
   "source": [
    "Ajustemos el polinomio usando la función `polyfit`, luego usemos la función `poly1d` para mostrar la función polinómica."
   ]
  },
  {
   "cell_type": "code",
   "execution_count": 36,
   "id": "a119a729-5a47-4ccd-be5b-11fea1ef0cfe",
   "metadata": {},
   "outputs": [
    {
     "name": "stdout",
     "output_type": "stream",
     "text": [
      "        3         2\n",
      "-1.557 x + 204.8 x - 8965 x + 1.379e+05\n"
     ]
    }
   ],
   "source": [
    "f = np.polyfit(x, y, 3)\n",
    "p = np.poly1d(f)\n",
    "print(p)"
   ]
  },
  {
   "cell_type": "markdown",
   "id": "c9db2aeb-ceed-4012-83db-ec9f89653b57",
   "metadata": {},
   "source": [
    "Graficamos la función"
   ]
  },
  {
   "cell_type": "code",
   "execution_count": 38,
   "id": "e57b7e20-af7f-48cb-b2d5-8e050c776e32",
   "metadata": {},
   "outputs": [
    {
     "data": {
      "image/png": "[encoded data removed]",
      "text/plain": [
       "<Figure size 640x480 with 1 Axes>"
      ]
     },
     "metadata": {},
     "output_type": "display_data"
    }
   ],
   "source": [
    "PlotPolly(p, x, y, 'highway-mpg')"
   ]
  },
  {
   "cell_type": "markdown",
   "id": "9cbde0dc-7843-4237-86c8-afc14927e524",
   "metadata": {},
   "source": [
    "Ya podemos ver desde la gráfica que este modelo polinómico funciona mejor que el modelo lineal realizado anteriormente. Esto se debe a que la función polinómica generada \"interseca\" más puntos de datos."
   ]
  },
  {
   "cell_type": "markdown",
   "id": "927c5bd6-56dd-4996-a90e-bd3a6f1e471b",
   "metadata": {},
   "source": [
    "Creemos la misma predicción pero esta vez de una orden polinomial de grado 11."
   ]
  },
  {
   "cell_type": "code",
   "execution_count": 47,
   "id": "53e4f9a3-2ce3-4fe1-bc28-0fc155663b09",
   "metadata": {},
   "outputs": [
    {
     "name": "stdout",
     "output_type": "stream",
     "text": [
      "            11             10             9           8         7\n",
      "-1.243e-08 x  + 4.722e-06 x  - 0.0008028 x + 0.08056 x - 5.297 x\n",
      "          6        5             4             3             2\n",
      " + 239.5 x - 7588 x + 1.684e+05 x - 2.565e+06 x + 2.551e+07 x - 1.491e+08 x + 3.879e+08\n"
     ]
    }
   ],
   "source": [
    "f1 = np.polyfit(x,y,11)\n",
    "p1 = np.poly1d(f1)\n",
    "print(p1)"
   ]
  },
  {
   "cell_type": "code",
   "execution_count": 48,
   "id": "8f11a464-1691-4f4e-b897-5cf4ce35f0fc",
   "metadata": {},
   "outputs": [
    {
     "data": {
      "image/png": "[encoded data removed]",
      "text/plain": [
       "<Figure size 640x480 with 1 Axes>"
      ]
     },
     "metadata": {},
     "output_type": "display_data"
    }
   ],
   "source": [
    "PlotPolly(p1,x,y,\"Highway MPG\")"
   ]
  },
  {
   "cell_type": "markdown",
   "id": "010881dd-6839-4cf6-be9a-14ca30699301",
   "metadata": {},
   "source": [
    "La expresión analítica para una función polinómica multivariable se vuelve complicada. Por ejemplo, la expresión para un polinomio de segundo orden (grado=2) con dos variables se da por:"
   ]
  },
  {
   "cell_type": "markdown",
   "id": "3b44f060-ba74-4065-9e02-8431b773ddb5",
   "metadata": {},
   "source": [
    "$$\n",
    "Yhat = a + b_1 X_1 +b_2 X_2 +b_3 X_1 X_2+b_4 X_1^2+b_5 X_2^2\n",
    "$$\n"
   ]
  },
  {
   "cell_type": "markdown",
   "id": "963e639b-e54e-4ae4-8b2a-23fd4729e613",
   "metadata": {},
   "source": [
    "Podemos realizar una transformación polinómica en múltiples características. Primero, importamos el módulo:"
   ]
  },
  {
   "cell_type": "code",
   "execution_count": 49,
   "id": "c6aa432f-6b13-4462-9fbc-b40c41adcfbd",
   "metadata": {},
   "outputs": [],
   "source": [
    "from sklearn.preprocessing import PolynomialFeatures"
   ]
  },
  {
   "cell_type": "markdown",
   "id": "d0f312cb-b3a2-42ca-9bb5-2358154d0023",
   "metadata": {},
   "source": [
    "Creamos un objeto `PolinomialFeatures` de grado 2."
   ]
  },
  {
   "cell_type": "code",
   "execution_count": 50,
   "id": "bae693f6-e8af-4c4e-9d4f-afb98257a9a0",
   "metadata": {},
   "outputs": [
    {
     "data": {
      "text/html": [
       "<style>#sk-container-id-7 {color: black;background-color: white;}#sk-container-id-7 pre{padding: 0;}#sk-container-id-7 div.sk-toggleable {background-color: white;}#sk-container-id-7 label.sk-toggleable__label {cursor: pointer;display: block;width: 100%;margin-bottom: 0;padding: 0.3em;box-sizing: border-box;text-align: center;}#sk-container-id-7 label.sk-toggleable__label-arrow:before {content: \"▸\";float: left;margin-right: 0.25em;color: #696969;}#sk-container-id-7 label.sk-toggleable__label-arrow:hover:before {color: black;}#sk-container-id-7 div.sk-estimator:hover label.sk-toggleable__label-arrow:before {color: black;}#sk-container-id-7 div.sk-toggleable__content {max-height: 0;max-width: 0;overflow: hidden;text-align: left;background-color: #f0f8ff;}#sk-container-id-7 div.sk-toggleable__content pre {margin: 0.2em;color: black;border-radius: 0.25em;background-color: #f0f8ff;}#sk-container-id-7 input.sk-toggleable__control:checked~div.sk-toggleable__content {max-height: 200px;max-width: 100%;overflow: auto;}#sk-container-id-7 input.sk-toggleable__control:checked~label.sk-toggleable__label-arrow:before {content: \"▾\";}#sk-container-id-7 div.sk-estimator input.sk-toggleable__control:checked~label.sk-toggleable__label {background-color: #d4ebff;}#sk-container-id-7 div.sk-label input.sk-toggleable__control:checked~label.sk-toggleable__label {background-color: #d4ebff;}#sk-container-id-7 input.sk-hidden--visually {border: 0;clip: rect(1px 1px 1px 1px);clip: rect(1px, 1px, 1px, 1px);height: 1px;margin: -1px;overflow: hidden;padding: 0;position: absolute;width: 1px;}#sk-container-id-7 div.sk-estimator {font-family: monospace;background-color: #f0f8ff;border: 1px dotted black;border-radius: 0.25em;box-sizing: border-box;margin-bottom: 0.5em;}#sk-container-id-7 div.sk-estimator:hover {background-color: #d4ebff;}#sk-container-id-7 div.sk-parallel-item::after {content: \"\";width: 100%;border-bottom: 1px solid gray;flex-grow: 1;}#sk-container-id-7 div.sk-label:hover label.sk-toggleable__label {background-color: #d4ebff;}#sk-container-id-7 div.sk-serial::before {content: \"\";position: absolute;border-left: 1px solid gray;box-sizing: border-box;top: 0;bottom: 0;left: 50%;z-index: 0;}#sk-container-id-7 div.sk-serial {display: flex;flex-direction: column;align-items: center;background-color: white;padding-right: 0.2em;padding-left: 0.2em;position: relative;}#sk-container-id-7 div.sk-item {position: relative;z-index: 1;}#sk-container-id-7 div.sk-parallel {display: flex;align-items: stretch;justify-content: center;background-color: white;position: relative;}#sk-container-id-7 div.sk-item::before, #sk-container-id-7 div.sk-parallel-item::before {content: \"\";position: absolute;border-left: 1px solid gray;box-sizing: border-box;top: 0;bottom: 0;left: 50%;z-index: -1;}#sk-container-id-7 div.sk-parallel-item {display: flex;flex-direction: column;z-index: 1;position: relative;background-color: white;}#sk-container-id-7 div.sk-parallel-item:first-child::after {align-self: flex-end;width: 50%;}#sk-container-id-7 div.sk-parallel-item:last-child::after {align-self: flex-start;width: 50%;}#sk-container-id-7 div.sk-parallel-item:only-child::after {width: 0;}#sk-container-id-7 div.sk-dashed-wrapped {border: 1px dashed gray;margin: 0 0.4em 0.5em 0.4em;box-sizing: border-box;padding-bottom: 0.4em;background-color: white;}#sk-container-id-7 div.sk-label label {font-family: monospace;font-weight: bold;display: inline-block;line-height: 1.2em;}#sk-container-id-7 div.sk-label-container {text-align: center;}#sk-container-id-7 div.sk-container {/* jupyter's `normalize.less` sets `[hidden] { display: none; }` but bootstrap.min.css set `[hidden] { display: none !important; }` so we also need the `!important` here to be able to override the default hidden behavior on the sphinx rendered scikit-learn.org. See: https://github.com/scikit-learn/scikit-learn/issues/21755 */display: inline-block !important;position: relative;}#sk-container-id-7 div.sk-text-repr-fallback {display: none;}</style><div id=\"sk-container-id-7\" class=\"sk-top-container\"><div class=\"sk-text-repr-fallback\"><pre>PolynomialFeatures()</pre><b>In a Jupyter environment, please rerun this cell to show the HTML representation or trust the notebook. <br />On GitHub, the HTML representation is unable to render, please try loading this page with nbviewer.org.</b></div><div class=\"sk-container\" hidden><div class=\"sk-item\"><div class=\"sk-estimator sk-toggleable\"><input class=\"sk-toggleable__control sk-hidden--visually\" id=\"sk-estimator-id-7\" type=\"checkbox\" checked><label for=\"sk-estimator-id-7\" class=\"sk-toggleable__label sk-toggleable__label-arrow\">PolynomialFeatures</label><div class=\"sk-toggleable__content\"><pre>PolynomialFeatures()</pre></div></div></div></div></div>"
      ],
      "text/plain": [
       "PolynomialFeatures()"
      ]
     },
     "execution_count": 50,
     "metadata": {},
     "output_type": "execute_result"
    }
   ],
   "source": [
    "pr = PolynomialFeatures(degree=2)\n",
    "pr"
   ]
  },
  {
   "cell_type": "code",
   "execution_count": 51,
   "id": "5990223a-b279-42d7-945d-48ad8999c433",
   "metadata": {},
   "outputs": [],
   "source": [
    "z_pr = pr.fit_transform(Z)"
   ]
  },
  {
   "cell_type": "code",
   "execution_count": 52,
   "id": "89a41166-e561-4fbf-a9ee-26d024d5aaec",
   "metadata": {},
   "outputs": [
    {
     "data": {
      "text/plain": [
       "(201, 4)"
      ]
     },
     "execution_count": 52,
     "metadata": {},
     "output_type": "execute_result"
    }
   ],
   "source": [
    "Z.shape"
   ]
  },
  {
   "cell_type": "code",
   "execution_count": null,
   "id": "6ae47ea3-89c1-4d08-bffe-acf0e01f9b3c",
   "metadata": {},
   "outputs": [],
   "source": [
    "En los datos originales, hay 201 muestras y 4 características."
   ]
  },
  {
   "cell_type": "code",
   "execution_count": 54,
   "id": "7627d552-2aac-480c-8411-f0863d94132c",
   "metadata": {},
   "outputs": [
    {
     "data": {
      "text/html": [
       "<div>\n",
       "<style scoped>\n",
       "    .dataframe tbody tr th:only-of-type {\n",
       "        vertical-align: middle;\n",
       "    }\n",
       "\n",
       "    .dataframe tbody tr th {\n",
       "        vertical-align: top;\n",
       "    }\n",
       "\n",
       "    .dataframe thead th {\n",
       "        text-align: right;\n",
       "    }\n",
       "</style>\n",
       "<table border=\"1\" class=\"dataframe\">\n",
       "  <thead>\n",
       "    <tr style=\"text-align: right;\">\n",
       "      <th></th>\n",
       "      <th>horsepower</th>\n",
       "      <th>curb-weight</th>\n",
       "      <th>engine-size</th>\n",
       "      <th>highway-mpg</th>\n",
       "    </tr>\n",
       "  </thead>\n",
       "  <tbody>\n",
       "    <tr>\n",
       "      <th>0</th>\n",
       "      <td>111.0</td>\n",
       "      <td>2548</td>\n",
       "      <td>130</td>\n",
       "      <td>27</td>\n",
       "    </tr>\n",
       "    <tr>\n",
       "      <th>1</th>\n",
       "      <td>111.0</td>\n",
       "      <td>2548</td>\n",
       "      <td>130</td>\n",
       "      <td>27</td>\n",
       "    </tr>\n",
       "    <tr>\n",
       "      <th>2</th>\n",
       "      <td>154.0</td>\n",
       "      <td>2823</td>\n",
       "      <td>152</td>\n",
       "      <td>26</td>\n",
       "    </tr>\n",
       "    <tr>\n",
       "      <th>3</th>\n",
       "      <td>102.0</td>\n",
       "      <td>2337</td>\n",
       "      <td>109</td>\n",
       "      <td>30</td>\n",
       "    </tr>\n",
       "    <tr>\n",
       "      <th>4</th>\n",
       "      <td>115.0</td>\n",
       "      <td>2824</td>\n",
       "      <td>136</td>\n",
       "      <td>22</td>\n",
       "    </tr>\n",
       "  </tbody>\n",
       "</table>\n",
       "</div>"
      ],
      "text/plain": [
       "   horsepower  curb-weight  engine-size  highway-mpg\n",
       "0       111.0         2548          130           27\n",
       "1       111.0         2548          130           27\n",
       "2       154.0         2823          152           26\n",
       "3       102.0         2337          109           30\n",
       "4       115.0         2824          136           22"
      ]
     },
     "execution_count": 54,
     "metadata": {},
     "output_type": "execute_result"
    }
   ],
   "source": [
    "Z.head()"
   ]
  },
  {
   "cell_type": "markdown",
   "id": "1fbffc52-27a8-416a-a2d4-df8b363fe383",
   "metadata": {},
   "source": [
    "Después de la transformación, hay 201 muestras y 151 características."
   ]
  },
  {
   "cell_type": "code",
   "execution_count": 55,
   "id": "c9c12b08-b5ff-4355-831f-ca9bfbe656cf",
   "metadata": {},
   "outputs": [
    {
     "data": {
      "text/plain": [
       "(201, 15)"
      ]
     },
     "execution_count": 55,
     "metadata": {},
     "output_type": "execute_result"
    }
   ],
   "source": [
    "z_pr.shape"
   ]
  },
  {
   "cell_type": "code",
   "execution_count": 57,
   "id": "f215e86d-019f-462d-b38d-72cc89c2b196",
   "metadata": {},
   "outputs": [
    {
     "data": {
      "text/plain": [
       "numpy.ndarray"
      ]
     },
     "execution_count": 57,
     "metadata": {},
     "output_type": "execute_result"
    }
   ],
   "source": [
    "type(z_pr)"
   ]
  },
  {
   "cell_type": "markdown",
   "id": "4adc76cc-90e9-49a1-b090-ac097dce3752",
   "metadata": {},
   "source": [
    "## Pipelines"
   ]
  },
  {
   "cell_type": "markdown",
   "id": "45663900-7b0c-4541-867c-bbaa01387358",
   "metadata": {},
   "source": [
    "Los pipelines de datos simplifican los pasos de procesamiento de los datos. Usamos el módulo `Pipeline` para crear un pipeline. También utilizamos `StandardScaler` como un paso en nuestro pipeline."
   ]
  },
  {
   "cell_type": "code",
   "execution_count": 58,
   "id": "b7b7b684-55b9-4f55-b80c-314bcc863b89",
   "metadata": {},
   "outputs": [],
   "source": [
    "from sklearn.pipeline import Pipeline\n",
    "from sklearn.preprocessing import StandardScaler"
   ]
  },
  {
   "cell_type": "markdown",
   "id": "efa9d00b-55c5-43ac-bb20-42148b62f74c",
   "metadata": {},
   "source": [
    "Creamos el pipeline creando una lista de tuplas que incluyen el nombre del modelo o estimador y su constructor correspondiente."
   ]
  },
  {
   "cell_type": "code",
   "execution_count": 59,
   "id": "3f23dc93-0652-484e-9e2c-9579120b3a65",
   "metadata": {},
   "outputs": [],
   "source": [
    "Input=[('scale',StandardScaler()), ('polynomial', PolynomialFeatures(include_bias=False)), ('model',LinearRegression())]"
   ]
  },
  {
   "cell_type": "markdown",
   "id": "cc58f08c-3d6d-43d8-b910-8d5e26cefd83",
   "metadata": {},
   "source": [
    "Ingresamos la lista como un argumento al constructor del pipeline:"
   ]
  },
  {
   "cell_type": "code",
   "execution_count": 60,
   "id": "fb1278db-bc56-4cc6-87c0-05e909c8874b",
   "metadata": {},
   "outputs": [
    {
     "data": {
      "text/html": [
       "<style>#sk-container-id-8 {color: black;background-color: white;}#sk-container-id-8 pre{padding: 0;}#sk-container-id-8 div.sk-toggleable {background-color: white;}#sk-container-id-8 label.sk-toggleable__label {cursor: pointer;display: block;width: 100%;margin-bottom: 0;padding: 0.3em;box-sizing: border-box;text-align: center;}#sk-container-id-8 label.sk-toggleable__label-arrow:before {content: \"▸\";float: left;margin-right: 0.25em;color: #696969;}#sk-container-id-8 label.sk-toggleable__label-arrow:hover:before {color: black;}#sk-container-id-8 div.sk-estimator:hover label.sk-toggleable__label-arrow:before {color: black;}#sk-container-id-8 div.sk-toggleable__content {max-height: 0;max-width: 0;overflow: hidden;text-align: left;background-color: #f0f8ff;}#sk-container-id-8 div.sk-toggleable__content pre {margin: 0.2em;color: black;border-radius: 0.25em;background-color: #f0f8ff;}#sk-container-id-8 input.sk-toggleable__control:checked~div.sk-toggleable__content {max-height: 200px;max-width: 100%;overflow: auto;}#sk-container-id-8 input.sk-toggleable__control:checked~label.sk-toggleable__label-arrow:before {content: \"▾\";}#sk-container-id-8 div.sk-estimator input.sk-toggleable__control:checked~label.sk-toggleable__label {background-color: #d4ebff;}#sk-container-id-8 div.sk-label input.sk-toggleable__control:checked~label.sk-toggleable__label {background-color: #d4ebff;}#sk-container-id-8 input.sk-hidden--visually {border: 0;clip: rect(1px 1px 1px 1px);clip: rect(1px, 1px, 1px, 1px);height: 1px;margin: -1px;overflow: hidden;padding: 0;position: absolute;width: 1px;}#sk-container-id-8 div.sk-estimator {font-family: monospace;background-color: #f0f8ff;border: 1px dotted black;border-radius: 0.25em;box-sizing: border-box;margin-bottom: 0.5em;}#sk-container-id-8 div.sk-estimator:hover {background-color: #d4ebff;}#sk-container-id-8 div.sk-parallel-item::after {content: \"\";width: 100%;border-bottom: 1px solid gray;flex-grow: 1;}#sk-container-id-8 div.sk-label:hover label.sk-toggleable__label {background-color: #d4ebff;}#sk-container-id-8 div.sk-serial::before {content: \"\";position: absolute;border-left: 1px solid gray;box-sizing: border-box;top: 0;bottom: 0;left: 50%;z-index: 0;}#sk-container-id-8 div.sk-serial {display: flex;flex-direction: column;align-items: center;background-color: white;padding-right: 0.2em;padding-left: 0.2em;position: relative;}#sk-container-id-8 div.sk-item {position: relative;z-index: 1;}#sk-container-id-8 div.sk-parallel {display: flex;align-items: stretch;justify-content: center;background-color: white;position: relative;}#sk-container-id-8 div.sk-item::before, #sk-container-id-8 div.sk-parallel-item::before {content: \"\";position: absolute;border-left: 1px solid gray;box-sizing: border-box;top: 0;bottom: 0;left: 50%;z-index: -1;}#sk-container-id-8 div.sk-parallel-item {display: flex;flex-direction: column;z-index: 1;position: relative;background-color: white;}#sk-container-id-8 div.sk-parallel-item:first-child::after {align-self: flex-end;width: 50%;}#sk-container-id-8 div.sk-parallel-item:last-child::after {align-self: flex-start;width: 50%;}#sk-container-id-8 div.sk-parallel-item:only-child::after {width: 0;}#sk-container-id-8 div.sk-dashed-wrapped {border: 1px dashed gray;margin: 0 0.4em 0.5em 0.4em;box-sizing: border-box;padding-bottom: 0.4em;background-color: white;}#sk-container-id-8 div.sk-label label {font-family: monospace;font-weight: bold;display: inline-block;line-height: 1.2em;}#sk-container-id-8 div.sk-label-container {text-align: center;}#sk-container-id-8 div.sk-container {/* jupyter's `normalize.less` sets `[hidden] { display: none; }` but bootstrap.min.css set `[hidden] { display: none !important; }` so we also need the `!important` here to be able to override the default hidden behavior on the sphinx rendered scikit-learn.org. See: https://github.com/scikit-learn/scikit-learn/issues/21755 */display: inline-block !important;position: relative;}#sk-container-id-8 div.sk-text-repr-fallback {display: none;}</style><div id=\"sk-container-id-8\" class=\"sk-top-container\"><div class=\"sk-text-repr-fallback\"><pre>Pipeline(steps=[(&#x27;scale&#x27;, StandardScaler()),\n",
       "                (&#x27;polynomial&#x27;, PolynomialFeatures(include_bias=False)),\n",
       "                (&#x27;model&#x27;, LinearRegression())])</pre><b>In a Jupyter environment, please rerun this cell to show the HTML representation or trust the notebook. <br />On GitHub, the HTML representation is unable to render, please try loading this page with nbviewer.org.</b></div><div class=\"sk-container\" hidden><div class=\"sk-item sk-dashed-wrapped\"><div class=\"sk-label-container\"><div class=\"sk-label sk-toggleable\"><input class=\"sk-toggleable__control sk-hidden--visually\" id=\"sk-estimator-id-8\" type=\"checkbox\" ><label for=\"sk-estimator-id-8\" class=\"sk-toggleable__label sk-toggleable__label-arrow\">Pipeline</label><div class=\"sk-toggleable__content\"><pre>Pipeline(steps=[(&#x27;scale&#x27;, StandardScaler()),\n",
       "                (&#x27;polynomial&#x27;, PolynomialFeatures(include_bias=False)),\n",
       "                (&#x27;model&#x27;, LinearRegression())])</pre></div></div></div><div class=\"sk-serial\"><div class=\"sk-item\"><div class=\"sk-estimator sk-toggleable\"><input class=\"sk-toggleable__control sk-hidden--visually\" id=\"sk-estimator-id-9\" type=\"checkbox\" ><label for=\"sk-estimator-id-9\" class=\"sk-toggleable__label sk-toggleable__label-arrow\">StandardScaler</label><div class=\"sk-toggleable__content\"><pre>StandardScaler()</pre></div></div></div><div class=\"sk-item\"><div class=\"sk-estimator sk-toggleable\"><input class=\"sk-toggleable__control sk-hidden--visually\" id=\"sk-estimator-id-10\" type=\"checkbox\" ><label for=\"sk-estimator-id-10\" class=\"sk-toggleable__label sk-toggleable__label-arrow\">PolynomialFeatures</label><div class=\"sk-toggleable__content\"><pre>PolynomialFeatures(include_bias=False)</pre></div></div></div><div class=\"sk-item\"><div class=\"sk-estimator sk-toggleable\"><input class=\"sk-toggleable__control sk-hidden--visually\" id=\"sk-estimator-id-11\" type=\"checkbox\" ><label for=\"sk-estimator-id-11\" class=\"sk-toggleable__label sk-toggleable__label-arrow\">LinearRegression</label><div class=\"sk-toggleable__content\"><pre>LinearRegression()</pre></div></div></div></div></div></div></div>"
      ],
      "text/plain": [
       "Pipeline(steps=[('scale', StandardScaler()),\n",
       "                ('polynomial', PolynomialFeatures(include_bias=False)),\n",
       "                ('model', LinearRegression())])"
      ]
     },
     "execution_count": 60,
     "metadata": {},
     "output_type": "execute_result"
    }
   ],
   "source": [
    "pipe = Pipeline(Input)\n",
    "pipe"
   ]
  },
  {
   "cell_type": "markdown",
   "id": "7e617233-e191-470d-8205-b7d22218e411",
   "metadata": {},
   "source": [
    "Primero, convertimos el tipo de datos Z a tipo float para evitar advertencias de conversión que pueden aparecer como resultado de que StandardScaler tome entradas de tipo float.\n",
    "\n",
    "Luego, podemos normalizar los datos, realizar una transformación y ajustar el modelo simultáneamente."
   ]
  },
  {
   "cell_type": "code",
   "execution_count": 61,
   "id": "71062dd8-7e32-42f1-8ded-fdf569ecc41a",
   "metadata": {},
   "outputs": [
    {
     "data": {
      "text/html": [
       "<style>#sk-container-id-9 {color: black;background-color: white;}#sk-container-id-9 pre{padding: 0;}#sk-container-id-9 div.sk-toggleable {background-color: white;}#sk-container-id-9 label.sk-toggleable__label {cursor: pointer;display: block;width: 100%;margin-bottom: 0;padding: 0.3em;box-sizing: border-box;text-align: center;}#sk-container-id-9 label.sk-toggleable__label-arrow:before {content: \"▸\";float: left;margin-right: 0.25em;color: #696969;}#sk-container-id-9 label.sk-toggleable__label-arrow:hover:before {color: black;}#sk-container-id-9 div.sk-estimator:hover label.sk-toggleable__label-arrow:before {color: black;}#sk-container-id-9 div.sk-toggleable__content {max-height: 0;max-width: 0;overflow: hidden;text-align: left;background-color: #f0f8ff;}#sk-container-id-9 div.sk-toggleable__content pre {margin: 0.2em;color: black;border-radius: 0.25em;background-color: #f0f8ff;}#sk-container-id-9 input.sk-toggleable__control:checked~div.sk-toggleable__content {max-height: 200px;max-width: 100%;overflow: auto;}#sk-container-id-9 input.sk-toggleable__control:checked~label.sk-toggleable__label-arrow:before {content: \"▾\";}#sk-container-id-9 div.sk-estimator input.sk-toggleable__control:checked~label.sk-toggleable__label {background-color: #d4ebff;}#sk-container-id-9 div.sk-label input.sk-toggleable__control:checked~label.sk-toggleable__label {background-color: #d4ebff;}#sk-container-id-9 input.sk-hidden--visually {border: 0;clip: rect(1px 1px 1px 1px);clip: rect(1px, 1px, 1px, 1px);height: 1px;margin: -1px;overflow: hidden;padding: 0;position: absolute;width: 1px;}#sk-container-id-9 div.sk-estimator {font-family: monospace;background-color: #f0f8ff;border: 1px dotted black;border-radius: 0.25em;box-sizing: border-box;margin-bottom: 0.5em;}#sk-container-id-9 div.sk-estimator:hover {background-color: #d4ebff;}#sk-container-id-9 div.sk-parallel-item::after {content: \"\";width: 100%;border-bottom: 1px solid gray;flex-grow: 1;}#sk-container-id-9 div.sk-label:hover label.sk-toggleable__label {background-color: #d4ebff;}#sk-container-id-9 div.sk-serial::before {content: \"\";position: absolute;border-left: 1px solid gray;box-sizing: border-box;top: 0;bottom: 0;left: 50%;z-index: 0;}#sk-container-id-9 div.sk-serial {display: flex;flex-direction: column;align-items: center;background-color: white;padding-right: 0.2em;padding-left: 0.2em;position: relative;}#sk-container-id-9 div.sk-item {position: relative;z-index: 1;}#sk-container-id-9 div.sk-parallel {display: flex;align-items: stretch;justify-content: center;background-color: white;position: relative;}#sk-container-id-9 div.sk-item::before, #sk-container-id-9 div.sk-parallel-item::before {content: \"\";position: absolute;border-left: 1px solid gray;box-sizing: border-box;top: 0;bottom: 0;left: 50%;z-index: -1;}#sk-container-id-9 div.sk-parallel-item {display: flex;flex-direction: column;z-index: 1;position: relative;background-color: white;}#sk-container-id-9 div.sk-parallel-item:first-child::after {align-self: flex-end;width: 50%;}#sk-container-id-9 div.sk-parallel-item:last-child::after {align-self: flex-start;width: 50%;}#sk-container-id-9 div.sk-parallel-item:only-child::after {width: 0;}#sk-container-id-9 div.sk-dashed-wrapped {border: 1px dashed gray;margin: 0 0.4em 0.5em 0.4em;box-sizing: border-box;padding-bottom: 0.4em;background-color: white;}#sk-container-id-9 div.sk-label label {font-family: monospace;font-weight: bold;display: inline-block;line-height: 1.2em;}#sk-container-id-9 div.sk-label-container {text-align: center;}#sk-container-id-9 div.sk-container {/* jupyter's `normalize.less` sets `[hidden] { display: none; }` but bootstrap.min.css set `[hidden] { display: none !important; }` so we also need the `!important` here to be able to override the default hidden behavior on the sphinx rendered scikit-learn.org. See: https://github.com/scikit-learn/scikit-learn/issues/21755 */display: inline-block !important;position: relative;}#sk-container-id-9 div.sk-text-repr-fallback {display: none;}</style><div id=\"sk-container-id-9\" class=\"sk-top-container\"><div class=\"sk-text-repr-fallback\"><pre>Pipeline(steps=[(&#x27;scale&#x27;, StandardScaler()),\n",
       "                (&#x27;polynomial&#x27;, PolynomialFeatures(include_bias=False)),\n",
       "                (&#x27;model&#x27;, LinearRegression())])</pre><b>In a Jupyter environment, please rerun this cell to show the HTML representation or trust the notebook. <br />On GitHub, the HTML representation is unable to render, please try loading this page with nbviewer.org.</b></div><div class=\"sk-container\" hidden><div class=\"sk-item sk-dashed-wrapped\"><div class=\"sk-label-container\"><div class=\"sk-label sk-toggleable\"><input class=\"sk-toggleable__control sk-hidden--visually\" id=\"sk-estimator-id-12\" type=\"checkbox\" ><label for=\"sk-estimator-id-12\" class=\"sk-toggleable__label sk-toggleable__label-arrow\">Pipeline</label><div class=\"sk-toggleable__content\"><pre>Pipeline(steps=[(&#x27;scale&#x27;, StandardScaler()),\n",
       "                (&#x27;polynomial&#x27;, PolynomialFeatures(include_bias=False)),\n",
       "                (&#x27;model&#x27;, LinearRegression())])</pre></div></div></div><div class=\"sk-serial\"><div class=\"sk-item\"><div class=\"sk-estimator sk-toggleable\"><input class=\"sk-toggleable__control sk-hidden--visually\" id=\"sk-estimator-id-13\" type=\"checkbox\" ><label for=\"sk-estimator-id-13\" class=\"sk-toggleable__label sk-toggleable__label-arrow\">StandardScaler</label><div class=\"sk-toggleable__content\"><pre>StandardScaler()</pre></div></div></div><div class=\"sk-item\"><div class=\"sk-estimator sk-toggleable\"><input class=\"sk-toggleable__control sk-hidden--visually\" id=\"sk-estimator-id-14\" type=\"checkbox\" ><label for=\"sk-estimator-id-14\" class=\"sk-toggleable__label sk-toggleable__label-arrow\">PolynomialFeatures</label><div class=\"sk-toggleable__content\"><pre>PolynomialFeatures(include_bias=False)</pre></div></div></div><div class=\"sk-item\"><div class=\"sk-estimator sk-toggleable\"><input class=\"sk-toggleable__control sk-hidden--visually\" id=\"sk-estimator-id-15\" type=\"checkbox\" ><label for=\"sk-estimator-id-15\" class=\"sk-toggleable__label sk-toggleable__label-arrow\">LinearRegression</label><div class=\"sk-toggleable__content\"><pre>LinearRegression()</pre></div></div></div></div></div></div></div>"
      ],
      "text/plain": [
       "Pipeline(steps=[('scale', StandardScaler()),\n",
       "                ('polynomial', PolynomialFeatures(include_bias=False)),\n",
       "                ('model', LinearRegression())])"
      ]
     },
     "execution_count": 61,
     "metadata": {},
     "output_type": "execute_result"
    }
   ],
   "source": [
    "Z = Z.astype(float)\n",
    "pipe.fit(Z,y)"
   ]
  },
  {
   "cell_type": "markdown",
   "id": "e18d0083-89b8-4404-8965-43d18025be6f",
   "metadata": {},
   "source": [
    "Del mismo modo, podemos normalizar los datos, realizar una transformación y producir una predicción simultáneamente"
   ]
  },
  {
   "cell_type": "code",
   "execution_count": 62,
   "id": "a41b7eec-ad40-4fe7-aadb-2fb75a99a502",
   "metadata": {},
   "outputs": [
    {
     "data": {
      "text/plain": [
       "array([13102.74784201, 13102.74784201, 18225.54572197, 10390.29636555])"
      ]
     },
     "execution_count": 62,
     "metadata": {},
     "output_type": "execute_result"
    }
   ],
   "source": [
    "ypipe=pipe.predict(Z)\n",
    "ypipe[0:4]"
   ]
  },
  {
   "cell_type": "markdown",
   "id": "fed524b7-5b79-4e19-aded-9af9e2f74a69",
   "metadata": {},
   "source": [
    "Vamos a crear un pipeline que estandarice los datos y luego produzca una predicción utilizando un modelo de regresión lineal usando las características Z y el objetivo y.}"
   ]
  },
  {
   "cell_type": "code",
   "execution_count": 63,
   "id": "b6d303ed-fafc-42ec-b15f-7193d71fedce",
   "metadata": {},
   "outputs": [
    {
     "data": {
      "text/plain": [
       "array([13699.11161184, 13699.11161184, 19051.65470233, 10620.36193015,\n",
       "       15521.31420211, 13869.66673213, 15456.16196732, 15974.00907672,\n",
       "       17612.35917161, 10722.32509097])"
      ]
     },
     "execution_count": 63,
     "metadata": {},
     "output_type": "execute_result"
    }
   ],
   "source": [
    "Input=[('scale',StandardScaler()),('model',LinearRegression())]\n",
    "\n",
    "pipe=Pipeline(Input)\n",
    "\n",
    "pipe.fit(Z,y)\n",
    "\n",
    "ypipe=pipe.predict(Z)\n",
    "ypipe[0:10]"
   ]
  },
  {
   "cell_type": "markdown",
   "id": "5e776088-006d-43ab-906d-772e00e4b8ef",
   "metadata": {},
   "source": [
    "## Medidas para la evaluación en muestra"
   ]
  },
  {
   "cell_type": "markdown",
   "id": "375019c3-c595-47e7-b325-c2e978a76d46",
   "metadata": {},
   "source": [
    "Cuando evaluamos nuestros modelos, no solo queremos visualizar los resultados, sino que también queremos una medida cuantitativa para determinar qué tan precisa es el modelo.\n",
    "\n",
    "Dos medidas muy importantes que a menudo se usan en estadísticas para determinar la precisión de un modelo son:"
   ]
  },
  {
   "cell_type": "markdown",
   "id": "3019b86f-2860-47f1-83c3-4f50d6f51cde",
   "metadata": {},
   "source": [
    "* <b>R^2 / R-cuadrado</b>\n",
    "* <b>Error cuadrático medio (MSE)</b>\n"
   ]
  },
  {
   "cell_type": "markdown",
   "id": "44e40dc2-c069-4a71-814b-a55388b9eea5",
   "metadata": {},
   "source": [
    "<b>R-cuadrado</b>"
   ]
  },
  {
   "cell_type": "markdown",
   "id": "079512b8-e032-43e6-84cd-9f4556e5e69b",
   "metadata": {},
   "source": [
    "También conocido como el coeficiente de determinación, es una medida que indica qué tan cerca están los datos de la línea de regresión ajustada.\n",
    "\n",
    "El valor del R-cuadrado es el porcentaje de variación de la variable de respuesta (y) que es explicado por un modelo lineal."
   ]
  },
  {
   "cell_type": "markdown",
   "id": "84c9e304-4cbe-4b34-b3ac-4cbce407c292",
   "metadata": {},
   "source": [
    "<b>Error Cuadrático Medio</b>"
   ]
  },
  {
   "cell_type": "markdown",
   "id": "76afa3d5-10d9-4439-a5e1-bc17110c9954",
   "metadata": {},
   "source": [
    "El Error Cuadrático Medio mide el promedio de los cuadrados de los errores. Es decir, la diferencia entre el valor real (y) y el valor estimado (ŷ)."
   ]
  },
  {
   "cell_type": "markdown",
   "id": "19231c6a-52fe-416e-b96a-a831f3908afa",
   "metadata": {},
   "source": [
    "### Modelo 1: Regresión Lineal Simple"
   ]
  },
  {
   "cell_type": "markdown",
   "id": "8ee1ba09-1fad-42fd-94af-471fdc3dfe31",
   "metadata": {},
   "source": [
    "Calculemos R-cuadrado."
   ]
  },
  {
   "cell_type": "code",
   "execution_count": 64,
   "id": "9bbffc1f-650c-429f-a409-d637ec71b469",
   "metadata": {},
   "outputs": [
    {
     "name": "stdout",
     "output_type": "stream",
     "text": [
      "The R-square is:  0.7609686443622008\n"
     ]
    }
   ],
   "source": [
    "#highway_mpg_fit\n",
    "lm.fit(X, Y)\n",
    "# Find the R^2\n",
    "print('The R-square is: ', lm.score(X, Y))"
   ]
  },
  {
   "cell_type": "markdown",
   "id": "f8d3bd1b-a4ae-43d3-be67-21b4e513ac66",
   "metadata": {},
   "source": [
    "Podemos decir que aproximadamente el 76.096% de la variación del precio se explica mediante este modelo lineal simple \"highway_mpg_fit\"."
   ]
  },
  {
   "cell_type": "markdown",
   "id": "d333ae75-53f3-46fb-a901-ecbe2b6b785e",
   "metadata": {},
   "source": [
    "Ahora calculemos el MSE:"
   ]
  },
  {
   "cell_type": "markdown",
   "id": "1c4c2965-e055-452f-8274-17a0c229dfa9",
   "metadata": {},
   "source": [
    "Podemos predecir a salida yhat usando el método de predicción, donde X es la entrada de la variable."
   ]
  },
  {
   "cell_type": "code",
   "execution_count": 65,
   "id": "5c1fa0a4-b373-4b18-8cf8-62ad2daf563b",
   "metadata": {},
   "outputs": [
    {
     "name": "stdout",
     "output_type": "stream",
     "text": [
      "The output of the first four predicted value is:  [13728.4631336  13728.4631336  17399.38347881 10224.40280408]\n"
     ]
    }
   ],
   "source": [
    "Yhat=lm.predict(X)\n",
    "print('The output of the first four predicted value is: ', Yhat[0:4])"
   ]
  },
  {
   "cell_type": "markdown",
   "id": "83fe21b1-455d-42da-95a3-c744d219002e",
   "metadata": {},
   "source": [
    "Importamos el la función `mean_squared_error` desde el módulo `metrics`."
   ]
  },
  {
   "cell_type": "code",
   "execution_count": 67,
   "id": "60362566-3e33-4e2c-9348-89cf8446d1c6",
   "metadata": {},
   "outputs": [],
   "source": [
    "from sklearn.metrics import mean_squared_error"
   ]
  },
  {
   "cell_type": "markdown",
   "id": "0b398770-690e-4765-a08e-d005293746d0",
   "metadata": {},
   "source": [
    "Podemos comparar los resultados de la predicción con los resultados actuales."
   ]
  },
  {
   "cell_type": "code",
   "execution_count": 68,
   "id": "1df63055-7d49-4adf-b359-fa3e1524fc62",
   "metadata": {},
   "outputs": [
    {
     "name": "stdout",
     "output_type": "stream",
     "text": [
      "The mean square error of price and predicted value is:  15021126.025174143\n"
     ]
    }
   ],
   "source": [
    "mse = mean_squared_error(df['price'], Yhat)\n",
    "print('The mean square error of price and predicted value is: ', mse)"
   ]
  },
  {
   "cell_type": "markdown",
   "id": "9e19efff-58f5-4980-a353-d0279df3a1a5",
   "metadata": {},
   "source": [
    "## Modelo 2: Regresión Lineal Múltiple"
   ]
  },
  {
   "cell_type": "markdown",
   "id": "75ea58ea-5a73-4478-ad1c-562972174e45",
   "metadata": {},
   "source": [
    "Calculamos R-cuadrado."
   ]
  },
  {
   "cell_type": "code",
   "execution_count": 71,
   "id": "e90dbdaa-d103-4341-88df-cf2a779a7d8c",
   "metadata": {},
   "outputs": [
    {
     "name": "stdout",
     "output_type": "stream",
     "text": [
      "R-cuadrado es: 0.8093562806577457\n"
     ]
    }
   ],
   "source": [
    "#fit the model\n",
    "lm.fit(Z, df['price'])\n",
    "# R-cuadrado\n",
    "print(\"R-cuadrado es:\",lm.score(Z, df['price']))"
   ]
  },
  {
   "cell_type": "markdown",
   "id": "a61329d4-f63d-4092-9614-1be4090a59af",
   "metadata": {},
   "source": [
    "Podemos decir que aproximadamente el 80.896 % de la variación del precio se explica mediante esta regresión lineal múltiple \"multi_fit\"."
   ]
  },
  {
   "cell_type": "markdown",
   "id": "a05fb32a-3ddb-4d20-bd46-9094ecf0a080",
   "metadata": {},
   "source": [
    "Calculemos el MSE: "
   ]
  },
  {
   "cell_type": "code",
   "execution_count": 72,
   "id": "e7f03406-13df-449e-8139-3f81acdcf3ab",
   "metadata": {},
   "outputs": [],
   "source": [
    "Y_hat_predict = lm.predict(Z) "
   ]
  },
  {
   "cell_type": "markdown",
   "id": "c4902a9a-135e-45ba-93ff-0610fb246774",
   "metadata": {},
   "source": [
    "Comparamos los resultados de la predicción con los resultados actuales."
   ]
  },
  {
   "cell_type": "code",
   "execution_count": 83,
   "id": "066f7e2e-bc45-4504-9038-d02c4152f8e1",
   "metadata": {},
   "outputs": [
    {
     "name": "stdout",
     "output_type": "stream",
     "text": [
      "El MSE del precio y el valor de la prediccion usando multi_fit es: 11980366.87072649\n"
     ]
    }
   ],
   "source": [
    "print('El MSE del precio y el valor de la prediccion usando multi_fit es:',mean_squared_error(df['price'], Y_hat_predict))"
   ]
  },
  {
   "cell_type": "markdown",
   "id": "17146d06-09fc-4134-9b84-a78c8d4c1ce1",
   "metadata": {},
   "source": [
    "## Modelo 3:Regresión Polinomial"
   ]
  },
  {
   "cell_type": "markdown",
   "id": "07761f10-aed0-41d2-89aa-2e4aff9a76ce",
   "metadata": {},
   "source": [
    "Calculamos R-cuadrado"
   ]
  },
  {
   "cell_type": "markdown",
   "id": "d7d5991d-5387-4b85-b478-d035d82a03b8",
   "metadata": {},
   "source": [
    "Importamos la función `r2_score` del módulo `metrics` dado a que se usa una función distinta."
   ]
  },
  {
   "cell_type": "code",
   "execution_count": 80,
   "id": "85ea57e3-e17d-4baf-916e-e9a1679b7495",
   "metadata": {},
   "outputs": [],
   "source": [
    "from sklearn.metrics import r2_score"
   ]
  },
  {
   "cell_type": "markdown",
   "id": "63ef725f-3e9d-4ed9-8d02-6ece5293e745",
   "metadata": {},
   "source": [
    "Aplicamos la función para encontrar el valor de R-cuadrado."
   ]
  },
  {
   "cell_type": "code",
   "execution_count": 81,
   "id": "777a7e0e-197c-491e-bb68-f26ee957edc1",
   "metadata": {},
   "outputs": [
    {
     "name": "stdout",
     "output_type": "stream",
     "text": [
      "El valor de R-cuadrado es: 0.674194666390652\n"
     ]
    }
   ],
   "source": [
    "r_squared = r2_score(y, p(x))\n",
    "print(\"El valor de R-cuadrado es:\", r_squared)"
   ]
  },
  {
   "cell_type": "markdown",
   "id": "12049bab-b1e4-4999-bbd7-5cc59e524c9a",
   "metadata": {},
   "source": [
    "Podemos decir que aproximadamente el 67.419 % de la variación del precio se explica mediante este ajuste polinómico."
   ]
  },
  {
   "cell_type": "markdown",
   "id": "d7c98132-1748-4f32-ad31-1d9bb1a29e7b",
   "metadata": {},
   "source": [
    "Calulamos el MSE"
   ]
  },
  {
   "cell_type": "code",
   "execution_count": 82,
   "id": "f2a50faf-fbc7-44c5-9fcc-55da19b6ceb7",
   "metadata": {},
   "outputs": [
    {
     "data": {
      "text/plain": [
       "20474146.426361214"
      ]
     },
     "execution_count": 82,
     "metadata": {},
     "output_type": "execute_result"
    }
   ],
   "source": [
    "mean_squared_error(df['price'], p(x))"
   ]
  },
  {
   "cell_type": "markdown",
   "id": "06763008-162c-46e0-a30f-6eb018a74321",
   "metadata": {},
   "source": [
    "## Predicción y Toma de Decisiones"
   ]
  },
  {
   "cell_type": "markdown",
   "id": "d1a075ff-488b-4530-b0ba-ae57b7e393e4",
   "metadata": {},
   "source": [
    "### Predicción"
   ]
  },
  {
   "cell_type": "markdown",
   "id": "be8bcdf1-615d-499a-b1be-7d7e33cfb2df",
   "metadata": {},
   "source": [
    "En la sección anterior, entrenamos el modelo usando el método fit. Ahora usaremos el método predict para producir una predicción. Importemos pyplot para graficar; también utilizaremos algunas funciones de numpy."
   ]
  },
  {
   "cell_type": "code",
   "execution_count": 85,
   "id": "4d981cff-7210-4b69-90d7-a688992afc6e",
   "metadata": {},
   "outputs": [],
   "source": [
    "import matplotlib.pyplot as plt\n",
    "import numpy as np"
   ]
  },
  {
   "cell_type": "markdown",
   "id": "36131360-7371-4a55-9eb9-1db7a0adeb88",
   "metadata": {},
   "source": [
    "Creamos una nueva entrada."
   ]
  },
  {
   "cell_type": "code",
   "execution_count": 86,
   "id": "c3089585-6422-45b2-8056-9fd2d5d868ba",
   "metadata": {},
   "outputs": [],
   "source": [
    "new_input = np.arange(1, 100, 1).reshape(-1,1)"
   ]
  },
  {
   "cell_type": "markdown",
   "id": "51fbd710-0c5d-4480-8006-0c84aef61f17",
   "metadata": {},
   "source": [
    "Entrenamos el modelo."
   ]
  },
  {
   "cell_type": "code",
   "execution_count": 87,
   "id": "747a252c-cc45-49de-b57a-8c3b097d3af9",
   "metadata": {},
   "outputs": [
    {
     "data": {
      "text/html": [
       "<style>#sk-container-id-10 {color: black;background-color: white;}#sk-container-id-10 pre{padding: 0;}#sk-container-id-10 div.sk-toggleable {background-color: white;}#sk-container-id-10 label.sk-toggleable__label {cursor: pointer;display: block;width: 100%;margin-bottom: 0;padding: 0.3em;box-sizing: border-box;text-align: center;}#sk-container-id-10 label.sk-toggleable__label-arrow:before {content: \"▸\";float: left;margin-right: 0.25em;color: #696969;}#sk-container-id-10 label.sk-toggleable__label-arrow:hover:before {color: black;}#sk-container-id-10 div.sk-estimator:hover label.sk-toggleable__label-arrow:before {color: black;}#sk-container-id-10 div.sk-toggleable__content {max-height: 0;max-width: 0;overflow: hidden;text-align: left;background-color: #f0f8ff;}#sk-container-id-10 div.sk-toggleable__content pre {margin: 0.2em;color: black;border-radius: 0.25em;background-color: #f0f8ff;}#sk-container-id-10 input.sk-toggleable__control:checked~div.sk-toggleable__content {max-height: 200px;max-width: 100%;overflow: auto;}#sk-container-id-10 input.sk-toggleable__control:checked~label.sk-toggleable__label-arrow:before {content: \"▾\";}#sk-container-id-10 div.sk-estimator input.sk-toggleable__control:checked~label.sk-toggleable__label {background-color: #d4ebff;}#sk-container-id-10 div.sk-label input.sk-toggleable__control:checked~label.sk-toggleable__label {background-color: #d4ebff;}#sk-container-id-10 input.sk-hidden--visually {border: 0;clip: rect(1px 1px 1px 1px);clip: rect(1px, 1px, 1px, 1px);height: 1px;margin: -1px;overflow: hidden;padding: 0;position: absolute;width: 1px;}#sk-container-id-10 div.sk-estimator {font-family: monospace;background-color: #f0f8ff;border: 1px dotted black;border-radius: 0.25em;box-sizing: border-box;margin-bottom: 0.5em;}#sk-container-id-10 div.sk-estimator:hover {background-color: #d4ebff;}#sk-container-id-10 div.sk-parallel-item::after {content: \"\";width: 100%;border-bottom: 1px solid gray;flex-grow: 1;}#sk-container-id-10 div.sk-label:hover label.sk-toggleable__label {background-color: #d4ebff;}#sk-container-id-10 div.sk-serial::before {content: \"\";position: absolute;border-left: 1px solid gray;box-sizing: border-box;top: 0;bottom: 0;left: 50%;z-index: 0;}#sk-container-id-10 div.sk-serial {display: flex;flex-direction: column;align-items: center;background-color: white;padding-right: 0.2em;padding-left: 0.2em;position: relative;}#sk-container-id-10 div.sk-item {position: relative;z-index: 1;}#sk-container-id-10 div.sk-parallel {display: flex;align-items: stretch;justify-content: center;background-color: white;position: relative;}#sk-container-id-10 div.sk-item::before, #sk-container-id-10 div.sk-parallel-item::before {content: \"\";position: absolute;border-left: 1px solid gray;box-sizing: border-box;top: 0;bottom: 0;left: 50%;z-index: -1;}#sk-container-id-10 div.sk-parallel-item {display: flex;flex-direction: column;z-index: 1;position: relative;background-color: white;}#sk-container-id-10 div.sk-parallel-item:first-child::after {align-self: flex-end;width: 50%;}#sk-container-id-10 div.sk-parallel-item:last-child::after {align-self: flex-start;width: 50%;}#sk-container-id-10 div.sk-parallel-item:only-child::after {width: 0;}#sk-container-id-10 div.sk-dashed-wrapped {border: 1px dashed gray;margin: 0 0.4em 0.5em 0.4em;box-sizing: border-box;padding-bottom: 0.4em;background-color: white;}#sk-container-id-10 div.sk-label label {font-family: monospace;font-weight: bold;display: inline-block;line-height: 1.2em;}#sk-container-id-10 div.sk-label-container {text-align: center;}#sk-container-id-10 div.sk-container {/* jupyter's `normalize.less` sets `[hidden] { display: none; }` but bootstrap.min.css set `[hidden] { display: none !important; }` so we also need the `!important` here to be able to override the default hidden behavior on the sphinx rendered scikit-learn.org. See: https://github.com/scikit-learn/scikit-learn/issues/21755 */display: inline-block !important;position: relative;}#sk-container-id-10 div.sk-text-repr-fallback {display: none;}</style><div id=\"sk-container-id-10\" class=\"sk-top-container\"><div class=\"sk-text-repr-fallback\"><pre>LinearRegression()</pre><b>In a Jupyter environment, please rerun this cell to show the HTML representation or trust the notebook. <br />On GitHub, the HTML representation is unable to render, please try loading this page with nbviewer.org.</b></div><div class=\"sk-container\" hidden><div class=\"sk-item\"><div class=\"sk-estimator sk-toggleable\"><input class=\"sk-toggleable__control sk-hidden--visually\" id=\"sk-estimator-id-16\" type=\"checkbox\" checked><label for=\"sk-estimator-id-16\" class=\"sk-toggleable__label sk-toggleable__label-arrow\">LinearRegression</label><div class=\"sk-toggleable__content\"><pre>LinearRegression()</pre></div></div></div></div></div>"
      ],
      "text/plain": [
       "LinearRegression()"
      ]
     },
     "execution_count": 87,
     "metadata": {},
     "output_type": "execute_result"
    }
   ],
   "source": [
    "lm.fit(X,Y)\n",
    "lm"
   ]
  },
  {
   "cell_type": "markdown",
   "id": "81802889-6810-497b-b65f-7c6cb87480c7",
   "metadata": {},
   "source": [
    "Realizamos una predicción."
   ]
  },
  {
   "cell_type": "code",
   "execution_count": 88,
   "id": "f1622601-8287-49a5-8e53-12c495f7f3b5",
   "metadata": {},
   "outputs": [
    {
     "name": "stderr",
     "output_type": "stream",
     "text": [
      "D:\\anaconda3\\Lib\\site-packages\\sklearn\\base.py:439: UserWarning: X does not have valid feature names, but LinearRegression was fitted with feature names\n",
      "  warnings.warn(\n"
     ]
    },
    {
     "data": {
      "text/plain": [
       "array([-7796.47889059, -7629.6188749 , -7462.75885921, -7295.89884352,\n",
       "       -7129.03882782])"
      ]
     },
     "execution_count": 88,
     "metadata": {},
     "output_type": "execute_result"
    }
   ],
   "source": [
    "yhat = lm.predict(new_input)\n",
    "yhat[:5]"
   ]
  },
  {
   "cell_type": "markdown",
   "id": "2a7937f4-3268-40f0-a937-906a0122a7cd",
   "metadata": {},
   "source": [
    "Graficamos los datos."
   ]
  },
  {
   "cell_type": "code",
   "execution_count": 90,
   "id": "68ce96a1-bdb9-4253-80d6-521fad854d8f",
   "metadata": {},
   "outputs": [
    {
     "data": {
      "image/png": "[encoded data removed]",
      "text/plain": [
       "<Figure size 640x480 with 1 Axes>"
      ]
     },
     "metadata": {},
     "output_type": "display_data"
    }
   ],
   "source": [
    "plt.plot(new_input, yhat)\n",
    "plt.show()"
   ]
  },
  {
   "cell_type": "markdown",
   "id": "b54ff367-bf6e-4c0b-81a8-573bfc6d104d",
   "metadata": {},
   "source": [
    "## Toma de decisiones: Determinando un buen ajuste del modelo"
   ]
  },
  {
   "cell_type": "markdown",
   "id": "900759f6-8d72-4151-829c-d5d62c10601f",
   "metadata": {},
   "source": [
    "Ahora que hemos visualizado los diferentes modelos y generado los valores de R-cuadrado y MSE para los ajustes, ¿cómo determinamos un buen ajuste del modelo?"
   ]
  },
  {
   "cell_type": "markdown",
   "id": "4118ef32-b14c-4fd9-ad50-6a82d9a055ac",
   "metadata": {},
   "source": [
    "<b>¿Qué valor de R-cuadrado es bueno?</b>"
   ]
  },
  {
   "cell_type": "markdown",
   "id": "2cc15f68-e78c-469f-a20c-bbdeba2ee712",
   "metadata": {},
   "source": [
    "Al comparar modelos, el modelo con el <b><i>valor de R-cuadrado más alto es un mejor ajuste para los datos</i></b>."
   ]
  },
  {
   "cell_type": "markdown",
   "id": "51af6874-27a5-49e8-88f8-c4df29154510",
   "metadata": {},
   "source": [
    "<b>¿Qué es un buen MSE?</b>"
   ]
  },
  {
   "cell_type": "markdown",
   "id": "2bdcea5d-5684-4afe-9c27-8f33ec9d6241",
   "metadata": {},
   "source": [
    "Al comparar modelos, el modelo con el <b><i>valor de MSE más pequeño es un mejor ajuste para los datos.</i></b>"
   ]
  },
  {
   "cell_type": "markdown",
   "id": "c7e60c64-4878-4166-bd10-96a51fb273a6",
   "metadata": {},
   "source": [
    "Veamos los valores para los diferentes modelos. "
   ]
  },
  {
   "cell_type": "markdown",
   "id": "a861ae34-bb2c-4c2e-a262-626f04aa758c",
   "metadata": {},
   "source": [
    "<b>Regresión lineal simple:</b> Usando Highway-mpg como variable predictora del precio.\n",
    "\n",
    "* R-cuadrado: 0.7609686443622008\n",
    "* MSE: 1.50 x10^7 \n"
   ]
  },
  {
   "cell_type": "markdown",
   "id": "13538914-0623-4ef0-b6ff-02285a3e9707",
   "metadata": {},
   "source": [
    "<b>Regresión lineal múltiple:</b> Usando Horsepower, Curb-weight, Engine-size y Highway-mpg como variables predictoras del precio.\n",
    "\n",
    "* R-cuadrado: 0.8093562806577457\n",
    "* MSE: 1.19 x10^7 "
   ]
  },
  {
   "cell_type": "markdown",
   "id": "ff5f9be3-32e2-4cc0-a846-46a3948d33d9",
   "metadata": {},
   "source": [
    "<b>Ajuste polinómico:</b> Usando Highway-mpg como variable predictora del precio.\n",
    "\n",
    "* R-cuadrado: 0.674194666390652\n",
    "* MSE: 2.04 x 10^7"
   ]
  },
  {
   "cell_type": "markdown",
   "id": "f9ef403f-b692-4b5d-a37a-db42d26404e2",
   "metadata": {},
   "source": [
    "### Modelo de regresión lineal simple (SLR) vs. Modelo de regresión lineal múltiple (MLR)"
   ]
  },
  {
   "cell_type": "markdown",
   "id": "a81e5514-70d8-4e7b-9ca4-adb213f465e8",
   "metadata": {},
   "source": [
    "Por lo general, cuantas más variables tengas, mejor será tu modelo para predecir, pero esto no siempre es cierto. A veces puede que no tengas suficientes datos, te encuentres con problemas numéricos o muchas de las variables pueden no ser útiles e incluso actuar como ruido. Por lo tanto, siempre debes verificar el MSE y R-cuadrado."
   ]
  },
  {
   "cell_type": "markdown",
   "id": "729b3e65-8e37-427d-8434-30cb0ca4cb2c",
   "metadata": {},
   "source": [
    "Para comparar los resultados de los modelos MLR vs. SLR, observamos una combinación tanto del R-cuadrado como del MSE para hacer la mejor conclusión sobre el ajuste del modelo."
   ]
  },
  {
   "cell_type": "markdown",
   "id": "02923df5-478c-4aba-946d-9ee5c823b750",
   "metadata": {},
   "source": [
    "* <b>MSE:</b> El MSE de SLR es 1.50 x10^7 mientras que MLR tiene un MSE de 1.19 x10^7. El MSE de MLR es mucho más pequeño.\n",
    "* <b>R-cuadrado:</b> En este caso, también podemos ver que hay una gran diferencia entre el R-cuadrado de SLR y el R-cuadrado de MLR. El R-cuadrado para SLR (~ 0.7609) es más pequeño en comparación con el R-cuadrado para MLR (~ 0.809).\n",
    "  \n",
    "Este R-cuadrado en combinación con el MSE muestra que <b><i>MLR parece ser el mejor ajuste de modelo en este caso en comparación con SLR</b></i>."
   ]
  },
  {
   "cell_type": "markdown",
   "id": "f62095d9-a002-411a-a3b2-d17e95b6096e",
   "metadata": {},
   "source": [
    "### Modelo de regresión lineal simple (SLR) vs. Ajuste polinómico"
   ]
  },
  {
   "cell_type": "markdown",
   "id": "f8db661f-6a45-4259-88e2-e9bce8d6b72f",
   "metadata": {},
   "source": [
    "* <b>MSE:</b> Podemos ver que el Ajuste Polinómico redujo el MSE, ya que este MSE es más pequeño que el de SLR.\n",
    "* <b>R-cuadrado:</b> El R-cuadrado para el Ajuste Polinómico es más grande que el R-cuadrado para SLR, por lo que el Ajuste Polinómico también aumentó bastante el R-cuadrado.\n",
    "  \n",
    "Dado que el Ajuste Polinómico resultó en un MSE más bajo y un R-cuadrado más alto, podemos concluir que el <b><i>Ajuste polinómico fue un modelo de mejor ajuste que la regresión lineal simple</b></i> para predecir \"precio\" con \"highway-mpg\" como variable predictora."
   ]
  },
  {
   "cell_type": "markdown",
   "id": "67956914-2aaa-4af8-8451-e5e3ca67425b",
   "metadata": {},
   "source": [
    "### Regresión lineal múltiple (MLR) vs. Ajuste polinómico"
   ]
  },
  {
   "cell_type": "markdown",
   "id": "18ad27dd-04a5-4853-9430-94ae2c17b035",
   "metadata": {},
   "source": [
    "* <b>MSE:</b> El MSE para MLR es más pequeño que el MSE para el Ajuste Polinómico.\n",
    "* <b>R-cuadrado:</b> El R-cuadrado para MLR también es mucho más grande que para el Ajuste Polinómico."
   ]
  },
  {
   "cell_type": "markdown",
   "id": "97264d89-39c8-4b49-be18-5d7d4b094cf2",
   "metadata": {},
   "source": [
    "### Conclusión"
   ]
  },
  {
   "cell_type": "markdown",
   "id": "b24b7440-61d5-492f-b3ff-eaff26ab1605",
   "metadata": {},
   "source": [
    "Comparando estos tres modelos, concluimos que el modelo <b><i>MLR es el mejor modelo para poder predecir el precio a partir de nuestro conjunto de datos</b></i>. Este resultado tiene sentido ya que tenemos 27 variables en total y sabemos que más de una de esas variables son posibles predictores del precio final del automóvil."
   ]
  },
  {
   "cell_type": "markdown",
   "id": "12f6f191-2b84-46fb-a2ee-ff89656e784d",
   "metadata": {},
   "source": [
    "<hr/>\n",
    "\n",
    "## Autor:\n",
    "Jonathan Palan\n",
    "\n",
    "## Carga y cambios\n",
    "\n",
    "| Fecha             |Por         |  Descripción                                  |\n",
    "| -----------------| ---------------| ----------------------------------------------|\n",
    "| 2024-05-07      | Jonathan Palan | Traducción curso Data Analysis with Python|\n",
    "\n",
    "## Bibliografía\n",
    "\n",
    "[1] IBM,\"Data Analysis with Python\", Skills Network \n",
    "<hr/>"
   ]
  }
 ],
 "metadata": {
  "kernelspec": {
   "display_name": "Python 3 (ipykernel)",
   "language": "python",
   "name": "python3"
  },
  "language_info": {
   "codemirror_mode": {
    "name": "ipython",
    "version": 3
   },
   "file_extension": ".py",
   "mimetype": "text/x-python",
   "name": "python",
   "nbconvert_exporter": "python",
   "pygments_lexer": "ipython3",
   "version": "3.11.7"
  }
 },
 "nbformat": 4,
 "nbformat_minor": 5
}
