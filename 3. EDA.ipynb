{
 "cells": [
  {
   "cell_type": "markdown",
   "id": "33d020ff-9076-4d7a-8e4d-2d1ba2895394",
   "metadata": {},
   "source": [
    "# Análisis exploratorio de datos EDA"
   ]
  },
  {
   "cell_type": "markdown",
   "id": "0ce182ba-85eb-4907-ba62-a42cd61dfbf0",
   "metadata": {},
   "source": [
    "<b>¿Cuáles son las principales características que tienen el mayor impacto en el precio del automóvil?</b>"
   ]
  },
  {
   "cell_type": "markdown",
   "id": "26053d78-f331-4b5a-a82d-90c001686942",
   "metadata": {},
   "source": [
    "Después de revisar este Notebook, podrás:\n",
    "\n",
    "* Explorar características para predecir el precio del automóvil\n",
    "* Analizar patrones y ejecutar análisis estadístico descriptivo\n",
    "* Agrupar datos según parámetros identificados y crear tablas dinámicas\n",
    "* Identificar el efecto de atributos independientes en el precio de los automóviles"
   ]
  },
  {
   "cell_type": "markdown",
   "id": "1f1196a3-733e-402e-85b9-c697067c8434",
   "metadata": {},
   "source": [
    "Importar librerías a usar."
   ]
  },
  {
   "cell_type": "code",
   "execution_count": 4,
   "id": "d85eff07-115a-4527-baba-21e1b4de7edb",
   "metadata": {},
   "outputs": [],
   "source": [
    "import pandas as pd\n",
    "import numpy as np"
   ]
  },
  {
   "cell_type": "markdown",
   "id": "91e37e03-fa48-418d-927b-f314f152460e",
   "metadata": {},
   "source": [
    "Descargar el conjunto de datos a usar."
   ]
  },
  {
   "cell_type": "code",
   "execution_count": 5,
   "id": "daec2012-fa45-45bf-bc5c-1d13d040e0d1",
   "metadata": {},
   "outputs": [],
   "source": [
    "url = 'https://cf-courses-data.s3.us.cloud-object-storage.appdomain.cloud/IBMDeveloperSkillsNetwork-DA0101EN-SkillsNetwork/labs/Data%20files/automobileEDA.csv'"
   ]
  },
  {
   "cell_type": "code",
   "execution_count": 6,
   "id": "fe1a23e3-8685-468b-af19-e76f2d5d4108",
   "metadata": {},
   "outputs": [
    {
     "data": {
      "text/html": [
       "<div>\n",
       "<style scoped>\n",
       "    .dataframe tbody tr th:only-of-type {\n",
       "        vertical-align: middle;\n",
       "    }\n",
       "\n",
       "    .dataframe tbody tr th {\n",
       "        vertical-align: top;\n",
       "    }\n",
       "\n",
       "    .dataframe thead th {\n",
       "        text-align: right;\n",
       "    }\n",
       "</style>\n",
       "<table border=\"1\" class=\"dataframe\">\n",
       "  <thead>\n",
       "    <tr style=\"text-align: right;\">\n",
       "      <th></th>\n",
       "      <th>symboling</th>\n",
       "      <th>normalized-losses</th>\n",
       "      <th>make</th>\n",
       "      <th>aspiration</th>\n",
       "      <th>num-of-doors</th>\n",
       "      <th>body-style</th>\n",
       "      <th>drive-wheels</th>\n",
       "      <th>engine-location</th>\n",
       "      <th>wheel-base</th>\n",
       "      <th>length</th>\n",
       "      <th>...</th>\n",
       "      <th>compression-ratio</th>\n",
       "      <th>horsepower</th>\n",
       "      <th>peak-rpm</th>\n",
       "      <th>city-mpg</th>\n",
       "      <th>highway-mpg</th>\n",
       "      <th>price</th>\n",
       "      <th>city-L/100km</th>\n",
       "      <th>horsepower-binned</th>\n",
       "      <th>diesel</th>\n",
       "      <th>gas</th>\n",
       "    </tr>\n",
       "  </thead>\n",
       "  <tbody>\n",
       "    <tr>\n",
       "      <th>0</th>\n",
       "      <td>3</td>\n",
       "      <td>122</td>\n",
       "      <td>alfa-romero</td>\n",
       "      <td>std</td>\n",
       "      <td>two</td>\n",
       "      <td>convertible</td>\n",
       "      <td>rwd</td>\n",
       "      <td>front</td>\n",
       "      <td>88.6</td>\n",
       "      <td>0.811148</td>\n",
       "      <td>...</td>\n",
       "      <td>9.0</td>\n",
       "      <td>111.0</td>\n",
       "      <td>5000.0</td>\n",
       "      <td>21</td>\n",
       "      <td>27</td>\n",
       "      <td>13495.0</td>\n",
       "      <td>11.190476</td>\n",
       "      <td>Medium</td>\n",
       "      <td>0</td>\n",
       "      <td>1</td>\n",
       "    </tr>\n",
       "    <tr>\n",
       "      <th>1</th>\n",
       "      <td>3</td>\n",
       "      <td>122</td>\n",
       "      <td>alfa-romero</td>\n",
       "      <td>std</td>\n",
       "      <td>two</td>\n",
       "      <td>convertible</td>\n",
       "      <td>rwd</td>\n",
       "      <td>front</td>\n",
       "      <td>88.6</td>\n",
       "      <td>0.811148</td>\n",
       "      <td>...</td>\n",
       "      <td>9.0</td>\n",
       "      <td>111.0</td>\n",
       "      <td>5000.0</td>\n",
       "      <td>21</td>\n",
       "      <td>27</td>\n",
       "      <td>16500.0</td>\n",
       "      <td>11.190476</td>\n",
       "      <td>Medium</td>\n",
       "      <td>0</td>\n",
       "      <td>1</td>\n",
       "    </tr>\n",
       "    <tr>\n",
       "      <th>2</th>\n",
       "      <td>1</td>\n",
       "      <td>122</td>\n",
       "      <td>alfa-romero</td>\n",
       "      <td>std</td>\n",
       "      <td>two</td>\n",
       "      <td>hatchback</td>\n",
       "      <td>rwd</td>\n",
       "      <td>front</td>\n",
       "      <td>94.5</td>\n",
       "      <td>0.822681</td>\n",
       "      <td>...</td>\n",
       "      <td>9.0</td>\n",
       "      <td>154.0</td>\n",
       "      <td>5000.0</td>\n",
       "      <td>19</td>\n",
       "      <td>26</td>\n",
       "      <td>16500.0</td>\n",
       "      <td>12.368421</td>\n",
       "      <td>Medium</td>\n",
       "      <td>0</td>\n",
       "      <td>1</td>\n",
       "    </tr>\n",
       "    <tr>\n",
       "      <th>3</th>\n",
       "      <td>2</td>\n",
       "      <td>164</td>\n",
       "      <td>audi</td>\n",
       "      <td>std</td>\n",
       "      <td>four</td>\n",
       "      <td>sedan</td>\n",
       "      <td>fwd</td>\n",
       "      <td>front</td>\n",
       "      <td>99.8</td>\n",
       "      <td>0.848630</td>\n",
       "      <td>...</td>\n",
       "      <td>10.0</td>\n",
       "      <td>102.0</td>\n",
       "      <td>5500.0</td>\n",
       "      <td>24</td>\n",
       "      <td>30</td>\n",
       "      <td>13950.0</td>\n",
       "      <td>9.791667</td>\n",
       "      <td>Medium</td>\n",
       "      <td>0</td>\n",
       "      <td>1</td>\n",
       "    </tr>\n",
       "    <tr>\n",
       "      <th>4</th>\n",
       "      <td>2</td>\n",
       "      <td>164</td>\n",
       "      <td>audi</td>\n",
       "      <td>std</td>\n",
       "      <td>four</td>\n",
       "      <td>sedan</td>\n",
       "      <td>4wd</td>\n",
       "      <td>front</td>\n",
       "      <td>99.4</td>\n",
       "      <td>0.848630</td>\n",
       "      <td>...</td>\n",
       "      <td>8.0</td>\n",
       "      <td>115.0</td>\n",
       "      <td>5500.0</td>\n",
       "      <td>18</td>\n",
       "      <td>22</td>\n",
       "      <td>17450.0</td>\n",
       "      <td>13.055556</td>\n",
       "      <td>Medium</td>\n",
       "      <td>0</td>\n",
       "      <td>1</td>\n",
       "    </tr>\n",
       "  </tbody>\n",
       "</table>\n",
       "<p>5 rows × 29 columns</p>\n",
       "</div>"
      ],
      "text/plain": [
       "   symboling  normalized-losses         make aspiration num-of-doors  \\\n",
       "0          3                122  alfa-romero        std          two   \n",
       "1          3                122  alfa-romero        std          two   \n",
       "2          1                122  alfa-romero        std          two   \n",
       "3          2                164         audi        std         four   \n",
       "4          2                164         audi        std         four   \n",
       "\n",
       "    body-style drive-wheels engine-location  wheel-base    length  ...  \\\n",
       "0  convertible          rwd           front        88.6  0.811148  ...   \n",
       "1  convertible          rwd           front        88.6  0.811148  ...   \n",
       "2    hatchback          rwd           front        94.5  0.822681  ...   \n",
       "3        sedan          fwd           front        99.8  0.848630  ...   \n",
       "4        sedan          4wd           front        99.4  0.848630  ...   \n",
       "\n",
       "   compression-ratio  horsepower  peak-rpm city-mpg highway-mpg    price  \\\n",
       "0                9.0       111.0    5000.0       21          27  13495.0   \n",
       "1                9.0       111.0    5000.0       21          27  16500.0   \n",
       "2                9.0       154.0    5000.0       19          26  16500.0   \n",
       "3               10.0       102.0    5500.0       24          30  13950.0   \n",
       "4                8.0       115.0    5500.0       18          22  17450.0   \n",
       "\n",
       "  city-L/100km  horsepower-binned  diesel  gas  \n",
       "0    11.190476             Medium       0    1  \n",
       "1    11.190476             Medium       0    1  \n",
       "2    12.368421             Medium       0    1  \n",
       "3     9.791667             Medium       0    1  \n",
       "4    13.055556             Medium       0    1  \n",
       "\n",
       "[5 rows x 29 columns]"
      ]
     },
     "execution_count": 6,
     "metadata": {},
     "output_type": "execute_result"
    }
   ],
   "source": [
    "df = pd.read_csv(url)\n",
    "df.head()"
   ]
  },
  {
   "cell_type": "markdown",
   "id": "48ec0fca-f181-448c-a452-75aa71a3d739",
   "metadata": {},
   "source": [
    "## Analizando patrones de características individuales mediante visualización"
   ]
  },
  {
   "cell_type": "markdown",
   "id": "db1a7d78-9114-4dba-aaea-1272e1a42c22",
   "metadata": {},
   "source": [
    "Para instalar Seaborn usamos el gestor de paquetes de Python pip."
   ]
  },
  {
   "cell_type": "markdown",
   "id": "85e2e3a0-1863-475a-a2c3-19d789bbf893",
   "metadata": {},
   "source": [
    "Importamos los paquetes de visualización `Matplotlib` y `Seaborn`."
   ]
  },
  {
   "cell_type": "code",
   "execution_count": 7,
   "id": "fc517b2c-255d-4194-a463-b3a0e2172c31",
   "metadata": {},
   "outputs": [],
   "source": [
    "import matplotlib.pyplot as plt\n",
    "import seaborn as sns"
   ]
  },
  {
   "cell_type": "markdown",
   "id": "6a34c24a-d260-4950-b329-dfb9a184a9cd",
   "metadata": {},
   "source": [
    "<b>Cómo elegir un correcto método de visualización ? </b>"
   ]
  },
  {
   "cell_type": "markdown",
   "id": "8c2b8a4d-83d8-472c-a3a6-452be0ba9044",
   "metadata": {},
   "source": [
    "Al visualizar variables individuales, es importante primero entender qué tipo de variable estás tratando. Esto nos ayudará a encontrar el método de visualización adecuado para esa variable."
   ]
  },
  {
   "cell_type": "code",
   "execution_count": 11,
   "id": "dd6ac4d8-1f82-4000-9aaa-f8bc9bf2a6dc",
   "metadata": {},
   "outputs": [
    {
     "data": {
      "text/plain": [
       "symboling              int64\n",
       "normalized-losses      int64\n",
       "make                  object\n",
       "aspiration            object\n",
       "num-of-doors          object\n",
       "body-style            object\n",
       "drive-wheels          object\n",
       "engine-location       object\n",
       "wheel-base           float64\n",
       "length               float64\n",
       "width                float64\n",
       "height               float64\n",
       "curb-weight            int64\n",
       "engine-type           object\n",
       "num-of-cylinders      object\n",
       "engine-size            int64\n",
       "fuel-system           object\n",
       "bore                 float64\n",
       "stroke               float64\n",
       "compression-ratio    float64\n",
       "horsepower           float64\n",
       "peak-rpm             float64\n",
       "city-mpg               int64\n",
       "highway-mpg            int64\n",
       "price                float64\n",
       "city-L/100km         float64\n",
       "horsepower-binned     object\n",
       "diesel                 int64\n",
       "gas                    int64\n",
       "dtype: object"
      ]
     },
     "execution_count": 11,
     "metadata": {},
     "output_type": "execute_result"
    }
   ],
   "source": [
    "df.dtypes"
   ]
  },
  {
   "cell_type": "markdown",
   "id": "81d4130d-c1ee-494b-9d5c-7a88b480e8a5",
   "metadata": {},
   "source": [
    "Si queremos ver el tipo de variable de una columna."
   ]
  },
  {
   "cell_type": "code",
   "execution_count": 12,
   "id": "7e658bf5-4ee1-4232-95c3-57447ef2d185",
   "metadata": {},
   "outputs": [
    {
     "data": {
      "text/plain": [
       "dtype('float64')"
      ]
     },
     "execution_count": 12,
     "metadata": {},
     "output_type": "execute_result"
    }
   ],
   "source": [
    "df['peak-rpm'].dtype"
   ]
  },
  {
   "cell_type": "markdown",
   "id": "7fc05ba5-d40b-49d4-a7e4-a2af43760021",
   "metadata": {},
   "source": [
    "Por ejemplo, si quermos calcular la correlación entre variables de tipo `int64` o `float64`, usando el método `.corr`"
   ]
  },
  {
   "cell_type": "code",
   "execution_count": 36,
   "id": "c6c06393-da12-4bc9-8413-ae3006c39544",
   "metadata": {},
   "outputs": [
    {
     "data": {
      "text/plain": [
       "<bound method DataFrame.corr of      symboling  normalized-losses         make aspiration num-of-doors  \\\n",
       "0            3                122  alfa-romero        std          two   \n",
       "1            3                122  alfa-romero        std          two   \n",
       "2            1                122  alfa-romero        std          two   \n",
       "3            2                164         audi        std         four   \n",
       "4            2                164         audi        std         four   \n",
       "..         ...                ...          ...        ...          ...   \n",
       "196         -1                 95        volvo        std         four   \n",
       "197         -1                 95        volvo      turbo         four   \n",
       "198         -1                 95        volvo        std         four   \n",
       "199         -1                 95        volvo      turbo         four   \n",
       "200         -1                 95        volvo      turbo         four   \n",
       "\n",
       "      body-style drive-wheels engine-location  wheel-base    length  ...  \\\n",
       "0    convertible          rwd           front        88.6  0.811148  ...   \n",
       "1    convertible          rwd           front        88.6  0.811148  ...   \n",
       "2      hatchback          rwd           front        94.5  0.822681  ...   \n",
       "3          sedan          fwd           front        99.8  0.848630  ...   \n",
       "4          sedan          4wd           front        99.4  0.848630  ...   \n",
       "..           ...          ...             ...         ...       ...  ...   \n",
       "196        sedan          rwd           front       109.1  0.907256  ...   \n",
       "197        sedan          rwd           front       109.1  0.907256  ...   \n",
       "198        sedan          rwd           front       109.1  0.907256  ...   \n",
       "199        sedan          rwd           front       109.1  0.907256  ...   \n",
       "200        sedan          rwd           front       109.1  0.907256  ...   \n",
       "\n",
       "     compression-ratio  horsepower  peak-rpm city-mpg highway-mpg    price  \\\n",
       "0                  9.0       111.0    5000.0       21          27  13495.0   \n",
       "1                  9.0       111.0    5000.0       21          27  16500.0   \n",
       "2                  9.0       154.0    5000.0       19          26  16500.0   \n",
       "3                 10.0       102.0    5500.0       24          30  13950.0   \n",
       "4                  8.0       115.0    5500.0       18          22  17450.0   \n",
       "..                 ...         ...       ...      ...         ...      ...   \n",
       "196                9.5       114.0    5400.0       23          28  16845.0   \n",
       "197                8.7       160.0    5300.0       19          25  19045.0   \n",
       "198                8.8       134.0    5500.0       18          23  21485.0   \n",
       "199               23.0       106.0    4800.0       26          27  22470.0   \n",
       "200                9.5       114.0    5400.0       19          25  22625.0   \n",
       "\n",
       "    city-L/100km  horsepower-binned  diesel  gas  \n",
       "0      11.190476             Medium       0    1  \n",
       "1      11.190476             Medium       0    1  \n",
       "2      12.368421             Medium       0    1  \n",
       "3       9.791667             Medium       0    1  \n",
       "4      13.055556             Medium       0    1  \n",
       "..           ...                ...     ...  ...  \n",
       "196    10.217391             Medium       0    1  \n",
       "197    12.368421               High       0    1  \n",
       "198    13.055556             Medium       0    1  \n",
       "199     9.038462             Medium       1    0  \n",
       "200    12.368421             Medium       0    1  \n",
       "\n",
       "[201 rows x 29 columns]>"
      ]
     },
     "execution_count": 36,
     "metadata": {},
     "output_type": "execute_result"
    }
   ],
   "source": [
    "df.corr"
   ]
  },
  {
   "cell_type": "markdown",
   "id": "8a65c5db-8837-46ec-8927-90b2bbcb3b60",
   "metadata": {},
   "source": [
    "Si queremos sacar la correlación de columnas en específico."
   ]
  },
  {
   "cell_type": "code",
   "execution_count": 32,
   "id": "00935fe1-19f0-414a-90ab-be0d043741f4",
   "metadata": {},
   "outputs": [
    {
     "data": {
      "text/html": [
       "<div>\n",
       "<style scoped>\n",
       "    .dataframe tbody tr th:only-of-type {\n",
       "        vertical-align: middle;\n",
       "    }\n",
       "\n",
       "    .dataframe tbody tr th {\n",
       "        vertical-align: top;\n",
       "    }\n",
       "\n",
       "    .dataframe thead th {\n",
       "        text-align: right;\n",
       "    }\n",
       "</style>\n",
       "<table border=\"1\" class=\"dataframe\">\n",
       "  <thead>\n",
       "    <tr style=\"text-align: right;\">\n",
       "      <th></th>\n",
       "      <th>bore</th>\n",
       "      <th>stroke</th>\n",
       "      <th>compression-ratio</th>\n",
       "      <th>horsepower</th>\n",
       "    </tr>\n",
       "  </thead>\n",
       "  <tbody>\n",
       "    <tr>\n",
       "      <th>bore</th>\n",
       "      <td>1.000000</td>\n",
       "      <td>-0.055390</td>\n",
       "      <td>0.001263</td>\n",
       "      <td>0.566936</td>\n",
       "    </tr>\n",
       "    <tr>\n",
       "      <th>stroke</th>\n",
       "      <td>-0.055390</td>\n",
       "      <td>1.000000</td>\n",
       "      <td>0.187923</td>\n",
       "      <td>0.098462</td>\n",
       "    </tr>\n",
       "    <tr>\n",
       "      <th>compression-ratio</th>\n",
       "      <td>0.001263</td>\n",
       "      <td>0.187923</td>\n",
       "      <td>1.000000</td>\n",
       "      <td>-0.214514</td>\n",
       "    </tr>\n",
       "    <tr>\n",
       "      <th>horsepower</th>\n",
       "      <td>0.566936</td>\n",
       "      <td>0.098462</td>\n",
       "      <td>-0.214514</td>\n",
       "      <td>1.000000</td>\n",
       "    </tr>\n",
       "  </tbody>\n",
       "</table>\n",
       "</div>"
      ],
      "text/plain": [
       "                       bore    stroke  compression-ratio  horsepower\n",
       "bore               1.000000 -0.055390           0.001263    0.566936\n",
       "stroke            -0.055390  1.000000           0.187923    0.098462\n",
       "compression-ratio  0.001263  0.187923           1.000000   -0.214514\n",
       "horsepower         0.566936  0.098462          -0.214514    1.000000"
      ]
     },
     "execution_count": 32,
     "metadata": {},
     "output_type": "execute_result"
    }
   ],
   "source": [
    "df[['bore', 'stroke', 'compression-ratio', 'horsepower']].corr()"
   ]
  },
  {
   "cell_type": "markdown",
   "id": "c992bd90-8312-4f0d-ab77-7b36e217a8b1",
   "metadata": {},
   "source": [
    "## Variables numéricas continuas:"
   ]
  },
  {
   "cell_type": "markdown",
   "id": "da9a7d1c-25ca-4880-9aec-120bcc65d14a",
   "metadata": {},
   "source": [
    "Las variables numéricas continuas son variables que pueden contener cualquier valor dentro de un rango. Pueden ser del tipo `int64` o `float64`. Una excelente manera de visualizar estas variables es mediante gráficos de dispersión con líneas ajustadas.\n",
    "\n",
    "Para comenzar a entender la relación (lineal) entre una variable individual y el precio, podemos usar `regplot`, que traza el gráfico de dispersión más la línea de regresión ajustada para los datos. Esto será útil más adelante para visualizar el ajuste del modelo de regresión lineal simple también."
   ]
  },
  {
   "cell_type": "markdown",
   "id": "b5ff1746-46a7-417b-87c0-73eb4365d8d1",
   "metadata": {},
   "source": [
    "Veamos varios ejemplos de diferentes relaciones lineales:"
   ]
  },
  {
   "cell_type": "markdown",
   "id": "720fb6c9-23b2-443d-80e2-42c7b3b04baa",
   "metadata": {},
   "source": [
    "### Relación lineal positiva"
   ]
  },
  {
   "cell_type": "markdown",
   "id": "18719a22-93a7-4ac5-9b0e-59c421fcafeb",
   "metadata": {},
   "source": [
    "Realicemos el gráfico de dispersión de \"engine-size\" y \"price\"."
   ]
  },
  {
   "cell_type": "code",
   "execution_count": 51,
   "id": "bd2b255d-526b-4a91-8aa5-a6a1b2892a6f",
   "metadata": {},
   "outputs": [
    {
     "data": {
      "text/plain": [
       "(0.0, 53296.00398304943)"
      ]
     },
     "execution_count": 51,
     "metadata": {},
     "output_type": "execute_result"
    },
    {
     "data": {
      "image/png": "[encoded data removed]",
      "text/plain": [
       "<Figure size 640x480 with 1 Axes>"
      ]
     },
     "metadata": {},
     "output_type": "display_data"
    }
   ],
   "source": [
    "sns.regplot(x = df['engine-size'], y = df['price'])\n",
    "plt.ylim(0,)"
   ]
  },
  {
   "cell_type": "markdown",
   "id": "9361254d-76ec-443c-ad62-c22beda22a55",
   "metadata": {},
   "source": [
    "\n",
    "A medida que el tamaño del motor aumenta, el precio también aumenta: esto indica una correlación directa positiva entre estas dos variables. El tamaño del motor parece ser un predictor bastante bueno del precio, ya que la línea de regresión es casi una línea diagonal perfecta.\n",
    "\n",
    "Podemos examinar la correlación entre 'engine-size' y 'price' y ver que es aproximadamente `0.87`."
   ]
  },
  {
   "cell_type": "code",
   "execution_count": 52,
   "id": "bdd73c09-44e6-4d92-91c4-f52ba23db0a4",
   "metadata": {},
   "outputs": [
    {
     "data": {
      "text/html": [
       "<div>\n",
       "<style scoped>\n",
       "    .dataframe tbody tr th:only-of-type {\n",
       "        vertical-align: middle;\n",
       "    }\n",
       "\n",
       "    .dataframe tbody tr th {\n",
       "        vertical-align: top;\n",
       "    }\n",
       "\n",
       "    .dataframe thead th {\n",
       "        text-align: right;\n",
       "    }\n",
       "</style>\n",
       "<table border=\"1\" class=\"dataframe\">\n",
       "  <thead>\n",
       "    <tr style=\"text-align: right;\">\n",
       "      <th></th>\n",
       "      <th>engine-size</th>\n",
       "      <th>price</th>\n",
       "    </tr>\n",
       "  </thead>\n",
       "  <tbody>\n",
       "    <tr>\n",
       "      <th>engine-size</th>\n",
       "      <td>1.000000</td>\n",
       "      <td>0.872335</td>\n",
       "    </tr>\n",
       "    <tr>\n",
       "      <th>price</th>\n",
       "      <td>0.872335</td>\n",
       "      <td>1.000000</td>\n",
       "    </tr>\n",
       "  </tbody>\n",
       "</table>\n",
       "</div>"
      ],
      "text/plain": [
       "             engine-size     price\n",
       "engine-size     1.000000  0.872335\n",
       "price           0.872335  1.000000"
      ]
     },
     "execution_count": 52,
     "metadata": {},
     "output_type": "execute_result"
    }
   ],
   "source": [
    "df[['engine-size','price']].corr()"
   ]
  },
  {
   "cell_type": "markdown",
   "id": "bd1b287d-25d8-43a9-afa1-b5f369108b27",
   "metadata": {},
   "source": [
    "Las millas por galón en carretera (\"highway mpg\") son una variable predictor potencial del precio. Encontremos el gráfico de dispersión de \"highway-mpg\" y \"price\"."
   ]
  },
  {
   "cell_type": "code",
   "execution_count": 53,
   "id": "dfd506b3-c577-477a-82ae-253ef78e70bb",
   "metadata": {},
   "outputs": [
    {
     "data": {
      "text/plain": [
       "(0.0, 48191.16808758871)"
      ]
     },
     "execution_count": 53,
     "metadata": {},
     "output_type": "execute_result"
    },
    {
     "data": {
      "image/png": "[encoded data removed]",
      "text/plain": [
       "<Figure size 640x480 with 1 Axes>"
      ]
     },
     "metadata": {},
     "output_type": "display_data"
    }
   ],
   "source": [
    "sns.regplot(x = df['highway-mpg'], y = df['price'] )\n",
    "plt.ylim(0,)"
   ]
  },
  {
   "cell_type": "markdown",
   "id": "6d871c4c-b016-4b26-8602-b6408c1e8803",
   "metadata": {},
   "source": [
    "A medida que las millas por galón en carretera (\"highway mpg\") aumentan, el precio disminuye: esto indica una relación inversa o negativa entre estas dos variables. Las millas por galón en carretera podrían ser un predictor potencial del precio."
   ]
  },
  {
   "cell_type": "markdown",
   "id": "558b288f-f36c-4b06-bcdf-e1df36abd95a",
   "metadata": {},
   "source": [
    "Podemos revisar la correlación entre ambas y ver que es aproximadamente `-0.704`."
   ]
  },
  {
   "cell_type": "code",
   "execution_count": 55,
   "id": "71e96440-8865-45a3-b0c1-812ee51da38a",
   "metadata": {},
   "outputs": [
    {
     "data": {
      "text/html": [
       "<div>\n",
       "<style scoped>\n",
       "    .dataframe tbody tr th:only-of-type {\n",
       "        vertical-align: middle;\n",
       "    }\n",
       "\n",
       "    .dataframe tbody tr th {\n",
       "        vertical-align: top;\n",
       "    }\n",
       "\n",
       "    .dataframe thead th {\n",
       "        text-align: right;\n",
       "    }\n",
       "</style>\n",
       "<table border=\"1\" class=\"dataframe\">\n",
       "  <thead>\n",
       "    <tr style=\"text-align: right;\">\n",
       "      <th></th>\n",
       "      <th>highway-mpg</th>\n",
       "      <th>price</th>\n",
       "    </tr>\n",
       "  </thead>\n",
       "  <tbody>\n",
       "    <tr>\n",
       "      <th>highway-mpg</th>\n",
       "      <td>1.000000</td>\n",
       "      <td>-0.704692</td>\n",
       "    </tr>\n",
       "    <tr>\n",
       "      <th>price</th>\n",
       "      <td>-0.704692</td>\n",
       "      <td>1.000000</td>\n",
       "    </tr>\n",
       "  </tbody>\n",
       "</table>\n",
       "</div>"
      ],
      "text/plain": [
       "             highway-mpg     price\n",
       "highway-mpg     1.000000 -0.704692\n",
       "price          -0.704692  1.000000"
      ]
     },
     "execution_count": 55,
     "metadata": {},
     "output_type": "execute_result"
    }
   ],
   "source": [
    "df[['highway-mpg','price']].corr()"
   ]
  },
  {
   "cell_type": "markdown",
   "id": "ab097418-bd3a-42e1-9210-ac138c6d178c",
   "metadata": {},
   "source": [
    "## Relación lineal débil"
   ]
  },
  {
   "cell_type": "markdown",
   "id": "a361eb0d-e41a-463a-97d8-6fc2893f5d18",
   "metadata": {},
   "source": [
    "Veamos si \"peak-rpm\" es una variable predictora del precio \"price\"."
   ]
  },
  {
   "cell_type": "code",
   "execution_count": 56,
   "id": "0357da05-05ac-4a63-99c4-4783b64aef01",
   "metadata": {},
   "outputs": [
    {
     "data": {
      "text/plain": [
       "(0.0, 47414.1)"
      ]
     },
     "execution_count": 56,
     "metadata": {},
     "output_type": "execute_result"
    },
    {
     "data": {
      "image/png": "[encoded data removed]",
      "text/plain": [
       "<Figure size 640x480 with 1 Axes>"
      ]
     },
     "metadata": {},
     "output_type": "display_data"
    }
   ],
   "source": [
    "sns.regplot(x = df['peak-rpm'], y = df['price'])\n",
    "plt.ylim(0,)"
   ]
  },
  {
   "cell_type": "markdown",
   "id": "de527e13-e5f2-4e02-b3c2-bf74998f576a",
   "metadata": {},
   "source": [
    "El pico de rpm (\"peak rpm\") no parece ser un buen predictor del precio en absoluto, ya que la línea de regresión está cerca de ser horizontal. Además, los puntos de datos están muy dispersos y lejos de la línea ajustada, mostrando mucha variabilidad. Por lo tanto, no es una variable confiable."
   ]
  },
  {
   "cell_type": "markdown",
   "id": "cef9a1ba-2751-4a66-8593-da3a86f215eb",
   "metadata": {},
   "source": [
    "Podemos observar la correlación entre estas dos variables y ver que es aproximadamente `-0.101`."
   ]
  },
  {
   "cell_type": "code",
   "execution_count": 57,
   "id": "6fd048c1-c6de-4a60-9776-a10c19c5b3dd",
   "metadata": {},
   "outputs": [
    {
     "data": {
      "text/html": [
       "<div>\n",
       "<style scoped>\n",
       "    .dataframe tbody tr th:only-of-type {\n",
       "        vertical-align: middle;\n",
       "    }\n",
       "\n",
       "    .dataframe tbody tr th {\n",
       "        vertical-align: top;\n",
       "    }\n",
       "\n",
       "    .dataframe thead th {\n",
       "        text-align: right;\n",
       "    }\n",
       "</style>\n",
       "<table border=\"1\" class=\"dataframe\">\n",
       "  <thead>\n",
       "    <tr style=\"text-align: right;\">\n",
       "      <th></th>\n",
       "      <th>peak-rpm</th>\n",
       "      <th>price</th>\n",
       "    </tr>\n",
       "  </thead>\n",
       "  <tbody>\n",
       "    <tr>\n",
       "      <th>peak-rpm</th>\n",
       "      <td>1.000000</td>\n",
       "      <td>-0.101616</td>\n",
       "    </tr>\n",
       "    <tr>\n",
       "      <th>price</th>\n",
       "      <td>-0.101616</td>\n",
       "      <td>1.000000</td>\n",
       "    </tr>\n",
       "  </tbody>\n",
       "</table>\n",
       "</div>"
      ],
      "text/plain": [
       "          peak-rpm     price\n",
       "peak-rpm  1.000000 -0.101616\n",
       "price    -0.101616  1.000000"
      ]
     },
     "execution_count": 57,
     "metadata": {},
     "output_type": "execute_result"
    }
   ],
   "source": [
    "df[['peak-rpm','price']].corr()"
   ]
  },
  {
   "cell_type": "markdown",
   "id": "2a10476a-e21c-461d-81c8-befb551467a6",
   "metadata": {},
   "source": [
    "Vemos la correlación entre las variables \"stroke\" y \"price\"."
   ]
  },
  {
   "cell_type": "code",
   "execution_count": 58,
   "id": "8d80b155-96b5-4ca9-9a0b-487b612be0d1",
   "metadata": {},
   "outputs": [
    {
     "data": {
      "text/plain": [
       "(0.0, 47414.1)"
      ]
     },
     "execution_count": 58,
     "metadata": {},
     "output_type": "execute_result"
    },
    {
     "data": {
      "image/png": "[encoded data removed]",
      "text/plain": [
       "<Figure size 640x480 with 1 Axes>"
      ]
     },
     "metadata": {},
     "output_type": "display_data"
    }
   ],
   "source": [
    "sns.regplot(x = df['stroke'], y = df['price'])\n",
    "plt.ylim(0,)\n"
   ]
  },
  {
   "cell_type": "code",
   "execution_count": 59,
   "id": "4e020d7d-507c-4094-8d4a-c4171cbe8fcf",
   "metadata": {},
   "outputs": [
    {
     "data": {
      "text/html": [
       "<div>\n",
       "<style scoped>\n",
       "    .dataframe tbody tr th:only-of-type {\n",
       "        vertical-align: middle;\n",
       "    }\n",
       "\n",
       "    .dataframe tbody tr th {\n",
       "        vertical-align: top;\n",
       "    }\n",
       "\n",
       "    .dataframe thead th {\n",
       "        text-align: right;\n",
       "    }\n",
       "</style>\n",
       "<table border=\"1\" class=\"dataframe\">\n",
       "  <thead>\n",
       "    <tr style=\"text-align: right;\">\n",
       "      <th></th>\n",
       "      <th>stroke</th>\n",
       "      <th>price</th>\n",
       "    </tr>\n",
       "  </thead>\n",
       "  <tbody>\n",
       "    <tr>\n",
       "      <th>stroke</th>\n",
       "      <td>1.00000</td>\n",
       "      <td>0.08231</td>\n",
       "    </tr>\n",
       "    <tr>\n",
       "      <th>price</th>\n",
       "      <td>0.08231</td>\n",
       "      <td>1.00000</td>\n",
       "    </tr>\n",
       "  </tbody>\n",
       "</table>\n",
       "</div>"
      ],
      "text/plain": [
       "         stroke    price\n",
       "stroke  1.00000  0.08231\n",
       "price   0.08231  1.00000"
      ]
     },
     "execution_count": 59,
     "metadata": {},
     "output_type": "execute_result"
    }
   ],
   "source": [
    "df[['stroke','price']].corr()"
   ]
  },
  {
   "cell_type": "markdown",
   "id": "422718ba-315e-427a-8e85-9586e2a32b1c",
   "metadata": {},
   "source": [
    "La correlación muestra que stroke tampoco es una variable confiable para predictor del precio, su gráfica muestra una línea de regresión casi horizontal y sus puntos de datos se encuentran muy alejados del línea ajustada."
   ]
  },
  {
   "cell_type": "markdown",
   "id": "18dd88b9-d520-48c4-92f6-fb4742f68ab5",
   "metadata": {},
   "source": [
    "## Variables categóricas"
   ]
  },
  {
   "cell_type": "markdown",
   "id": "ca135454-cc66-4529-a898-9539ecd2f4c7",
   "metadata": {},
   "source": [
    "Estas son variables que describen una 'característica' de una unidad de datos y se seleccionan de un pequeño grupo de categorías. Las variables categóricas pueden tener el tipo `object` o `int64`. Una buena manera de visualizar variables categóricas es mediante diagramas de caja `boxplots`."
   ]
  },
  {
   "cell_type": "markdown",
   "id": "7e294084-92c8-40bd-9a58-a0638f4b8f7e",
   "metadata": {},
   "source": [
    "Veamos la relación entre \"body-style\" y \"price\"."
   ]
  },
  {
   "cell_type": "code",
   "execution_count": 60,
   "id": "7bcc37a5-c85d-4c85-81d0-b13fa326d6c7",
   "metadata": {},
   "outputs": [
    {
     "data": {
      "text/plain": [
       "<Axes: xlabel='body-style', ylabel='price'>"
      ]
     },
     "execution_count": 60,
     "metadata": {},
     "output_type": "execute_result"
    },
    {
     "data": {
      "image/png": "[encoded data removed]",
      "text/plain": [
       "<Figure size 640x480 with 1 Axes>"
      ]
     },
     "metadata": {},
     "output_type": "display_data"
    }
   ],
   "source": [
    "sns.boxplot(x=\"body-style\", y=\"price\", data=df)"
   ]
  },
  {
   "cell_type": "markdown",
   "id": "dfa55871-d0d2-4f73-b75f-4cc6c8140878",
   "metadata": {},
   "source": [
    "Vemos que las distribuciones de precio entre las diferentes categorías de estilo de carrocería tienen una superposición significativa, por lo que el estilo de carrocería no sería un buen predictor del precio. Examinemos la ubicación del motor \"engine-location\" y el precio \"price\"."
   ]
  },
  {
   "cell_type": "code",
   "execution_count": 61,
   "id": "e441a703-76db-422e-8552-8ba4adf9d7ef",
   "metadata": {},
   "outputs": [
    {
     "data": {
      "text/plain": [
       "<Axes: xlabel='engine-location', ylabel='price'>"
      ]
     },
     "execution_count": 61,
     "metadata": {},
     "output_type": "execute_result"
    },
    {
     "data": {
      "image/png": "[encoded data removed]",
      "text/plain": [
       "<Figure size 640x480 with 1 Axes>"
      ]
     },
     "metadata": {},
     "output_type": "display_data"
    }
   ],
   "source": [
    "sns.boxplot(x=\"engine-location\", y=\"price\", data=df)"
   ]
  },
  {
   "cell_type": "markdown",
   "id": "e912313a-6f5e-403c-980e-a0be5c42419d",
   "metadata": {},
   "source": [
    "Aquí vemos que la distribución de precios entre estas dos categorías de ubicación del motor, delantera y trasera, son lo suficientemente distintas como para considerar la ubicación del motor como un potencial buen predictor del precio."
   ]
  },
  {
   "cell_type": "markdown",
   "id": "a730b755-2e28-471c-b061-6b2a5d3fff4d",
   "metadata": {},
   "source": [
    "Examinemos \"drive-wheels\" y \"price\"."
   ]
  },
  {
   "cell_type": "code",
   "execution_count": 62,
   "id": "66e4d9e6-eb5d-4385-82b8-4d84787790a5",
   "metadata": {},
   "outputs": [
    {
     "data": {
      "text/plain": [
       "<Axes: xlabel='drive-wheels', ylabel='price'>"
      ]
     },
     "execution_count": 62,
     "metadata": {},
     "output_type": "execute_result"
    },
    {
     "data": {
      "image/png": "[encoded data removed]",
      "text/plain": [
       "<Figure size 640x480 with 1 Axes>"
      ]
     },
     "metadata": {},
     "output_type": "display_data"
    }
   ],
   "source": [
    "sns.boxplot(x=\"drive-wheels\", y=\"price\", data=df)"
   ]
  },
  {
   "cell_type": "markdown",
   "id": "d4bf4f30-3390-4d21-97f0-3a86bc5921c1",
   "metadata": {},
   "source": [
    "Aquí vemos que la distribución de precios entre las diferentes categorías de \"drive-wheels\" difiere. Por lo tanto, \"drive-wheels\" podría ser potencialmente un predictor del precio."
   ]
  },
  {
   "cell_type": "markdown",
   "id": "f9ae3138-dd7f-4604-a71d-12a1943ad7f4",
   "metadata": {},
   "source": [
    "## Análisis Estadístico Descriptivo"
   ]
  },
  {
   "cell_type": "markdown",
   "id": "2b7847cb-1227-4b1a-8082-8e19769c935b",
   "metadata": {},
   "source": [
    "Primero echemos un vistazo a las variables utilizando un método de descripción.\n",
    "\n",
    "La función `describe` calcula automáticamente estadísticas básicas para todas las variables continuas. Cualquier valor `NaN` se omite automáticamente en estas estadísticas."
   ]
  },
  {
   "cell_type": "markdown",
   "id": "7e9ccb7c-0844-4bfd-9426-8d1789d96048",
   "metadata": {},
   "source": [
    "Esto mostrará:\n",
    "\n",
    "* el conteo de esa variable\n",
    "* la media\n",
    "* la desviación estándar (std)\n",
    "* el valor mínimo\n",
    "* el Rango Intercuartílico (IQR: 25%, 50% y 75%)\n",
    "* el valor máximo"
   ]
  },
  {
   "cell_type": "markdown",
   "id": "728b6a6f-c537-4301-97ce-d7e47404b4fc",
   "metadata": {},
   "source": [
    "Podemos aplicar el método describe de la siguiente manera:"
   ]
  },
  {
   "cell_type": "code",
   "execution_count": 64,
   "id": "1ee3ffbd-4762-4a3b-9913-8fb7d07a9573",
   "metadata": {},
   "outputs": [
    {
     "data": {
      "text/html": [
       "<div>\n",
       "<style scoped>\n",
       "    .dataframe tbody tr th:only-of-type {\n",
       "        vertical-align: middle;\n",
       "    }\n",
       "\n",
       "    .dataframe tbody tr th {\n",
       "        vertical-align: top;\n",
       "    }\n",
       "\n",
       "    .dataframe thead th {\n",
       "        text-align: right;\n",
       "    }\n",
       "</style>\n",
       "<table border=\"1\" class=\"dataframe\">\n",
       "  <thead>\n",
       "    <tr style=\"text-align: right;\">\n",
       "      <th></th>\n",
       "      <th>symboling</th>\n",
       "      <th>normalized-losses</th>\n",
       "      <th>wheel-base</th>\n",
       "      <th>length</th>\n",
       "      <th>width</th>\n",
       "      <th>height</th>\n",
       "      <th>curb-weight</th>\n",
       "      <th>engine-size</th>\n",
       "      <th>bore</th>\n",
       "      <th>stroke</th>\n",
       "      <th>compression-ratio</th>\n",
       "      <th>horsepower</th>\n",
       "      <th>peak-rpm</th>\n",
       "      <th>city-mpg</th>\n",
       "      <th>highway-mpg</th>\n",
       "      <th>price</th>\n",
       "      <th>city-L/100km</th>\n",
       "      <th>diesel</th>\n",
       "      <th>gas</th>\n",
       "    </tr>\n",
       "  </thead>\n",
       "  <tbody>\n",
       "    <tr>\n",
       "      <th>count</th>\n",
       "      <td>201.000000</td>\n",
       "      <td>201.00000</td>\n",
       "      <td>201.000000</td>\n",
       "      <td>201.000000</td>\n",
       "      <td>201.000000</td>\n",
       "      <td>201.000000</td>\n",
       "      <td>201.000000</td>\n",
       "      <td>201.000000</td>\n",
       "      <td>201.000000</td>\n",
       "      <td>197.000000</td>\n",
       "      <td>201.000000</td>\n",
       "      <td>201.000000</td>\n",
       "      <td>201.000000</td>\n",
       "      <td>201.000000</td>\n",
       "      <td>201.000000</td>\n",
       "      <td>201.000000</td>\n",
       "      <td>201.000000</td>\n",
       "      <td>201.000000</td>\n",
       "      <td>201.000000</td>\n",
       "    </tr>\n",
       "    <tr>\n",
       "      <th>mean</th>\n",
       "      <td>0.840796</td>\n",
       "      <td>122.00000</td>\n",
       "      <td>98.797015</td>\n",
       "      <td>0.837102</td>\n",
       "      <td>0.915126</td>\n",
       "      <td>53.766667</td>\n",
       "      <td>2555.666667</td>\n",
       "      <td>126.875622</td>\n",
       "      <td>3.330692</td>\n",
       "      <td>3.256904</td>\n",
       "      <td>10.164279</td>\n",
       "      <td>103.405534</td>\n",
       "      <td>5117.665368</td>\n",
       "      <td>25.179104</td>\n",
       "      <td>30.686567</td>\n",
       "      <td>13207.129353</td>\n",
       "      <td>9.944145</td>\n",
       "      <td>0.099502</td>\n",
       "      <td>0.900498</td>\n",
       "    </tr>\n",
       "    <tr>\n",
       "      <th>std</th>\n",
       "      <td>1.254802</td>\n",
       "      <td>31.99625</td>\n",
       "      <td>6.066366</td>\n",
       "      <td>0.059213</td>\n",
       "      <td>0.029187</td>\n",
       "      <td>2.447822</td>\n",
       "      <td>517.296727</td>\n",
       "      <td>41.546834</td>\n",
       "      <td>0.268072</td>\n",
       "      <td>0.319256</td>\n",
       "      <td>4.004965</td>\n",
       "      <td>37.365700</td>\n",
       "      <td>478.113805</td>\n",
       "      <td>6.423220</td>\n",
       "      <td>6.815150</td>\n",
       "      <td>7947.066342</td>\n",
       "      <td>2.534599</td>\n",
       "      <td>0.300083</td>\n",
       "      <td>0.300083</td>\n",
       "    </tr>\n",
       "    <tr>\n",
       "      <th>min</th>\n",
       "      <td>-2.000000</td>\n",
       "      <td>65.00000</td>\n",
       "      <td>86.600000</td>\n",
       "      <td>0.678039</td>\n",
       "      <td>0.837500</td>\n",
       "      <td>47.800000</td>\n",
       "      <td>1488.000000</td>\n",
       "      <td>61.000000</td>\n",
       "      <td>2.540000</td>\n",
       "      <td>2.070000</td>\n",
       "      <td>7.000000</td>\n",
       "      <td>48.000000</td>\n",
       "      <td>4150.000000</td>\n",
       "      <td>13.000000</td>\n",
       "      <td>16.000000</td>\n",
       "      <td>5118.000000</td>\n",
       "      <td>4.795918</td>\n",
       "      <td>0.000000</td>\n",
       "      <td>0.000000</td>\n",
       "    </tr>\n",
       "    <tr>\n",
       "      <th>25%</th>\n",
       "      <td>0.000000</td>\n",
       "      <td>101.00000</td>\n",
       "      <td>94.500000</td>\n",
       "      <td>0.801538</td>\n",
       "      <td>0.890278</td>\n",
       "      <td>52.000000</td>\n",
       "      <td>2169.000000</td>\n",
       "      <td>98.000000</td>\n",
       "      <td>3.150000</td>\n",
       "      <td>3.110000</td>\n",
       "      <td>8.600000</td>\n",
       "      <td>70.000000</td>\n",
       "      <td>4800.000000</td>\n",
       "      <td>19.000000</td>\n",
       "      <td>25.000000</td>\n",
       "      <td>7775.000000</td>\n",
       "      <td>7.833333</td>\n",
       "      <td>0.000000</td>\n",
       "      <td>1.000000</td>\n",
       "    </tr>\n",
       "    <tr>\n",
       "      <th>50%</th>\n",
       "      <td>1.000000</td>\n",
       "      <td>122.00000</td>\n",
       "      <td>97.000000</td>\n",
       "      <td>0.832292</td>\n",
       "      <td>0.909722</td>\n",
       "      <td>54.100000</td>\n",
       "      <td>2414.000000</td>\n",
       "      <td>120.000000</td>\n",
       "      <td>3.310000</td>\n",
       "      <td>3.290000</td>\n",
       "      <td>9.000000</td>\n",
       "      <td>95.000000</td>\n",
       "      <td>5125.369458</td>\n",
       "      <td>24.000000</td>\n",
       "      <td>30.000000</td>\n",
       "      <td>10295.000000</td>\n",
       "      <td>9.791667</td>\n",
       "      <td>0.000000</td>\n",
       "      <td>1.000000</td>\n",
       "    </tr>\n",
       "    <tr>\n",
       "      <th>75%</th>\n",
       "      <td>2.000000</td>\n",
       "      <td>137.00000</td>\n",
       "      <td>102.400000</td>\n",
       "      <td>0.881788</td>\n",
       "      <td>0.925000</td>\n",
       "      <td>55.500000</td>\n",
       "      <td>2926.000000</td>\n",
       "      <td>141.000000</td>\n",
       "      <td>3.580000</td>\n",
       "      <td>3.410000</td>\n",
       "      <td>9.400000</td>\n",
       "      <td>116.000000</td>\n",
       "      <td>5500.000000</td>\n",
       "      <td>30.000000</td>\n",
       "      <td>34.000000</td>\n",
       "      <td>16500.000000</td>\n",
       "      <td>12.368421</td>\n",
       "      <td>0.000000</td>\n",
       "      <td>1.000000</td>\n",
       "    </tr>\n",
       "    <tr>\n",
       "      <th>max</th>\n",
       "      <td>3.000000</td>\n",
       "      <td>256.00000</td>\n",
       "      <td>120.900000</td>\n",
       "      <td>1.000000</td>\n",
       "      <td>1.000000</td>\n",
       "      <td>59.800000</td>\n",
       "      <td>4066.000000</td>\n",
       "      <td>326.000000</td>\n",
       "      <td>3.940000</td>\n",
       "      <td>4.170000</td>\n",
       "      <td>23.000000</td>\n",
       "      <td>262.000000</td>\n",
       "      <td>6600.000000</td>\n",
       "      <td>49.000000</td>\n",
       "      <td>54.000000</td>\n",
       "      <td>45400.000000</td>\n",
       "      <td>18.076923</td>\n",
       "      <td>1.000000</td>\n",
       "      <td>1.000000</td>\n",
       "    </tr>\n",
       "  </tbody>\n",
       "</table>\n",
       "</div>"
      ],
      "text/plain": [
       "        symboling  normalized-losses  wheel-base      length       width  \\\n",
       "count  201.000000          201.00000  201.000000  201.000000  201.000000   \n",
       "mean     0.840796          122.00000   98.797015    0.837102    0.915126   \n",
       "std      1.254802           31.99625    6.066366    0.059213    0.029187   \n",
       "min     -2.000000           65.00000   86.600000    0.678039    0.837500   \n",
       "25%      0.000000          101.00000   94.500000    0.801538    0.890278   \n",
       "50%      1.000000          122.00000   97.000000    0.832292    0.909722   \n",
       "75%      2.000000          137.00000  102.400000    0.881788    0.925000   \n",
       "max      3.000000          256.00000  120.900000    1.000000    1.000000   \n",
       "\n",
       "           height  curb-weight  engine-size        bore      stroke  \\\n",
       "count  201.000000   201.000000   201.000000  201.000000  197.000000   \n",
       "mean    53.766667  2555.666667   126.875622    3.330692    3.256904   \n",
       "std      2.447822   517.296727    41.546834    0.268072    0.319256   \n",
       "min     47.800000  1488.000000    61.000000    2.540000    2.070000   \n",
       "25%     52.000000  2169.000000    98.000000    3.150000    3.110000   \n",
       "50%     54.100000  2414.000000   120.000000    3.310000    3.290000   \n",
       "75%     55.500000  2926.000000   141.000000    3.580000    3.410000   \n",
       "max     59.800000  4066.000000   326.000000    3.940000    4.170000   \n",
       "\n",
       "       compression-ratio  horsepower     peak-rpm    city-mpg  highway-mpg  \\\n",
       "count         201.000000  201.000000   201.000000  201.000000   201.000000   \n",
       "mean           10.164279  103.405534  5117.665368   25.179104    30.686567   \n",
       "std             4.004965   37.365700   478.113805    6.423220     6.815150   \n",
       "min             7.000000   48.000000  4150.000000   13.000000    16.000000   \n",
       "25%             8.600000   70.000000  4800.000000   19.000000    25.000000   \n",
       "50%             9.000000   95.000000  5125.369458   24.000000    30.000000   \n",
       "75%             9.400000  116.000000  5500.000000   30.000000    34.000000   \n",
       "max            23.000000  262.000000  6600.000000   49.000000    54.000000   \n",
       "\n",
       "              price  city-L/100km      diesel         gas  \n",
       "count    201.000000    201.000000  201.000000  201.000000  \n",
       "mean   13207.129353      9.944145    0.099502    0.900498  \n",
       "std     7947.066342      2.534599    0.300083    0.300083  \n",
       "min     5118.000000      4.795918    0.000000    0.000000  \n",
       "25%     7775.000000      7.833333    0.000000    1.000000  \n",
       "50%    10295.000000      9.791667    0.000000    1.000000  \n",
       "75%    16500.000000     12.368421    0.000000    1.000000  \n",
       "max    45400.000000     18.076923    1.000000    1.000000  "
      ]
     },
     "execution_count": 64,
     "metadata": {},
     "output_type": "execute_result"
    }
   ],
   "source": [
    "df.describe()"
   ]
  },
  {
   "cell_type": "markdown",
   "id": "2529c49a-c722-41bc-b0a5-9c8363e28ec9",
   "metadata": {},
   "source": [
    "Por defecto el método `describe` ignora las variables de tipo `object`, podemos aplicar este método a estas variables de la siguiente manera:"
   ]
  },
  {
   "cell_type": "code",
   "execution_count": 65,
   "id": "fc703729-01ff-4025-bbbd-1b153510d6e7",
   "metadata": {},
   "outputs": [
    {
     "data": {
      "text/html": [
       "<div>\n",
       "<style scoped>\n",
       "    .dataframe tbody tr th:only-of-type {\n",
       "        vertical-align: middle;\n",
       "    }\n",
       "\n",
       "    .dataframe tbody tr th {\n",
       "        vertical-align: top;\n",
       "    }\n",
       "\n",
       "    .dataframe thead th {\n",
       "        text-align: right;\n",
       "    }\n",
       "</style>\n",
       "<table border=\"1\" class=\"dataframe\">\n",
       "  <thead>\n",
       "    <tr style=\"text-align: right;\">\n",
       "      <th></th>\n",
       "      <th>make</th>\n",
       "      <th>aspiration</th>\n",
       "      <th>num-of-doors</th>\n",
       "      <th>body-style</th>\n",
       "      <th>drive-wheels</th>\n",
       "      <th>engine-location</th>\n",
       "      <th>engine-type</th>\n",
       "      <th>num-of-cylinders</th>\n",
       "      <th>fuel-system</th>\n",
       "      <th>horsepower-binned</th>\n",
       "    </tr>\n",
       "  </thead>\n",
       "  <tbody>\n",
       "    <tr>\n",
       "      <th>count</th>\n",
       "      <td>201</td>\n",
       "      <td>201</td>\n",
       "      <td>201</td>\n",
       "      <td>201</td>\n",
       "      <td>201</td>\n",
       "      <td>201</td>\n",
       "      <td>201</td>\n",
       "      <td>201</td>\n",
       "      <td>201</td>\n",
       "      <td>200</td>\n",
       "    </tr>\n",
       "    <tr>\n",
       "      <th>unique</th>\n",
       "      <td>22</td>\n",
       "      <td>2</td>\n",
       "      <td>2</td>\n",
       "      <td>5</td>\n",
       "      <td>3</td>\n",
       "      <td>2</td>\n",
       "      <td>6</td>\n",
       "      <td>7</td>\n",
       "      <td>8</td>\n",
       "      <td>3</td>\n",
       "    </tr>\n",
       "    <tr>\n",
       "      <th>top</th>\n",
       "      <td>toyota</td>\n",
       "      <td>std</td>\n",
       "      <td>four</td>\n",
       "      <td>sedan</td>\n",
       "      <td>fwd</td>\n",
       "      <td>front</td>\n",
       "      <td>ohc</td>\n",
       "      <td>four</td>\n",
       "      <td>mpfi</td>\n",
       "      <td>Low</td>\n",
       "    </tr>\n",
       "    <tr>\n",
       "      <th>freq</th>\n",
       "      <td>32</td>\n",
       "      <td>165</td>\n",
       "      <td>115</td>\n",
       "      <td>94</td>\n",
       "      <td>118</td>\n",
       "      <td>198</td>\n",
       "      <td>145</td>\n",
       "      <td>157</td>\n",
       "      <td>92</td>\n",
       "      <td>115</td>\n",
       "    </tr>\n",
       "  </tbody>\n",
       "</table>\n",
       "</div>"
      ],
      "text/plain": [
       "          make aspiration num-of-doors body-style drive-wheels  \\\n",
       "count      201        201          201        201          201   \n",
       "unique      22          2            2          5            3   \n",
       "top     toyota        std         four      sedan          fwd   \n",
       "freq        32        165          115         94          118   \n",
       "\n",
       "       engine-location engine-type num-of-cylinders fuel-system  \\\n",
       "count              201         201              201         201   \n",
       "unique               2           6                7           8   \n",
       "top              front         ohc             four        mpfi   \n",
       "freq               198         145              157          92   \n",
       "\n",
       "       horsepower-binned  \n",
       "count                200  \n",
       "unique                 3  \n",
       "top                  Low  \n",
       "freq                 115  "
      ]
     },
     "execution_count": 65,
     "metadata": {},
     "output_type": "execute_result"
    }
   ],
   "source": [
    "df.describe(include=\"object\")"
   ]
  },
  {
   "cell_type": "markdown",
   "id": "b6e2937a-3da5-495b-a4d3-1e82112ff247",
   "metadata": {},
   "source": [
    "### Contar valores"
   ]
  },
  {
   "cell_type": "markdown",
   "id": "5405f19c-626d-4a38-8172-02f260ac9b77",
   "metadata": {},
   "source": [
    "El conteo de valores es una buena manera de entender cuántas unidades de cada característica/variable tenemos. Podemos aplicar el método `value_counts` en la columna \"drive-wheels\". No olvides que el método `value_counts` solo funciona en series de pandas, no en dataframes de pandas. Por lo tanto, solo incluimos un paréntesis `df['drive-wheels']`, no dos paréntesis `df[['drive-wheels']]`."
   ]
  },
  {
   "cell_type": "code",
   "execution_count": 66,
   "id": "87b26bc4-5f7f-4f3c-bd70-861ac4cdec0d",
   "metadata": {},
   "outputs": [
    {
     "data": {
      "text/plain": [
       "drive-wheels\n",
       "fwd    118\n",
       "rwd     75\n",
       "4wd      8\n",
       "Name: count, dtype: int64"
      ]
     },
     "execution_count": 66,
     "metadata": {},
     "output_type": "execute_result"
    }
   ],
   "source": [
    "df['drive-wheels'].value_counts()"
   ]
  },
  {
   "cell_type": "markdown",
   "id": "9474b9ce-9f1a-4588-8f43-a38e1281a270",
   "metadata": {},
   "source": [
    "Para convertir de Serie a DataFrame usamos:"
   ]
  },
  {
   "cell_type": "code",
   "execution_count": 67,
   "id": "91d252aa-1920-411e-8dec-bf59a37da395",
   "metadata": {},
   "outputs": [
    {
     "data": {
      "text/html": [
       "<div>\n",
       "<style scoped>\n",
       "    .dataframe tbody tr th:only-of-type {\n",
       "        vertical-align: middle;\n",
       "    }\n",
       "\n",
       "    .dataframe tbody tr th {\n",
       "        vertical-align: top;\n",
       "    }\n",
       "\n",
       "    .dataframe thead th {\n",
       "        text-align: right;\n",
       "    }\n",
       "</style>\n",
       "<table border=\"1\" class=\"dataframe\">\n",
       "  <thead>\n",
       "    <tr style=\"text-align: right;\">\n",
       "      <th></th>\n",
       "      <th>count</th>\n",
       "    </tr>\n",
       "    <tr>\n",
       "      <th>drive-wheels</th>\n",
       "      <th></th>\n",
       "    </tr>\n",
       "  </thead>\n",
       "  <tbody>\n",
       "    <tr>\n",
       "      <th>fwd</th>\n",
       "      <td>118</td>\n",
       "    </tr>\n",
       "    <tr>\n",
       "      <th>rwd</th>\n",
       "      <td>75</td>\n",
       "    </tr>\n",
       "    <tr>\n",
       "      <th>4wd</th>\n",
       "      <td>8</td>\n",
       "    </tr>\n",
       "  </tbody>\n",
       "</table>\n",
       "</div>"
      ],
      "text/plain": [
       "              count\n",
       "drive-wheels       \n",
       "fwd             118\n",
       "rwd              75\n",
       "4wd               8"
      ]
     },
     "execution_count": 67,
     "metadata": {},
     "output_type": "execute_result"
    }
   ],
   "source": [
    "df['drive-wheels'].value_counts().to_frame()"
   ]
  },
  {
   "cell_type": "markdown",
   "id": "76b46c12-b6f6-442b-820a-92c8abcb9e73",
   "metadata": {},
   "source": [
    "Repitamos los últimos pasos pero esta vez guardando el resultado del dataframe en una variable y renombrando la columna por defecto."
   ]
  },
  {
   "cell_type": "code",
   "execution_count": 68,
   "id": "9b2a0bd5-1a06-49ff-a226-16cee9d5601d",
   "metadata": {},
   "outputs": [],
   "source": [
    "drive_wheels_counts = df['drive-wheels'].value_counts().to_frame()\n",
    "drive_wheels_counts.rename(columns={'count':'value_counts'}, inplace=True)"
   ]
  },
  {
   "cell_type": "code",
   "execution_count": 69,
   "id": "623d1153-7957-4159-aeed-9fa1364fad1e",
   "metadata": {},
   "outputs": [
    {
     "data": {
      "text/html": [
       "<div>\n",
       "<style scoped>\n",
       "    .dataframe tbody tr th:only-of-type {\n",
       "        vertical-align: middle;\n",
       "    }\n",
       "\n",
       "    .dataframe tbody tr th {\n",
       "        vertical-align: top;\n",
       "    }\n",
       "\n",
       "    .dataframe thead th {\n",
       "        text-align: right;\n",
       "    }\n",
       "</style>\n",
       "<table border=\"1\" class=\"dataframe\">\n",
       "  <thead>\n",
       "    <tr style=\"text-align: right;\">\n",
       "      <th></th>\n",
       "      <th>value_counts</th>\n",
       "    </tr>\n",
       "    <tr>\n",
       "      <th>drive-wheels</th>\n",
       "      <th></th>\n",
       "    </tr>\n",
       "  </thead>\n",
       "  <tbody>\n",
       "    <tr>\n",
       "      <th>fwd</th>\n",
       "      <td>118</td>\n",
       "    </tr>\n",
       "    <tr>\n",
       "      <th>rwd</th>\n",
       "      <td>75</td>\n",
       "    </tr>\n",
       "    <tr>\n",
       "      <th>4wd</th>\n",
       "      <td>8</td>\n",
       "    </tr>\n",
       "  </tbody>\n",
       "</table>\n",
       "</div>"
      ],
      "text/plain": [
       "              value_counts\n",
       "drive-wheels              \n",
       "fwd                    118\n",
       "rwd                     75\n",
       "4wd                      8"
      ]
     },
     "execution_count": 69,
     "metadata": {},
     "output_type": "execute_result"
    }
   ],
   "source": [
    "drive_wheels_counts"
   ]
  },
  {
   "cell_type": "markdown",
   "id": "72ecb928-211c-42ec-80b6-298241cec0c3",
   "metadata": {},
   "source": [
    "Repitamos el proceso para la variable 'engine-location'."
   ]
  },
  {
   "cell_type": "code",
   "execution_count": 73,
   "id": "76a7d5a4-b283-4652-a344-72cd4f7fb098",
   "metadata": {},
   "outputs": [],
   "source": [
    "engine_counts = df['engine-location'].value_counts().to_frame()"
   ]
  },
  {
   "cell_type": "code",
   "execution_count": 74,
   "id": "b474e63f-3679-4f7b-81b3-cd99bf194d31",
   "metadata": {},
   "outputs": [
    {
     "data": {
      "text/html": [
       "<div>\n",
       "<style scoped>\n",
       "    .dataframe tbody tr th:only-of-type {\n",
       "        vertical-align: middle;\n",
       "    }\n",
       "\n",
       "    .dataframe tbody tr th {\n",
       "        vertical-align: top;\n",
       "    }\n",
       "\n",
       "    .dataframe thead th {\n",
       "        text-align: right;\n",
       "    }\n",
       "</style>\n",
       "<table border=\"1\" class=\"dataframe\">\n",
       "  <thead>\n",
       "    <tr style=\"text-align: right;\">\n",
       "      <th></th>\n",
       "      <th>value_counts</th>\n",
       "    </tr>\n",
       "    <tr>\n",
       "      <th>engine-location</th>\n",
       "      <th></th>\n",
       "    </tr>\n",
       "  </thead>\n",
       "  <tbody>\n",
       "    <tr>\n",
       "      <th>front</th>\n",
       "      <td>198</td>\n",
       "    </tr>\n",
       "    <tr>\n",
       "      <th>rear</th>\n",
       "      <td>3</td>\n",
       "    </tr>\n",
       "  </tbody>\n",
       "</table>\n",
       "</div>"
      ],
      "text/plain": [
       "                 value_counts\n",
       "engine-location              \n",
       "front                     198\n",
       "rear                        3"
      ]
     },
     "execution_count": 74,
     "metadata": {},
     "output_type": "execute_result"
    }
   ],
   "source": [
    "engine_counts.rename(columns={'count':'value_counts'}, inplace=True)\n",
    "engine_counts"
   ]
  },
  {
   "cell_type": "markdown",
   "id": "c61569a5-fac1-4417-829e-af2cf4d8f4cd",
   "metadata": {},
   "source": [
    "Después de examinar el recuento de valores de la ubicación del motor, vemos que la ubicación del motor no sería una buena variable predictora para el precio. Esto se debe a que solo tenemos tres autos con motor trasero y 198 con motor en la parte delantera, por lo que este resultado está sesgado. Por lo tanto, no podemos sacar conclusiones sobre la ubicación del motor."
   ]
  },
  {
   "cell_type": "markdown",
   "id": "ef1d77a7-c5a9-4c8b-a7f5-164c23cbc55d",
   "metadata": {},
   "source": [
    "## Conceptos básicos de agrupación"
   ]
  },
  {
   "cell_type": "markdown",
   "id": "59f59f8b-9da5-4b04-b04e-d509ae229df6",
   "metadata": {},
   "source": [
    "El método `groupby` agrupa los datos por diferentes categorías. Los datos se agrupan en función de una o varias variables, y se realiza un análisis en los grupos individuales."
   ]
  },
  {
   "cell_type": "markdown",
   "id": "efa3fbf5-3fd8-4dd7-b5ea-94869fa3e052",
   "metadata": {},
   "source": [
    "Por ejemplo, vamos a agrupar la variable \"drive-wheels\", veremos que tiene 3 diferentes categorías."
   ]
  },
  {
   "cell_type": "code",
   "execution_count": 76,
   "id": "02e0a863-6cbf-4e4e-b1e5-1a70ef4f1bc9",
   "metadata": {},
   "outputs": [
    {
     "data": {
      "text/plain": [
       "array(['rwd', 'fwd', '4wd'], dtype=object)"
      ]
     },
     "execution_count": 76,
     "metadata": {},
     "output_type": "execute_result"
    }
   ],
   "source": [
    "df['drive-wheels'].unique()"
   ]
  },
  {
   "cell_type": "markdown",
   "id": "049fbd62-7c15-4c37-9c43-150566a211be",
   "metadata": {},
   "source": [
    "Si queremos saber, en promedio, qué tipo de rueda motriz es más valioso, podemos agrupar por \"drive-wheels\" y luego calcular el promedio.\n",
    "\n",
    "Podemos seleccionar las columnas 'drive-wheels' y 'price', y luego asignarlas a la variable \"df_group_one\"."
   ]
  },
  {
   "cell_type": "code",
   "execution_count": 94,
   "id": "67debcb8-55c5-4dbf-aa29-aeabef00cf68",
   "metadata": {},
   "outputs": [
    {
     "data": {
      "text/html": [
       "<div>\n",
       "<style scoped>\n",
       "    .dataframe tbody tr th:only-of-type {\n",
       "        vertical-align: middle;\n",
       "    }\n",
       "\n",
       "    .dataframe tbody tr th {\n",
       "        vertical-align: top;\n",
       "    }\n",
       "\n",
       "    .dataframe thead th {\n",
       "        text-align: right;\n",
       "    }\n",
       "</style>\n",
       "<table border=\"1\" class=\"dataframe\">\n",
       "  <thead>\n",
       "    <tr style=\"text-align: right;\">\n",
       "      <th></th>\n",
       "      <th>drive-wheels</th>\n",
       "      <th>price</th>\n",
       "    </tr>\n",
       "  </thead>\n",
       "  <tbody>\n",
       "    <tr>\n",
       "      <th>0</th>\n",
       "      <td>rwd</td>\n",
       "      <td>13495.0</td>\n",
       "    </tr>\n",
       "    <tr>\n",
       "      <th>1</th>\n",
       "      <td>rwd</td>\n",
       "      <td>16500.0</td>\n",
       "    </tr>\n",
       "    <tr>\n",
       "      <th>2</th>\n",
       "      <td>rwd</td>\n",
       "      <td>16500.0</td>\n",
       "    </tr>\n",
       "    <tr>\n",
       "      <th>3</th>\n",
       "      <td>fwd</td>\n",
       "      <td>13950.0</td>\n",
       "    </tr>\n",
       "    <tr>\n",
       "      <th>4</th>\n",
       "      <td>4wd</td>\n",
       "      <td>17450.0</td>\n",
       "    </tr>\n",
       "  </tbody>\n",
       "</table>\n",
       "</div>"
      ],
      "text/plain": [
       "  drive-wheels    price\n",
       "0          rwd  13495.0\n",
       "1          rwd  16500.0\n",
       "2          rwd  16500.0\n",
       "3          fwd  13950.0\n",
       "4          4wd  17450.0"
      ]
     },
     "execution_count": 94,
     "metadata": {},
     "output_type": "execute_result"
    }
   ],
   "source": [
    "df_group_one = df[['drive-wheels','price']]\n",
    "df_group_one.head()"
   ]
  },
  {
   "cell_type": "markdown",
   "id": "9f23e3d2-649b-4d99-8686-c251d4c26ecb",
   "metadata": {},
   "source": [
    "Ahora podemos calcular el precio promedio para cada una de las distintas categorías."
   ]
  },
  {
   "cell_type": "code",
   "execution_count": 97,
   "id": "6043483f-63af-463c-8c0b-d113a196271f",
   "metadata": {},
   "outputs": [],
   "source": [
    "# agrupando resultados\n",
    "df_group_one = df_group_one.groupby(['drive-wheels'],as_index=False).mean()"
   ]
  },
  {
   "cell_type": "code",
   "execution_count": 98,
   "id": "fac57d2f-0944-4e80-80b5-9c080f052f34",
   "metadata": {},
   "outputs": [
    {
     "data": {
      "text/html": [
       "<div>\n",
       "<style scoped>\n",
       "    .dataframe tbody tr th:only-of-type {\n",
       "        vertical-align: middle;\n",
       "    }\n",
       "\n",
       "    .dataframe tbody tr th {\n",
       "        vertical-align: top;\n",
       "    }\n",
       "\n",
       "    .dataframe thead th {\n",
       "        text-align: right;\n",
       "    }\n",
       "</style>\n",
       "<table border=\"1\" class=\"dataframe\">\n",
       "  <thead>\n",
       "    <tr style=\"text-align: right;\">\n",
       "      <th></th>\n",
       "      <th>drive-wheels</th>\n",
       "      <th>price</th>\n",
       "    </tr>\n",
       "  </thead>\n",
       "  <tbody>\n",
       "    <tr>\n",
       "      <th>0</th>\n",
       "      <td>4wd</td>\n",
       "      <td>10241.000000</td>\n",
       "    </tr>\n",
       "    <tr>\n",
       "      <th>1</th>\n",
       "      <td>fwd</td>\n",
       "      <td>9244.779661</td>\n",
       "    </tr>\n",
       "    <tr>\n",
       "      <th>2</th>\n",
       "      <td>rwd</td>\n",
       "      <td>19757.613333</td>\n",
       "    </tr>\n",
       "  </tbody>\n",
       "</table>\n",
       "</div>"
      ],
      "text/plain": [
       "  drive-wheels         price\n",
       "0          4wd  10241.000000\n",
       "1          fwd   9244.779661\n",
       "2          rwd  19757.613333"
      ]
     },
     "execution_count": 98,
     "metadata": {},
     "output_type": "execute_result"
    }
   ],
   "source": [
    "df_group_one"
   ]
  },
  {
   "cell_type": "markdown",
   "id": "b63e3bd5-7b7c-4b67-ab95-86a1c6676772",
   "metadata": {},
   "source": [
    "De nuestros datos, parece que los vehículos de tracción trasera (rwd) son, en promedio, los más caros, mientras que los de tracción en las cuatro ruedas (4wd) y en las ruedas delanteras (fwd) tienen aproximadamente el mismo precio.\n",
    "\n",
    "También puedes agrupar por múltiples variables. Por ejemplo, agrupemos por 'drive-wheels' y 'body-style'. Esto agrupa el dataframe por la combinación única de 'drive-wheels' y 'body-style'. Podemos almacenar los resultados en la variable 'grouped_test1'."
   ]
  },
  {
   "cell_type": "code",
   "execution_count": 99,
   "id": "24f62e4d-f50d-4f21-922d-cada2bca0bc8",
   "metadata": {},
   "outputs": [
    {
     "data": {
      "text/html": [
       "<div>\n",
       "<style scoped>\n",
       "    .dataframe tbody tr th:only-of-type {\n",
       "        vertical-align: middle;\n",
       "    }\n",
       "\n",
       "    .dataframe tbody tr th {\n",
       "        vertical-align: top;\n",
       "    }\n",
       "\n",
       "    .dataframe thead th {\n",
       "        text-align: right;\n",
       "    }\n",
       "</style>\n",
       "<table border=\"1\" class=\"dataframe\">\n",
       "  <thead>\n",
       "    <tr style=\"text-align: right;\">\n",
       "      <th></th>\n",
       "      <th>drive-wheels</th>\n",
       "      <th>body-style</th>\n",
       "      <th>price</th>\n",
       "    </tr>\n",
       "  </thead>\n",
       "  <tbody>\n",
       "    <tr>\n",
       "      <th>0</th>\n",
       "      <td>4wd</td>\n",
       "      <td>hatchback</td>\n",
       "      <td>7603.000000</td>\n",
       "    </tr>\n",
       "    <tr>\n",
       "      <th>1</th>\n",
       "      <td>4wd</td>\n",
       "      <td>sedan</td>\n",
       "      <td>12647.333333</td>\n",
       "    </tr>\n",
       "    <tr>\n",
       "      <th>2</th>\n",
       "      <td>4wd</td>\n",
       "      <td>wagon</td>\n",
       "      <td>9095.750000</td>\n",
       "    </tr>\n",
       "    <tr>\n",
       "      <th>3</th>\n",
       "      <td>fwd</td>\n",
       "      <td>convertible</td>\n",
       "      <td>11595.000000</td>\n",
       "    </tr>\n",
       "    <tr>\n",
       "      <th>4</th>\n",
       "      <td>fwd</td>\n",
       "      <td>hardtop</td>\n",
       "      <td>8249.000000</td>\n",
       "    </tr>\n",
       "    <tr>\n",
       "      <th>5</th>\n",
       "      <td>fwd</td>\n",
       "      <td>hatchback</td>\n",
       "      <td>8396.387755</td>\n",
       "    </tr>\n",
       "    <tr>\n",
       "      <th>6</th>\n",
       "      <td>fwd</td>\n",
       "      <td>sedan</td>\n",
       "      <td>9811.800000</td>\n",
       "    </tr>\n",
       "    <tr>\n",
       "      <th>7</th>\n",
       "      <td>fwd</td>\n",
       "      <td>wagon</td>\n",
       "      <td>9997.333333</td>\n",
       "    </tr>\n",
       "    <tr>\n",
       "      <th>8</th>\n",
       "      <td>rwd</td>\n",
       "      <td>convertible</td>\n",
       "      <td>23949.600000</td>\n",
       "    </tr>\n",
       "    <tr>\n",
       "      <th>9</th>\n",
       "      <td>rwd</td>\n",
       "      <td>hardtop</td>\n",
       "      <td>24202.714286</td>\n",
       "    </tr>\n",
       "    <tr>\n",
       "      <th>10</th>\n",
       "      <td>rwd</td>\n",
       "      <td>hatchback</td>\n",
       "      <td>14337.777778</td>\n",
       "    </tr>\n",
       "    <tr>\n",
       "      <th>11</th>\n",
       "      <td>rwd</td>\n",
       "      <td>sedan</td>\n",
       "      <td>21711.833333</td>\n",
       "    </tr>\n",
       "    <tr>\n",
       "      <th>12</th>\n",
       "      <td>rwd</td>\n",
       "      <td>wagon</td>\n",
       "      <td>16994.222222</td>\n",
       "    </tr>\n",
       "  </tbody>\n",
       "</table>\n",
       "</div>"
      ],
      "text/plain": [
       "   drive-wheels   body-style         price\n",
       "0           4wd    hatchback   7603.000000\n",
       "1           4wd        sedan  12647.333333\n",
       "2           4wd        wagon   9095.750000\n",
       "3           fwd  convertible  11595.000000\n",
       "4           fwd      hardtop   8249.000000\n",
       "5           fwd    hatchback   8396.387755\n",
       "6           fwd        sedan   9811.800000\n",
       "7           fwd        wagon   9997.333333\n",
       "8           rwd  convertible  23949.600000\n",
       "9           rwd      hardtop  24202.714286\n",
       "10          rwd    hatchback  14337.777778\n",
       "11          rwd        sedan  21711.833333\n",
       "12          rwd        wagon  16994.222222"
      ]
     },
     "execution_count": 99,
     "metadata": {},
     "output_type": "execute_result"
    }
   ],
   "source": [
    "# agupar resultados\n",
    "df_gptest = df[['drive-wheels','body-style','price']]\n",
    "grouped_test1 = df_gptest.groupby(['drive-wheels','body-style'],as_index=False).mean()\n",
    "grouped_test1"
   ]
  },
  {
   "cell_type": "markdown",
   "id": "6c0d92f6-c0a5-4559-8556-98229b805b20",
   "metadata": {},
   "source": [
    "Estos datos agrupados son mucho más fáciles de visualizar cuando se convierten en una tabla dinámica. Una tabla dinámica es como una hoja de cálculo de Excel, con una variable a lo largo de la columna y otra a lo largo de la fila. Podemos convertir el dataframe en una tabla dinámica usando el método \"pivot\" para crear una tabla dinámica a partir de los grupos.\n",
    "\n",
    "En este caso, dejaremos la variable de \"drive-wheels\" como las filas de la tabla y pivotaremos \"body-style\" para convertirla en las columnas de la tabla:"
   ]
  },
  {
   "cell_type": "code",
   "execution_count": 100,
   "id": "77f93787-32ff-4096-8cfb-3cb6a1e82f0b",
   "metadata": {},
   "outputs": [
    {
     "data": {
      "text/html": [
       "<div>\n",
       "<style scoped>\n",
       "    .dataframe tbody tr th:only-of-type {\n",
       "        vertical-align: middle;\n",
       "    }\n",
       "\n",
       "    .dataframe tbody tr th {\n",
       "        vertical-align: top;\n",
       "    }\n",
       "\n",
       "    .dataframe thead tr th {\n",
       "        text-align: left;\n",
       "    }\n",
       "\n",
       "    .dataframe thead tr:last-of-type th {\n",
       "        text-align: right;\n",
       "    }\n",
       "</style>\n",
       "<table border=\"1\" class=\"dataframe\">\n",
       "  <thead>\n",
       "    <tr>\n",
       "      <th></th>\n",
       "      <th colspan=\"5\" halign=\"left\">price</th>\n",
       "    </tr>\n",
       "    <tr>\n",
       "      <th>body-style</th>\n",
       "      <th>convertible</th>\n",
       "      <th>hardtop</th>\n",
       "      <th>hatchback</th>\n",
       "      <th>sedan</th>\n",
       "      <th>wagon</th>\n",
       "    </tr>\n",
       "    <tr>\n",
       "      <th>drive-wheels</th>\n",
       "      <th></th>\n",
       "      <th></th>\n",
       "      <th></th>\n",
       "      <th></th>\n",
       "      <th></th>\n",
       "    </tr>\n",
       "  </thead>\n",
       "  <tbody>\n",
       "    <tr>\n",
       "      <th>4wd</th>\n",
       "      <td>NaN</td>\n",
       "      <td>NaN</td>\n",
       "      <td>7603.000000</td>\n",
       "      <td>12647.333333</td>\n",
       "      <td>9095.750000</td>\n",
       "    </tr>\n",
       "    <tr>\n",
       "      <th>fwd</th>\n",
       "      <td>11595.0</td>\n",
       "      <td>8249.000000</td>\n",
       "      <td>8396.387755</td>\n",
       "      <td>9811.800000</td>\n",
       "      <td>9997.333333</td>\n",
       "    </tr>\n",
       "    <tr>\n",
       "      <th>rwd</th>\n",
       "      <td>23949.6</td>\n",
       "      <td>24202.714286</td>\n",
       "      <td>14337.777778</td>\n",
       "      <td>21711.833333</td>\n",
       "      <td>16994.222222</td>\n",
       "    </tr>\n",
       "  </tbody>\n",
       "</table>\n",
       "</div>"
      ],
      "text/plain": [
       "                   price                                            \\\n",
       "body-style   convertible       hardtop     hatchback         sedan   \n",
       "drive-wheels                                                         \n",
       "4wd                  NaN           NaN   7603.000000  12647.333333   \n",
       "fwd              11595.0   8249.000000   8396.387755   9811.800000   \n",
       "rwd              23949.6  24202.714286  14337.777778  21711.833333   \n",
       "\n",
       "                            \n",
       "body-style           wagon  \n",
       "drive-wheels                \n",
       "4wd            9095.750000  \n",
       "fwd            9997.333333  \n",
       "rwd           16994.222222  "
      ]
     },
     "execution_count": 100,
     "metadata": {},
     "output_type": "execute_result"
    }
   ],
   "source": [
    "grouped_pivot = grouped_test1.pivot(index='drive-wheels',columns='body-style')\n",
    "grouped_pivot"
   ]
  },
  {
   "cell_type": "markdown",
   "id": "82eab101-fb9b-4a06-bf2b-26e4909ede3a",
   "metadata": {},
   "source": [
    "A menudo, es posible que no tengamos datos para algunas de las celdas de la tabla dinámica. Podemos llenar estas celdas faltantes con el valor 0, pero cualquier otro valor también podría ser utilizado. Debería mencionarse que los datos faltantes son un tema bastante complejo y constituyen un curso completo por sí mismos."
   ]
  },
  {
   "cell_type": "code",
   "execution_count": 101,
   "id": "e32531a0-440b-4e44-852e-93f4dcca11c7",
   "metadata": {},
   "outputs": [
    {
     "data": {
      "text/html": [
       "<div>\n",
       "<style scoped>\n",
       "    .dataframe tbody tr th:only-of-type {\n",
       "        vertical-align: middle;\n",
       "    }\n",
       "\n",
       "    .dataframe tbody tr th {\n",
       "        vertical-align: top;\n",
       "    }\n",
       "\n",
       "    .dataframe thead tr th {\n",
       "        text-align: left;\n",
       "    }\n",
       "\n",
       "    .dataframe thead tr:last-of-type th {\n",
       "        text-align: right;\n",
       "    }\n",
       "</style>\n",
       "<table border=\"1\" class=\"dataframe\">\n",
       "  <thead>\n",
       "    <tr>\n",
       "      <th></th>\n",
       "      <th colspan=\"5\" halign=\"left\">price</th>\n",
       "    </tr>\n",
       "    <tr>\n",
       "      <th>body-style</th>\n",
       "      <th>convertible</th>\n",
       "      <th>hardtop</th>\n",
       "      <th>hatchback</th>\n",
       "      <th>sedan</th>\n",
       "      <th>wagon</th>\n",
       "    </tr>\n",
       "    <tr>\n",
       "      <th>drive-wheels</th>\n",
       "      <th></th>\n",
       "      <th></th>\n",
       "      <th></th>\n",
       "      <th></th>\n",
       "      <th></th>\n",
       "    </tr>\n",
       "  </thead>\n",
       "  <tbody>\n",
       "    <tr>\n",
       "      <th>4wd</th>\n",
       "      <td>0.0</td>\n",
       "      <td>0.000000</td>\n",
       "      <td>7603.000000</td>\n",
       "      <td>12647.333333</td>\n",
       "      <td>9095.750000</td>\n",
       "    </tr>\n",
       "    <tr>\n",
       "      <th>fwd</th>\n",
       "      <td>11595.0</td>\n",
       "      <td>8249.000000</td>\n",
       "      <td>8396.387755</td>\n",
       "      <td>9811.800000</td>\n",
       "      <td>9997.333333</td>\n",
       "    </tr>\n",
       "    <tr>\n",
       "      <th>rwd</th>\n",
       "      <td>23949.6</td>\n",
       "      <td>24202.714286</td>\n",
       "      <td>14337.777778</td>\n",
       "      <td>21711.833333</td>\n",
       "      <td>16994.222222</td>\n",
       "    </tr>\n",
       "  </tbody>\n",
       "</table>\n",
       "</div>"
      ],
      "text/plain": [
       "                   price                                            \\\n",
       "body-style   convertible       hardtop     hatchback         sedan   \n",
       "drive-wheels                                                         \n",
       "4wd                  0.0      0.000000   7603.000000  12647.333333   \n",
       "fwd              11595.0   8249.000000   8396.387755   9811.800000   \n",
       "rwd              23949.6  24202.714286  14337.777778  21711.833333   \n",
       "\n",
       "                            \n",
       "body-style           wagon  \n",
       "drive-wheels                \n",
       "4wd            9095.750000  \n",
       "fwd            9997.333333  \n",
       "rwd           16994.222222  "
      ]
     },
     "execution_count": 101,
     "metadata": {},
     "output_type": "execute_result"
    }
   ],
   "source": [
    "grouped_pivot = grouped_pivot.fillna(0) # rellena los valores con 0\n",
    "grouped_pivot"
   ]
  },
  {
   "cell_type": "markdown",
   "id": "9e2b0b40-8207-4aa0-9655-646ab59532e3",
   "metadata": {},
   "source": [
    "Agrupemos ahora las variables \"body-style\" para conocer su promedio en precio."
   ]
  },
  {
   "cell_type": "code",
   "execution_count": 103,
   "id": "7530f8f5-8ea3-4a48-8c91-7612f48015ea",
   "metadata": {},
   "outputs": [
    {
     "data": {
      "text/html": [
       "<div>\n",
       "<style scoped>\n",
       "    .dataframe tbody tr th:only-of-type {\n",
       "        vertical-align: middle;\n",
       "    }\n",
       "\n",
       "    .dataframe tbody tr th {\n",
       "        vertical-align: top;\n",
       "    }\n",
       "\n",
       "    .dataframe thead th {\n",
       "        text-align: right;\n",
       "    }\n",
       "</style>\n",
       "<table border=\"1\" class=\"dataframe\">\n",
       "  <thead>\n",
       "    <tr style=\"text-align: right;\">\n",
       "      <th></th>\n",
       "      <th>body-style</th>\n",
       "      <th>price</th>\n",
       "    </tr>\n",
       "  </thead>\n",
       "  <tbody>\n",
       "    <tr>\n",
       "      <th>0</th>\n",
       "      <td>convertible</td>\n",
       "      <td>21890.500000</td>\n",
       "    </tr>\n",
       "    <tr>\n",
       "      <th>1</th>\n",
       "      <td>hardtop</td>\n",
       "      <td>22208.500000</td>\n",
       "    </tr>\n",
       "    <tr>\n",
       "      <th>2</th>\n",
       "      <td>hatchback</td>\n",
       "      <td>9957.441176</td>\n",
       "    </tr>\n",
       "    <tr>\n",
       "      <th>3</th>\n",
       "      <td>sedan</td>\n",
       "      <td>14459.755319</td>\n",
       "    </tr>\n",
       "    <tr>\n",
       "      <th>4</th>\n",
       "      <td>wagon</td>\n",
       "      <td>12371.960000</td>\n",
       "    </tr>\n",
       "  </tbody>\n",
       "</table>\n",
       "</div>"
      ],
      "text/plain": [
       "    body-style         price\n",
       "0  convertible  21890.500000\n",
       "1      hardtop  22208.500000\n",
       "2    hatchback   9957.441176\n",
       "3        sedan  14459.755319\n",
       "4        wagon  12371.960000"
      ]
     },
     "execution_count": 103,
     "metadata": {},
     "output_type": "execute_result"
    }
   ],
   "source": [
    "df_gptest2 = df[['body-style','price']]\n",
    "grouped_test2 = df_gptest2.groupby(['body-style'],as_index=False).mean()\n",
    "grouped_test2"
   ]
  },
  {
   "cell_type": "markdown",
   "id": "f5359665-81d3-45a1-b715-473d16a8a53c",
   "metadata": {},
   "source": [
    "Vamos graficar un mapa de calor para observar la relación entre las varaibles \"body-style\" y \"price\""
   ]
  },
  {
   "cell_type": "code",
   "execution_count": 107,
   "id": "74306924-677f-426c-9d4b-7d22353654cd",
   "metadata": {},
   "outputs": [
    {
     "data": {
      "image/png": "[encoded data removed]",
      "text/plain": [
       "<Figure size 640x480 with 2 Axes>"
      ]
     },
     "metadata": {},
     "output_type": "display_data"
    }
   ],
   "source": [
    "# Usando la tabla dinamica creada desde los datos agrupados\n",
    "plt.pcolor(grouped_pivot, cmap='RdBu')\n",
    "plt.colorbar()\n",
    "plt.show()"
   ]
  },
  {
   "cell_type": "markdown",
   "id": "e6fe2f5d-67a1-41b7-aa47-5f2aa1dc13e3",
   "metadata": {},
   "source": [
    "El mapa de calor traza la variable objetivo (precio) proporcional al color con respecto a las variables 'drive-wheel' y 'body-style' en los ejes vertical y horizontal, respectivamente. Esto nos permite visualizar cómo se relaciona el precio con 'drive-wheel' y 'body-style'."
   ]
  },
  {
   "cell_type": "markdown",
   "id": "b03fc58a-df5b-4873-b458-6634b7974fc3",
   "metadata": {},
   "source": [
    "Las etiquetas por defecto no brindan suficiente información, vamos a cambiarlas."
   ]
  },
  {
   "cell_type": "code",
   "execution_count": 108,
   "id": "fc55a05a-91a5-49cc-b0c7-63eb41a38c9b",
   "metadata": {},
   "outputs": [
    {
     "data": {
      "image/png": "[encoded data removed]",
      "text/plain": [
       "<Figure size 640x480 with 2 Axes>"
      ]
     },
     "metadata": {},
     "output_type": "display_data"
    }
   ],
   "source": [
    "fig, ax = plt.subplots()\n",
    "im = ax.pcolor(grouped_pivot, cmap='RdBu')\n",
    "\n",
    "#label names\n",
    "row_labels = grouped_pivot.columns.levels[1]\n",
    "col_labels = grouped_pivot.index\n",
    "\n",
    "#move ticks and labels to the center\n",
    "ax.set_xticks(np.arange(grouped_pivot.shape[1]) + 0.5, minor=False)\n",
    "ax.set_yticks(np.arange(grouped_pivot.shape[0]) + 0.5, minor=False)\n",
    "\n",
    "#insert labels\n",
    "ax.set_xticklabels(row_labels, minor=False)\n",
    "ax.set_yticklabels(col_labels, minor=False)\n",
    "\n",
    "#rotate label if too long\n",
    "plt.xticks(rotation=90)\n",
    "\n",
    "fig.colorbar(im)\n",
    "plt.show()"
   ]
  },
  {
   "cell_type": "markdown",
   "id": "1c3d57d4-c392-4cae-8eb5-36e7bd4766c8",
   "metadata": {},
   "source": [
    "La visualización es muy importante en la ciencia de datos, y los paquetes de visualización de Python proporcionan una gran libertad.\n",
    "\n",
    "La pregunta principal que queremos responder en este módulo es: \"¿Cuáles son las principales características que tienen más impacto en el precio del automóvil?\".\n",
    "\n",
    "Para obtener una mejor medida de las características importantes, observamos la correlación de estas variables con el precio del automóvil. En otras palabras: ¿cómo depende el precio del automóvil de esta variable?"
   ]
  },
  {
   "cell_type": "markdown",
   "id": "cdcb5a1f-12f9-4ac2-9f80-ac1a6d22899e",
   "metadata": {},
   "source": [
    "## Correlación y Causalidad"
   ]
  },
  {
   "cell_type": "markdown",
   "id": "f8d3c9de-4c7f-476e-b520-7ee3a94d4027",
   "metadata": {},
   "source": [
    "* Correlación: una medida del grado de interdependencia entre variables.\n",
    "\n",
    "* Causalidad: la relación entre causa y efecto entre dos variables.\n",
    "\n",
    "Es importante conocer la diferencia entre estas dos. La correlación no implica causalidad. Determinar la correlación es mucho más simple que determinar la causalidad, ya que esta última puede requerir experimentación independiente."
   ]
  },
  {
   "cell_type": "markdown",
   "id": "b1e35d08-2131-44ca-88f9-faee99c22764",
   "metadata": {},
   "source": [
    "<b>Correlación de Pearson</b>"
   ]
  },
  {
   "cell_type": "markdown",
   "id": "e8d83ac9-0a84-49ca-8c5b-2986f8e56042",
   "metadata": {},
   "source": [
    "\n",
    "La correlación de Pearson mide la dependencia lineal entre dos variables X e Y.\n",
    "\n",
    "El coeficiente resultante es un valor entre -1 y 1 inclusive, donde:\n",
    "\n",
    "* 1: Correlación lineal positiva perfecta.\n",
    "* 0: No hay correlación lineal, es probable que las dos variables no se afecten entre sí.\n",
    "* -1: Correlación lineal negativa perfecta."
   ]
  },
  {
   "cell_type": "markdown",
   "id": "8918b548-ff11-4f9b-a23e-242cd1a735ef",
   "metadata": {},
   "source": [
    "La correlación de Pearson es el método por defecto que aplica `.corr`. Como antes podemos calcular la correlación de Pearson en variables del tipo `float` o `int`."
   ]
  },
  {
   "cell_type": "code",
   "execution_count": 115,
   "id": "ceaf4974-fb51-4cc7-bd39-b7eb40157cae",
   "metadata": {},
   "outputs": [
    {
     "data": {
      "text/plain": [
       "<bound method DataFrame.corr of      symboling  normalized-losses         make aspiration num-of-doors  \\\n",
       "0            3                122  alfa-romero        std          two   \n",
       "1            3                122  alfa-romero        std          two   \n",
       "2            1                122  alfa-romero        std          two   \n",
       "3            2                164         audi        std         four   \n",
       "4            2                164         audi        std         four   \n",
       "..         ...                ...          ...        ...          ...   \n",
       "196         -1                 95        volvo        std         four   \n",
       "197         -1                 95        volvo      turbo         four   \n",
       "198         -1                 95        volvo        std         four   \n",
       "199         -1                 95        volvo      turbo         four   \n",
       "200         -1                 95        volvo      turbo         four   \n",
       "\n",
       "      body-style drive-wheels engine-location  wheel-base    length  ...  \\\n",
       "0    convertible          rwd           front        88.6  0.811148  ...   \n",
       "1    convertible          rwd           front        88.6  0.811148  ...   \n",
       "2      hatchback          rwd           front        94.5  0.822681  ...   \n",
       "3          sedan          fwd           front        99.8  0.848630  ...   \n",
       "4          sedan          4wd           front        99.4  0.848630  ...   \n",
       "..           ...          ...             ...         ...       ...  ...   \n",
       "196        sedan          rwd           front       109.1  0.907256  ...   \n",
       "197        sedan          rwd           front       109.1  0.907256  ...   \n",
       "198        sedan          rwd           front       109.1  0.907256  ...   \n",
       "199        sedan          rwd           front       109.1  0.907256  ...   \n",
       "200        sedan          rwd           front       109.1  0.907256  ...   \n",
       "\n",
       "     compression-ratio  horsepower  peak-rpm city-mpg highway-mpg    price  \\\n",
       "0                  9.0       111.0    5000.0       21          27  13495.0   \n",
       "1                  9.0       111.0    5000.0       21          27  16500.0   \n",
       "2                  9.0       154.0    5000.0       19          26  16500.0   \n",
       "3                 10.0       102.0    5500.0       24          30  13950.0   \n",
       "4                  8.0       115.0    5500.0       18          22  17450.0   \n",
       "..                 ...         ...       ...      ...         ...      ...   \n",
       "196                9.5       114.0    5400.0       23          28  16845.0   \n",
       "197                8.7       160.0    5300.0       19          25  19045.0   \n",
       "198                8.8       134.0    5500.0       18          23  21485.0   \n",
       "199               23.0       106.0    4800.0       26          27  22470.0   \n",
       "200                9.5       114.0    5400.0       19          25  22625.0   \n",
       "\n",
       "    city-L/100km  horsepower-binned  diesel  gas  \n",
       "0      11.190476             Medium       0    1  \n",
       "1      11.190476             Medium       0    1  \n",
       "2      12.368421             Medium       0    1  \n",
       "3       9.791667             Medium       0    1  \n",
       "4      13.055556             Medium       0    1  \n",
       "..           ...                ...     ...  ...  \n",
       "196    10.217391             Medium       0    1  \n",
       "197    12.368421               High       0    1  \n",
       "198    13.055556             Medium       0    1  \n",
       "199     9.038462             Medium       1    0  \n",
       "200    12.368421             Medium       0    1  \n",
       "\n",
       "[201 rows x 29 columns]>"
      ]
     },
     "execution_count": 115,
     "metadata": {},
     "output_type": "execute_result"
    }
   ],
   "source": [
    "df.corr"
   ]
  },
  {
   "cell_type": "markdown",
   "id": "0c850d1c-9353-4020-a4a8-1762910ba29e",
   "metadata": {},
   "source": [
    "#### Valor P"
   ]
  },
  {
   "cell_type": "markdown",
   "id": "fb6d882e-4dc9-4b31-ad8b-ccf7fb2ec011",
   "metadata": {},
   "source": [
    "<b>¿Qué es este valor p?</b> \n",
    "\n",
    "El valor p es el valor de probabilidad de que la correlación entre estas dos variables sea estadísticamente significativa. Normalmente, elegimos un nivel de significancia de 0.05, lo que significa que tenemos un 95% de confianza en que la correlación entre las variables es significativa."
   ]
  },
  {
   "cell_type": "markdown",
   "id": "3efcab78-f081-48be-a857-1e9cc2382295",
   "metadata": {},
   "source": [
    "Por convención, cuando el valor p es:\n",
    "\n",
    "* 0.001: decimos que hay una evidencia sólida de que la correlación es significativa.\n",
    "* 0.05: hay evidencia moderada de que la correlación es significativa.\n",
    "* 0.1: hay una evidencia débil de que la correlación es significativa.\n",
    "* 0.1: no hay evidencia de que la correlación sea significativa."
   ]
  },
  {
   "cell_type": "markdown",
   "id": "37c832e3-27d1-413c-80a2-0465ff46f449",
   "metadata": {},
   "source": [
    "Podemos obtener esta información usando el módulo `stats` de la librería de `scipy`."
   ]
  },
  {
   "cell_type": "code",
   "execution_count": 117,
   "id": "378242e0-41a1-4342-8c01-c2c1f9f4a56f",
   "metadata": {},
   "outputs": [],
   "source": [
    "from scipy import stats"
   ]
  },
  {
   "cell_type": "markdown",
   "id": "2a96b5f7-0f3d-4beb-8cc1-a34d0d0a6450",
   "metadata": {},
   "source": [
    "#### Wheel-Base vs. Price"
   ]
  },
  {
   "cell_type": "markdown",
   "id": "911e743c-8d91-491f-a000-0c510f14491a",
   "metadata": {},
   "source": [
    "Vamos a calcular el coeficiente de la correlación de Pearson y el valor de p de las variables 'wheel-base' and 'price'.\n"
   ]
  },
  {
   "cell_type": "code",
   "execution_count": 118,
   "id": "c6079d5b-85f7-4b04-8220-de178e1f18ed",
   "metadata": {},
   "outputs": [
    {
     "name": "stdout",
     "output_type": "stream",
     "text": [
      "El coeficiente de la correalación de Pearson es:  0.584641822265508  con un valor de P = 8.076488270732885e-20\n"
     ]
    }
   ],
   "source": [
    "pearson_coef, p_value = stats.pearsonr(df['wheel-base'], df['price'])\n",
    "print(\"El coeficiente de la correalación de Pearson es: \", pearson_coef, \" con un valor de P =\", p_value)  "
   ]
  },
  {
   "cell_type": "markdown",
   "id": "eee5e9d7-8fbf-452d-92bf-112e3cd9c8e1",
   "metadata": {},
   "source": [
    "Dado que el valor p es 0.001, la correlación entre la distancia entre ejes y el precio es estadísticamente significativa, aunque la relación lineal no es extremadamente fuerte (~0.585)."
   ]
  },
  {
   "cell_type": "markdown",
   "id": "387ecb3c-f0c0-4852-bb51-87d82c56817d",
   "metadata": {},
   "source": [
    "#### Horsepower vs. Price"
   ]
  },
  {
   "cell_type": "code",
   "execution_count": 120,
   "id": "1f63fc7a-ea0c-4f5c-a20f-7da480551a73",
   "metadata": {},
   "outputs": [
    {
     "name": "stdout",
     "output_type": "stream",
     "text": [
      "El coeficiente de la correalación de Pearson es:  0.809574567003656  con un valor de P = 6.369057428259557e-48\n"
     ]
    }
   ],
   "source": [
    "pearson_coef, p_value = stats.pearsonr(df['horsepower'], df['price'])\n",
    "print(\"El coeficiente de la correalación de Pearson es: \", pearson_coef, \" con un valor de P =\", p_value)  "
   ]
  },
  {
   "cell_type": "markdown",
   "id": "249c1e06-803d-4994-9412-fbc29eb49943",
   "metadata": {},
   "source": [
    "Dado que el valor p es 0.001, la correlación entre la potencia y el precio es estadísticamente significativa, y la relación lineal es bastante fuerte (~0.809, cerca de 1)."
   ]
  },
  {
   "cell_type": "markdown",
   "id": "86ffa2db-8b7d-48ae-a277-311e8e14dad7",
   "metadata": {},
   "source": [
    "#### Length vs. Price"
   ]
  },
  {
   "cell_type": "code",
   "execution_count": 121,
   "id": "ec15e6a7-6311-4a40-b73a-2fbf5fb387f6",
   "metadata": {},
   "outputs": [
    {
     "name": "stdout",
     "output_type": "stream",
     "text": [
      "The Pearson Correlation Coefficient is 0.690628380448364  with a P-value of P =  8.016477466158868e-30\n"
     ]
    }
   ],
   "source": [
    "pearson_coef, p_value = stats.pearsonr(df['length'], df['price'])\n",
    "print(\"El coeficiente de la correalación de Pearson es: \", pearson_coef, \" con un valor de P =\", p_value)  "
   ]
  },
  {
   "cell_type": "markdown",
   "id": "84db8ebf-5165-46f3-b12f-81b306b9391b",
   "metadata": {},
   "source": [
    "Dado que el valor p es 0.001, la correlación entre la longitud y el precio es estadísticamente significativa, y la relación lineal es moderadamente fuerte (~0.691)"
   ]
  },
  {
   "cell_type": "markdown",
   "id": "5857055c-320a-4a38-947e-c966fc02c0e5",
   "metadata": {},
   "source": [
    "#### Width vs. Price"
   ]
  },
  {
   "cell_type": "code",
   "execution_count": 122,
   "id": "fcea89eb-b60f-4390-8b81-35f9ef36a702",
   "metadata": {},
   "outputs": [
    {
     "name": "stdout",
     "output_type": "stream",
     "text": [
      "The Pearson Correlation Coefficient is 0.7512653440522674  with a P-value of P = 9.20033551048144e-38\n"
     ]
    }
   ],
   "source": [
    "pearson_coef, p_value = stats.pearsonr(df['width'], df['price'])\n",
    "print(\"El coeficiente de la correalación de Pearson es: \", pearson_coef, \" con un valor de P =\", p_value)  "
   ]
  },
  {
   "cell_type": "markdown",
   "id": "76e7896e-c19d-4697-a959-0915c7b60a1d",
   "metadata": {},
   "source": [
    "\n",
    "Dado que el valor p es < 0.001, la correlación entre el ancho y el precio es estadísticamente significativa, y la relación lineal es bastante fuerte (~0.751)."
   ]
  },
  {
   "cell_type": "markdown",
   "id": "d3934cb4-543a-45e6-bb24-df6114f003d9",
   "metadata": {},
   "source": [
    "#### Curb-Weight vs. Price"
   ]
  },
  {
   "cell_type": "code",
   "execution_count": 124,
   "id": "62a1b995-19a5-46f3-8365-4df5d7ff980b",
   "metadata": {},
   "outputs": [
    {
     "name": "stdout",
     "output_type": "stream",
     "text": [
      "The Pearson Correlation Coefficient is 0.8344145257702845  with a P-value of P =  2.189577238893965e-53\n"
     ]
    }
   ],
   "source": [
    "pearson_coef, p_value = stats.pearsonr(df['curb-weight'], df['price'])\n",
    "print(\"El coeficiente de la correalación de Pearson es: \", pearson_coef, \" con un valor de P =\", p_value)  "
   ]
  },
  {
   "cell_type": "markdown",
   "id": "7289c7a3-9054-41ef-998d-7c9eb5b5792a",
   "metadata": {},
   "source": [
    "Dado que el valor p es 0.001, la correlación entre el peso del vehículo y el precio es estadísticamente significativa, y la relación lineal es bastante fuerte (~0.834)."
   ]
  },
  {
   "cell_type": "markdown",
   "id": "dd04e4ec-2ede-4fc8-9333-ed89d889c971",
   "metadata": {},
   "source": [
    "#### Engine-Size vs. Price"
   ]
  },
  {
   "cell_type": "code",
   "execution_count": 125,
   "id": "721bdb5d-c59b-4524-a865-c9050976e3ec",
   "metadata": {},
   "outputs": [
    {
     "name": "stdout",
     "output_type": "stream",
     "text": [
      "The Pearson Correlation Coefficient is 0.8723351674455186  with a P-value of P = 9.265491622197359e-64\n"
     ]
    }
   ],
   "source": [
    "pearson_coef, p_value = stats.pearsonr(df['engine-size'], df['price'])\n",
    "print(\"El coeficiente de la correalación de Pearson es: \", pearson_coef, \" con un valor de P =\", p_value)  "
   ]
  },
  {
   "cell_type": "markdown",
   "id": "8de31aeb-fc37-4c22-be63-7b1ea64b649a",
   "metadata": {},
   "source": [
    "Dado que el valor p es 0.001, la correlación entre el tamaño del motor y el precio es estadísticamente significativa, y la relación lineal es muy fuerte (~0.872)."
   ]
  },
  {
   "cell_type": "markdown",
   "id": "98be2217-af4a-4978-834c-241b4f090e8b",
   "metadata": {},
   "source": [
    "#### Bore vs. Price"
   ]
  },
  {
   "cell_type": "code",
   "execution_count": 126,
   "id": "7c5bd68a-d1ac-4b54-b4ea-5e2f6272bdc8",
   "metadata": {},
   "outputs": [
    {
     "name": "stdout",
     "output_type": "stream",
     "text": [
      "The Pearson Correlation Coefficient is 0.5431553832626602  with a P-value of P =   8.049189483935315e-17\n"
     ]
    }
   ],
   "source": [
    "pearson_coef, p_value = stats.pearsonr(df['bore'], df['price'])\n",
    "print(\"El coeficiente de la correalación de Pearson es: \", pearson_coef, \" con un valor de P =\", p_value)   "
   ]
  },
  {
   "cell_type": "markdown",
   "id": "b1d910b9-954f-4418-a363-bc320de6ee84",
   "metadata": {},
   "source": [
    "Dado que el valor p es 0.001, la correlación entre el diámetro y el precio es estadísticamente significativa, pero la relación lineal es solo moderada (~0.521)."
   ]
  },
  {
   "cell_type": "markdown",
   "id": "e336208a-e24e-41d3-9ccd-0731753ba7d2",
   "metadata": {},
   "source": [
    "#### City-mpg vs. Price"
   ]
  },
  {
   "cell_type": "code",
   "execution_count": 127,
   "id": "bb4c27c2-c5e0-49a6-8ee8-8c63ad08fe11",
   "metadata": {},
   "outputs": [
    {
     "name": "stdout",
     "output_type": "stream",
     "text": [
      "The Pearson Correlation Coefficient is -0.6865710067844677  with a P-value of P =  2.3211320655676474e-29\n"
     ]
    }
   ],
   "source": [
    "pearson_coef, p_value = stats.pearsonr(df['city-mpg'], df['price'])\n",
    "print(\"El coeficiente de la correalación de Pearson es: \", pearson_coef, \" con un valor de P =\", p_value)   "
   ]
  },
  {
   "cell_type": "markdown",
   "id": "dca2bbd0-11ed-4739-822a-36b1aea14399",
   "metadata": {},
   "source": [
    "Dado que el valor p es 0.001, la correlación entre el rendimiento en ciudad (city-mpg) y el precio es estadísticamente significativa, y el coeficiente de aproximadamente -0.687 muestra que la relación es negativa y moderadamente fuerte."
   ]
  },
  {
   "cell_type": "markdown",
   "id": "40c73114-a08c-43c4-a345-57fc32faec5f",
   "metadata": {},
   "source": [
    "#### Highway-mpg vs. Price"
   ]
  },
  {
   "cell_type": "code",
   "execution_count": 128,
   "id": "2d49c1dc-461f-4780-95ff-239fb6dc0dd4",
   "metadata": {},
   "outputs": [
    {
     "name": "stdout",
     "output_type": "stream",
     "text": [
      "The Pearson Correlation Coefficient is -0.704692265058953  with a P-value of P =  1.749547114447557e-31\n"
     ]
    }
   ],
   "source": [
    "pearson_coef, p_value = stats.pearsonr(df['highway-mpg'], df['price'])\n",
    "print(\"El coeficiente de la correalación de Pearson es: \", pearson_coef, \" con un valor de P =\", p_value)   "
   ]
  },
  {
   "cell_type": "markdown",
   "id": "87e8b006-e565-4685-950c-38284196027a",
   "metadata": {},
   "source": [
    "Dado que el valor p es menor que 0.001, la correlación entre el rendimiento en carretera (highway-mpg) y el precio es estadísticamente significativa, y el coeficiente de aproximadamente -0.705 muestra que la relación es negativa y moderadamente fuerte."
   ]
  },
  {
   "cell_type": "markdown",
   "id": "d6c789d8-16aa-4c11-a8cf-c53fef938b24",
   "metadata": {},
   "source": [
    "Para evitar el cálculo individual de cada variable se puede usar un bucle `for`."
   ]
  },
  {
   "cell_type": "code",
   "execution_count": null,
   "id": "5eca0d8c-90b0-4864-844a-2adc79ecdd8d",
   "metadata": {},
   "outputs": [],
   "source": [
    "parameters = ['Wheel-Base','Horsepower','Length','Width','Curb-Weight','Engine-Size','Bore','City-mpg','Highway-mpg']\n",
    "for params in parameters:\n",
    "    print(params)\n",
    "    pearson_cof, p_value = stats.pearsonr(parameters, df['Price'])\n",
    "    print(f\"El valor del parametro de pearson de la variable {params} es:\",pearson_cof,\"con un valor de p:\",p_value)"
   ]
  },
  {
   "cell_type": "markdown",
   "id": "eb27fe84-327b-470b-9092-ed5f3cc7eb37",
   "metadata": {},
   "source": [
    "### Conclusión: Variables importantes"
   ]
  },
  {
   "cell_type": "markdown",
   "id": "f4b2c128-5449-4d00-a876-4dacdcea3bed",
   "metadata": {},
   "source": [
    "Ahora tenemos una mejor idea de cómo se ve nuestros datos y qué variables son importantes tener en cuenta al predecir el precio del automóvil. Lo hemos reducido a las siguientes variables:\n",
    "\n",
    "Variables numéricas continuas:"
   ]
  },
  {
   "cell_type": "markdown",
   "id": "cd87ba9c-2766-4b66-aef4-513cd102febd",
   "metadata": {},
   "source": [
    "* Length\n",
    "* Width\n",
    "* Curb-weight\n",
    "* Engine-size\n",
    "* Horsepower\n",
    "* City-mpg\n",
    "* Highway-mpg\n",
    "* Wheel-base\n",
    "* Bore"
   ]
  },
  {
   "cell_type": "markdown",
   "id": "41a80444-9668-4d59-8974-7e464296d9ae",
   "metadata": {},
   "source": [
    "Variables categóricas:\n",
    "\n",
    "* Drive-wheels"
   ]
  },
  {
   "cell_type": "markdown",
   "id": "116db489-9abc-4565-a22b-040ca651a832",
   "metadata": {},
   "source": [
    "Al pasar a construir modelos de aprendizaje automático para automatizar nuestro análisis, alimentar al modelo con variables que afecten significativamente nuestra variable objetivo mejorará el rendimiento de predicción de nuestro modelo."
   ]
  },
  {
   "cell_type": "markdown",
   "id": "fcdd7f26-4269-4522-8111-953f96374b0e",
   "metadata": {},
   "source": [
    "<hr/>\n",
    "\n",
    "## Autor original:\n",
    "Joseph Santarcangelo\n",
    "\n",
    "## Traducción:\n",
    "Jonathan Palan\n",
    "\n",
    "## Carga y cambios\n",
    "\n",
    "| Fecha             |Por         |  Descripción                                  |\n",
    "| -----------------| ---------------| ----------------------------------------------|\n",
    "| 2024-05-06     | Jonathan Palan | Traducción curso Data Analysis with Python|\n",
    "\n",
    "## Bibliografía\n",
    "\n",
    "[1] IBM,\"Data Analysis with Python\", available: https://www.coursera.org/learn/data-analysis-with-python, Skills Network\n",
    "<hr/>"
   ]
  }
 ],
 "metadata": {
  "kernelspec": {
   "display_name": "Python 3 (ipykernel)",
   "language": "python",
   "name": "python3"
  },
  "language_info": {
   "codemirror_mode": {
    "name": "ipython",
    "version": 3
   },
   "file_extension": ".py",
   "mimetype": "text/x-python",
   "name": "python",
   "nbconvert_exporter": "python",
   "pygments_lexer": "ipython3",
   "version": "3.11.7"
  }
 },
 "nbformat": 4,
 "nbformat_minor": 5
}
