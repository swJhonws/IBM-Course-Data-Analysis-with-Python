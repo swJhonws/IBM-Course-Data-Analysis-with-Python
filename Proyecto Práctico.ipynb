{
 "cells": [
  {
   "cell_type": "markdown",
   "id": "f9602569-f592-4fd2-8149-f927163d3386",
   "metadata": {},
   "source": [
    "# Práctica: Análisis de Costos de Seguros"
   ]
  },
  {
   "cell_type": "markdown",
   "id": "e6cedee9-b72e-497b-9a31-da285e402200",
   "metadata": {},
   "source": [
    "En este proyecto, debe realizar operaciones de análisis en una base de datos de seguros que utilice los parámetros que se mencionan a continuación."
   ]
  },
  {
   "cell_type": "markdown",
   "id": "0b78d9e6-240d-4004-acbe-160f6132732d",
   "metadata": {},
   "source": [
    "| Parameter |Description| Content type |\n",
    "|---|----|---|\n",
    "|age| Edad en años| integer |\n",
    "|gender| Masculino o femenino|integer (1 or 2)|\n",
    "| bmi | Indice de masa corporal | float |\n",
    "|no_of_children| Número de hijos | integer|\n",
    "|smoker| Fumador o no fumador | integer (0 or 1)|\n",
    "|region| Región de USA - NW, NE, SW, S | integer (1,2,3 or 4 respectively)| \n",
    "|charges| Valor de cargos anuales en USD | float|"
   ]
  },
  {
   "cell_type": "markdown",
   "id": "8851d252-b21a-4493-88c8-1da2252c4063",
   "metadata": {},
   "source": [
    "### Objetivos"
   ]
  },
  {
   "cell_type": "markdown",
   "id": "c5731b8a-221f-42a0-8b9a-9e914a34c4da",
   "metadata": {},
   "source": [
    "En este proyecto, se verá:\n",
    "\n",
    " - Cargar los datos como un marco de datos 'pandas'\n",
    " - Limpiar los datos, cuidando las entradas en blanco\n",
    " - Ejecutar análisis exploratorios de datos (EDA) e identificar los atributos que más afectan a los cargos anuales de seguro (charges)\n",
    " - Desarrollar modelos de regresión lineal de una sola variable y multivariable para predecir los cargos anuales de seguro (charges)\n",
    " - Utilice la regresión de Ridge para refinar el rendimiento de los modelos de regresión lineal. "
   ]
  },
  {
   "cell_type": "markdown",
   "id": "4e54dbc7-e9c6-4b29-982b-3a339cf03a43",
   "metadata": {},
   "source": [
    "### Preparación"
   ]
  },
  {
   "cell_type": "markdown",
   "id": "e2c5f276-e2b3-40b2-998a-81c87d056c12",
   "metadata": {},
   "source": [
    "Para ello se hará uso de las siguientes librerías."
   ]
  },
  {
   "cell_type": "markdown",
   "id": "9328a5b3-39ae-46ca-8d63-d6fda3f3954a",
   "metadata": {},
   "source": [
    "- `pandas` para el manejo de datos.\n",
    "- `numpy` para operaciones matemáticas.\n",
    "- `sklearn` para machine learning y machine-learning-pipeline y funciones relacionadas.\n",
    "- `seaborn` para visualización de datos.\n",
    "- `matplotlib` para herramientas adiccionales de gráficos."
   ]
  },
  {
   "cell_type": "markdown",
   "id": "762a99dc-a186-413e-aea4-9cd36e7236c1",
   "metadata": {},
   "source": [
    "Impotar librerias."
   ]
  },
  {
   "cell_type": "code",
   "execution_count": 1,
   "id": "afaaef26-4026-482a-adc4-6ad313606241",
   "metadata": {},
   "outputs": [],
   "source": [
    "import pandas as pd\n",
    "import numpy as np\n",
    "import seaborn as sns\n",
    "import matplotlib.pyplot as plt\n",
    "from sklearn.linear_model import LinearRegression, Ridge\n",
    "from sklearn.pipeline import Pipeline\n",
    "from sklearn.preprocessing import StandardScaler, PolynomialFeatures\n",
    "from sklearn.metrics import r2_score, mean_squared_error\n",
    "from sklearn.model_selection import cross_val_score, train_test_split"
   ]
  },
  {
   "cell_type": "markdown",
   "id": "3055120b-4af1-4b19-a1a9-02236dae69bf",
   "metadata": {},
   "source": [
    "## 1. Importar el conjunto de datos"
   ]
  },
  {
   "cell_type": "markdown",
   "id": "1b04a96c-879f-408a-a326-2cb3d1fadd5b",
   "metadata": {},
   "source": [
    "Descargamos el conjunto de datos en nuestro path actual."
   ]
  },
  {
   "cell_type": "code",
   "execution_count": 2,
   "id": "efbdc0bd-163f-4a1c-83e2-a423cfc75844",
   "metadata": {},
   "outputs": [],
   "source": [
    "import requests\n",
    "\n",
    "url = 'https://cf-courses-data.s3.us.cloud-object-storage.appdomain.cloud/IBMDeveloperSkillsNetwork-DA0101EN-Coursera/medical_insurance_dataset.csv'\n",
    "filename = 'medical_insurance_dataset.csv'\n",
    "response = requests.get(url)\n",
    "\n",
    "with open(filename,'wb') as file:\n",
    "    file.write(response.content)"
   ]
  },
  {
   "cell_type": "code",
   "execution_count": 3,
   "id": "9c0deea1-1339-4183-ae9a-a6400b4268da",
   "metadata": {},
   "outputs": [
    {
     "data": {
      "text/html": [
       "<div>\n",
       "<style scoped>\n",
       "    .dataframe tbody tr th:only-of-type {\n",
       "        vertical-align: middle;\n",
       "    }\n",
       "\n",
       "    .dataframe tbody tr th {\n",
       "        vertical-align: top;\n",
       "    }\n",
       "\n",
       "    .dataframe thead th {\n",
       "        text-align: right;\n",
       "    }\n",
       "</style>\n",
       "<table border=\"1\" class=\"dataframe\">\n",
       "  <thead>\n",
       "    <tr style=\"text-align: right;\">\n",
       "      <th></th>\n",
       "      <th>19</th>\n",
       "      <th>1</th>\n",
       "      <th>27.9</th>\n",
       "      <th>0</th>\n",
       "      <th>1.1</th>\n",
       "      <th>3</th>\n",
       "      <th>16884.924</th>\n",
       "    </tr>\n",
       "  </thead>\n",
       "  <tbody>\n",
       "    <tr>\n",
       "      <th>0</th>\n",
       "      <td>18</td>\n",
       "      <td>2</td>\n",
       "      <td>33.770</td>\n",
       "      <td>1</td>\n",
       "      <td>0</td>\n",
       "      <td>4</td>\n",
       "      <td>1725.55230</td>\n",
       "    </tr>\n",
       "    <tr>\n",
       "      <th>1</th>\n",
       "      <td>28</td>\n",
       "      <td>2</td>\n",
       "      <td>33.000</td>\n",
       "      <td>3</td>\n",
       "      <td>0</td>\n",
       "      <td>4</td>\n",
       "      <td>4449.46200</td>\n",
       "    </tr>\n",
       "    <tr>\n",
       "      <th>2</th>\n",
       "      <td>33</td>\n",
       "      <td>2</td>\n",
       "      <td>22.705</td>\n",
       "      <td>0</td>\n",
       "      <td>0</td>\n",
       "      <td>1</td>\n",
       "      <td>21984.47061</td>\n",
       "    </tr>\n",
       "    <tr>\n",
       "      <th>3</th>\n",
       "      <td>32</td>\n",
       "      <td>2</td>\n",
       "      <td>28.880</td>\n",
       "      <td>0</td>\n",
       "      <td>0</td>\n",
       "      <td>1</td>\n",
       "      <td>3866.85520</td>\n",
       "    </tr>\n",
       "    <tr>\n",
       "      <th>4</th>\n",
       "      <td>31</td>\n",
       "      <td>1</td>\n",
       "      <td>25.740</td>\n",
       "      <td>0</td>\n",
       "      <td>?</td>\n",
       "      <td>4</td>\n",
       "      <td>3756.62160</td>\n",
       "    </tr>\n",
       "    <tr>\n",
       "      <th>5</th>\n",
       "      <td>46</td>\n",
       "      <td>1</td>\n",
       "      <td>33.440</td>\n",
       "      <td>1</td>\n",
       "      <td>0</td>\n",
       "      <td>4</td>\n",
       "      <td>8240.58960</td>\n",
       "    </tr>\n",
       "    <tr>\n",
       "      <th>6</th>\n",
       "      <td>37</td>\n",
       "      <td>1</td>\n",
       "      <td>27.740</td>\n",
       "      <td>3</td>\n",
       "      <td>0</td>\n",
       "      <td>1</td>\n",
       "      <td>7281.50560</td>\n",
       "    </tr>\n",
       "    <tr>\n",
       "      <th>7</th>\n",
       "      <td>37</td>\n",
       "      <td>2</td>\n",
       "      <td>29.830</td>\n",
       "      <td>2</td>\n",
       "      <td>0</td>\n",
       "      <td>2</td>\n",
       "      <td>6406.41070</td>\n",
       "    </tr>\n",
       "    <tr>\n",
       "      <th>8</th>\n",
       "      <td>60</td>\n",
       "      <td>1</td>\n",
       "      <td>25.840</td>\n",
       "      <td>0</td>\n",
       "      <td>0</td>\n",
       "      <td>1</td>\n",
       "      <td>28923.13692</td>\n",
       "    </tr>\n",
       "    <tr>\n",
       "      <th>9</th>\n",
       "      <td>25</td>\n",
       "      <td>2</td>\n",
       "      <td>26.220</td>\n",
       "      <td>0</td>\n",
       "      <td>0</td>\n",
       "      <td>2</td>\n",
       "      <td>2721.32080</td>\n",
       "    </tr>\n",
       "  </tbody>\n",
       "</table>\n",
       "</div>"
      ],
      "text/plain": [
       "   19  1    27.9  0 1.1  3    16884.924\n",
       "0  18  2  33.770  1   0  4   1725.55230\n",
       "1  28  2  33.000  3   0  4   4449.46200\n",
       "2  33  2  22.705  0   0  1  21984.47061\n",
       "3  32  2  28.880  0   0  1   3866.85520\n",
       "4  31  1  25.740  0   ?  4   3756.62160\n",
       "5  46  1  33.440  1   0  4   8240.58960\n",
       "6  37  1  27.740  3   0  1   7281.50560\n",
       "7  37  2  29.830  2   0  2   6406.41070\n",
       "8  60  1  25.840  0   0  1  28923.13692\n",
       "9  25  2  26.220  0   0  2   2721.32080"
      ]
     },
     "execution_count": 3,
     "metadata": {},
     "output_type": "execute_result"
    }
   ],
   "source": [
    "df = pd.read_csv(filename)\n",
    "df.head(10)"
   ]
  },
  {
   "cell_type": "markdown",
   "id": "647480ff-b1e3-4aa6-83cc-e033c721d491",
   "metadata": {},
   "source": [
    "Añadir las cabezeras mencionadas anteriormente."
   ]
  },
  {
   "cell_type": "code",
   "execution_count": 4,
   "id": "e148c532-cb3b-4891-880f-d8c1d202e96f",
   "metadata": {},
   "outputs": [],
   "source": [
    "headers = ['age','gender','bmi','no_of_children','smoker','region','charges']"
   ]
  },
  {
   "cell_type": "code",
   "execution_count": 5,
   "id": "2744d80a-79f3-419c-a630-38a3e61a6f08",
   "metadata": {},
   "outputs": [
    {
     "data": {
      "text/html": [
       "<div>\n",
       "<style scoped>\n",
       "    .dataframe tbody tr th:only-of-type {\n",
       "        vertical-align: middle;\n",
       "    }\n",
       "\n",
       "    .dataframe tbody tr th {\n",
       "        vertical-align: top;\n",
       "    }\n",
       "\n",
       "    .dataframe thead th {\n",
       "        text-align: right;\n",
       "    }\n",
       "</style>\n",
       "<table border=\"1\" class=\"dataframe\">\n",
       "  <thead>\n",
       "    <tr style=\"text-align: right;\">\n",
       "      <th></th>\n",
       "      <th>age</th>\n",
       "      <th>gender</th>\n",
       "      <th>bmi</th>\n",
       "      <th>no_of_children</th>\n",
       "      <th>smoker</th>\n",
       "      <th>region</th>\n",
       "      <th>charges</th>\n",
       "    </tr>\n",
       "  </thead>\n",
       "  <tbody>\n",
       "    <tr>\n",
       "      <th>0</th>\n",
       "      <td>18</td>\n",
       "      <td>2</td>\n",
       "      <td>33.770</td>\n",
       "      <td>1</td>\n",
       "      <td>0</td>\n",
       "      <td>4</td>\n",
       "      <td>1725.55230</td>\n",
       "    </tr>\n",
       "    <tr>\n",
       "      <th>1</th>\n",
       "      <td>28</td>\n",
       "      <td>2</td>\n",
       "      <td>33.000</td>\n",
       "      <td>3</td>\n",
       "      <td>0</td>\n",
       "      <td>4</td>\n",
       "      <td>4449.46200</td>\n",
       "    </tr>\n",
       "    <tr>\n",
       "      <th>2</th>\n",
       "      <td>33</td>\n",
       "      <td>2</td>\n",
       "      <td>22.705</td>\n",
       "      <td>0</td>\n",
       "      <td>0</td>\n",
       "      <td>1</td>\n",
       "      <td>21984.47061</td>\n",
       "    </tr>\n",
       "    <tr>\n",
       "      <th>3</th>\n",
       "      <td>32</td>\n",
       "      <td>2</td>\n",
       "      <td>28.880</td>\n",
       "      <td>0</td>\n",
       "      <td>0</td>\n",
       "      <td>1</td>\n",
       "      <td>3866.85520</td>\n",
       "    </tr>\n",
       "    <tr>\n",
       "      <th>4</th>\n",
       "      <td>31</td>\n",
       "      <td>1</td>\n",
       "      <td>25.740</td>\n",
       "      <td>0</td>\n",
       "      <td>?</td>\n",
       "      <td>4</td>\n",
       "      <td>3756.62160</td>\n",
       "    </tr>\n",
       "  </tbody>\n",
       "</table>\n",
       "</div>"
      ],
      "text/plain": [
       "  age  gender     bmi  no_of_children smoker  region      charges\n",
       "0  18       2  33.770               1      0       4   1725.55230\n",
       "1  28       2  33.000               3      0       4   4449.46200\n",
       "2  33       2  22.705               0      0       1  21984.47061\n",
       "3  32       2  28.880               0      0       1   3866.85520\n",
       "4  31       1  25.740               0      ?       4   3756.62160"
      ]
     },
     "execution_count": 5,
     "metadata": {},
     "output_type": "execute_result"
    }
   ],
   "source": [
    "df.columns = headers\n",
    "df.head()"
   ]
  },
  {
   "cell_type": "markdown",
   "id": "6ccaa8be-f4e0-4efc-b4df-330db51fc56b",
   "metadata": {},
   "source": [
    "Comprobamos si exiten valores inexistentes en el dataframe."
   ]
  },
  {
   "cell_type": "code",
   "execution_count": 6,
   "id": "2cb5cd43-0c5e-49f5-a7da-a47d1a814fd4",
   "metadata": {},
   "outputs": [
    {
     "data": {
      "text/plain": [
       "True"
      ]
     },
     "execution_count": 6,
     "metadata": {},
     "output_type": "execute_result"
    }
   ],
   "source": [
    "'?' in df.values"
   ]
  },
  {
   "cell_type": "markdown",
   "id": "251da97b-eaac-4eec-bbc4-66b730a85679",
   "metadata": {},
   "source": [
    "Reemplazamos todos los valores '?' con datos NaN."
   ]
  },
  {
   "cell_type": "code",
   "execution_count": 7,
   "id": "208845bf-0ad1-44db-9685-f0a1a9aca143",
   "metadata": {},
   "outputs": [],
   "source": [
    "df.replace('?', np.NaN, inplace=True)"
   ]
  },
  {
   "cell_type": "code",
   "execution_count": 8,
   "id": "2b1fad12-3e65-4df0-9334-50790805a3bc",
   "metadata": {},
   "outputs": [
    {
     "data": {
      "text/plain": [
       "False"
      ]
     },
     "execution_count": 8,
     "metadata": {},
     "output_type": "execute_result"
    }
   ],
   "source": [
    "'?' in df.values"
   ]
  },
  {
   "cell_type": "markdown",
   "id": "ff75a5ef-4121-4cb4-9516-7f903386f43d",
   "metadata": {},
   "source": [
    "## 2. Manipulación de datos"
   ]
  },
  {
   "cell_type": "markdown",
   "id": "3716b9f0-b52c-4b80-9ba1-f1f4244cab98",
   "metadata": {},
   "source": [
    "Identificamos las columnas que contienen valores NaN o Null."
   ]
  },
  {
   "cell_type": "code",
   "execution_count": 9,
   "id": "46cea5b8-7e54-4604-a11a-c608c8ef8273",
   "metadata": {},
   "outputs": [
    {
     "name": "stdout",
     "output_type": "stream",
     "text": [
      "<class 'pandas.core.frame.DataFrame'>\n",
      "RangeIndex: 2771 entries, 0 to 2770\n",
      "Data columns (total 7 columns):\n",
      " #   Column          Non-Null Count  Dtype  \n",
      "---  ------          --------------  -----  \n",
      " 0   age             2767 non-null   object \n",
      " 1   gender          2771 non-null   int64  \n",
      " 2   bmi             2771 non-null   float64\n",
      " 3   no_of_children  2771 non-null   int64  \n",
      " 4   smoker          2764 non-null   object \n",
      " 5   region          2771 non-null   int64  \n",
      " 6   charges         2771 non-null   float64\n",
      "dtypes: float64(2), int64(3), object(2)\n",
      "memory usage: 151.7+ KB\n"
     ]
    }
   ],
   "source": [
    "df.info()"
   ]
  },
  {
   "cell_type": "code",
   "execution_count": 10,
   "id": "0beeb80c-3128-409f-a0ed-291575831ce1",
   "metadata": {},
   "outputs": [
    {
     "name": "stdout",
     "output_type": "stream",
     "text": [
      "age\n",
      "False    2767\n",
      "True        4\n",
      "Name: count, dtype: int64\n",
      "\n",
      "gender\n",
      "False    2771\n",
      "Name: count, dtype: int64\n",
      "\n",
      "bmi\n",
      "False    2771\n",
      "Name: count, dtype: int64\n",
      "\n",
      "no_of_children\n",
      "False    2771\n",
      "Name: count, dtype: int64\n",
      "\n",
      "smoker\n",
      "False    2764\n",
      "True        7\n",
      "Name: count, dtype: int64\n",
      "\n",
      "region\n",
      "False    2771\n",
      "Name: count, dtype: int64\n",
      "\n",
      "charges\n",
      "False    2771\n",
      "Name: count, dtype: int64\n",
      "\n"
     ]
    }
   ],
   "source": [
    "missing_data = df.isnull()\n",
    "for columns in missing_data.columns.values.tolist():\n",
    "    print(missing_data[columns].value_counts(''))\n",
    "    print('')"
   ]
  },
  {
   "cell_type": "markdown",
   "id": "fbe78201-72b9-4837-971c-f0e840d73b96",
   "metadata": {},
   "source": [
    "La información nos muestra que existen datos faltantes en varias columnas, por ejemplo en la columna \"age\" existen 4 datos con valores NaN, en la columna \"smoker\", existen 7 valores con NaN."
   ]
  },
  {
   "cell_type": "markdown",
   "id": "f07b5e8d-9327-4bfe-9c29-f0685447f320",
   "metadata": {},
   "source": [
    "Manejo de datos:\n",
    "\n",
    "* Para atributos continuos, reemplazar los valores faltantes con el promedio de los valores.\n",
    "* Para atributos categóricos reemplazar los valores faltantes con los valores mas frecuentes.\n",
    "* Actualizar los tipos de datos en cada columna.\n",
    "* Verificar los cambios realizados."
   ]
  },
  {
   "cell_type": "markdown",
   "id": "69b86430-5994-4b0c-9660-659940e07588",
   "metadata": {},
   "source": [
    "Organizamos.\n",
    "\n",
    "- **Datos continuos:** age, bmi, no_of_children, charges.\n",
    "- **Categóricos:** gender, smoker, region."
   ]
  },
  {
   "cell_type": "code",
   "execution_count": 11,
   "id": "ff3d52b2-b2d9-4bea-b2f4-c417bf5c5154",
   "metadata": {},
   "outputs": [
    {
     "name": "stdout",
     "output_type": "stream",
     "text": [
      "Promedio edad: 39.11709432598482\n"
     ]
    }
   ],
   "source": [
    "#Promedios para datos faltantes\n",
    "\n",
    "avg_age = df['age'].astype(float).mean()\n",
    "print('Promedio edad:',avg_age)"
   ]
  },
  {
   "cell_type": "markdown",
   "id": "dcf379a6-2a50-4e01-911c-d1ccbd984625",
   "metadata": {},
   "source": [
    "Reemplazamos los datos de promedios en los lugares vacios."
   ]
  },
  {
   "cell_type": "code",
   "execution_count": 12,
   "id": "68523575-c166-4101-8755-e534bd6ad3a8",
   "metadata": {},
   "outputs": [],
   "source": [
    "df['age'].replace(np.NaN, avg_age, inplace=True)"
   ]
  },
  {
   "cell_type": "code",
   "execution_count": 13,
   "id": "85eb4ab6-722b-492a-aae9-cf33ec99201e",
   "metadata": {},
   "outputs": [
    {
     "data": {
      "text/plain": [
       "smoker\n",
       "0    2201\n",
       "1     563\n",
       "Name: count, dtype: int64"
      ]
     },
     "execution_count": 13,
     "metadata": {},
     "output_type": "execute_result"
    }
   ],
   "source": [
    "# Valor mas frecuente \n",
    "\n",
    "df['smoker'].value_counts()"
   ]
  },
  {
   "cell_type": "markdown",
   "id": "868f6b40-eaa4-47cc-9a52-6b168d48ed01",
   "metadata": {},
   "source": [
    "Reemplazamos el dato más frecuente."
   ]
  },
  {
   "cell_type": "code",
   "execution_count": 14,
   "id": "ce876c63-b8a5-4332-a379-d374b3529356",
   "metadata": {},
   "outputs": [],
   "source": [
    "df['smoker'].replace(np.NaN, 0, inplace=True)"
   ]
  },
  {
   "cell_type": "code",
   "execution_count": 15,
   "id": "d1f39bd7-53c3-4a64-9640-ebcdd3824257",
   "metadata": {},
   "outputs": [
    {
     "name": "stdout",
     "output_type": "stream",
     "text": [
      "<class 'pandas.core.frame.DataFrame'>\n",
      "RangeIndex: 2771 entries, 0 to 2770\n",
      "Data columns (total 7 columns):\n",
      " #   Column          Non-Null Count  Dtype  \n",
      "---  ------          --------------  -----  \n",
      " 0   age             2771 non-null   object \n",
      " 1   gender          2771 non-null   int64  \n",
      " 2   bmi             2771 non-null   float64\n",
      " 3   no_of_children  2771 non-null   int64  \n",
      " 4   smoker          2771 non-null   object \n",
      " 5   region          2771 non-null   int64  \n",
      " 6   charges         2771 non-null   float64\n",
      "dtypes: float64(2), int64(3), object(2)\n",
      "memory usage: 151.7+ KB\n"
     ]
    }
   ],
   "source": [
    "df.info()"
   ]
  },
  {
   "cell_type": "markdown",
   "id": "9048c392-2524-4a7c-9b65-3adf6ff21911",
   "metadata": {},
   "source": [
    "Ahora ya no existen datos faltantes en el dataframe."
   ]
  },
  {
   "cell_type": "markdown",
   "id": "0e2f0f25-2b64-4cd4-8987-8a2c0ee91840",
   "metadata": {},
   "source": [
    "Actualizamos los tipos de datos de las columnas, dado que \"age\" debería ser de tipo entero y se encuentra en tipo object, igual sucede con \"smoker\"."
   ]
  },
  {
   "cell_type": "code",
   "execution_count": 16,
   "id": "ab8527f0-8164-4814-b3d9-0d3ca6f92e99",
   "metadata": {},
   "outputs": [],
   "source": [
    "df[['age','smoker']] = df[['age','smoker']].astype(int) "
   ]
  },
  {
   "cell_type": "code",
   "execution_count": 17,
   "id": "27556bff-cf2a-4aaa-b740-7b2dfbbdd579",
   "metadata": {},
   "outputs": [
    {
     "name": "stdout",
     "output_type": "stream",
     "text": [
      "<class 'pandas.core.frame.DataFrame'>\n",
      "RangeIndex: 2771 entries, 0 to 2770\n",
      "Data columns (total 7 columns):\n",
      " #   Column          Non-Null Count  Dtype  \n",
      "---  ------          --------------  -----  \n",
      " 0   age             2771 non-null   int32  \n",
      " 1   gender          2771 non-null   int64  \n",
      " 2   bmi             2771 non-null   float64\n",
      " 3   no_of_children  2771 non-null   int64  \n",
      " 4   smoker          2771 non-null   int32  \n",
      " 5   region          2771 non-null   int64  \n",
      " 6   charges         2771 non-null   float64\n",
      "dtypes: float64(2), int32(2), int64(3)\n",
      "memory usage: 130.0 KB\n"
     ]
    }
   ],
   "source": [
    "df.info()"
   ]
  },
  {
   "cell_type": "markdown",
   "id": "81aeb976-6643-49d6-bfd7-982972f22fbf",
   "metadata": {},
   "source": [
    "También, prodriamos redondear los decimales de la columna \"charges\" a solo 2 decimales por ejemplo."
   ]
  },
  {
   "cell_type": "code",
   "execution_count": 18,
   "id": "18975108-d19b-4d5c-811e-de1c74a307b2",
   "metadata": {},
   "outputs": [],
   "source": [
    "df[['charges']]= np.round(df[['charges']], 2)"
   ]
  },
  {
   "cell_type": "code",
   "execution_count": 19,
   "id": "c456cbce-9546-4639-8157-1210240f22dc",
   "metadata": {},
   "outputs": [
    {
     "data": {
      "text/plain": [
       "0     1725.55\n",
       "1     4449.46\n",
       "2    21984.47\n",
       "3     3866.86\n",
       "4     3756.62\n",
       "Name: charges, dtype: float64"
      ]
     },
     "execution_count": 19,
     "metadata": {},
     "output_type": "execute_result"
    }
   ],
   "source": [
    "df['charges'].head()"
   ]
  },
  {
   "cell_type": "markdown",
   "id": "8ec12ff3-8ca1-49e9-b5cd-99434c174171",
   "metadata": {},
   "source": [
    "## 3. Analisis exploratorio de datos (EDA)"
   ]
  },
  {
   "cell_type": "markdown",
   "id": "10f9ba70-cc7a-4774-b323-6671a35231d9",
   "metadata": {},
   "source": [
    "Vamos a buscar las variables que pueden ser candidatas para predecir los cargos anuales, para ello usaremos gráficas de regresión y valores de correlación."
   ]
  },
  {
   "cell_type": "markdown",
   "id": "173a70e4-cb63-4831-9947-e1c68f1611b8",
   "metadata": {},
   "source": [
    "Implementamos una grafica de regresión para **charges** con respecto a **bmi**."
   ]
  },
  {
   "cell_type": "code",
   "execution_count": 20,
   "id": "904a18eb-96c9-49f8-82e5-5882a8da4ac7",
   "metadata": {},
   "outputs": [
    {
     "data": {
      "text/plain": [
       "(0.0, 66902.85800000001)"
      ]
     },
     "execution_count": 20,
     "metadata": {},
     "output_type": "execute_result"
    },
    {
     "data": {
      "image/png": "[encoded data removed]",
      "text/plain": [
       "<Figure size 640x480 with 1 Axes>"
      ]
     },
     "metadata": {},
     "output_type": "display_data"
    }
   ],
   "source": [
    "sns.regplot(x = 'bmi', y = 'charges', line_kws={'color':'r'}, data = df)\n",
    "plt.ylim(0,)"
   ]
  },
  {
   "cell_type": "markdown",
   "id": "8478dd49-3a49-495f-8339-cdc87cc4c233",
   "metadata": {},
   "source": [
    "Veamos la gráfica de regresion para \"age\" con respecto a \"charges\"."
   ]
  },
  {
   "cell_type": "code",
   "execution_count": 21,
   "id": "833a55a9-8ef0-4f80-a194-efb3fadc0bde",
   "metadata": {},
   "outputs": [
    {
     "data": {
      "text/plain": [
       "(0.0, 66902.85800000001)"
      ]
     },
     "execution_count": 21,
     "metadata": {},
     "output_type": "execute_result"
    },
    {
     "data": {
      "image/png": "[encoded data removed]",
      "text/plain": [
       "<Figure size 640x480 with 1 Axes>"
      ]
     },
     "metadata": {},
     "output_type": "display_data"
    }
   ],
   "source": [
    "sns.regplot(x = 'age', y = 'charges', data = df, line_kws={'color':'r'})\n",
    "plt.ylim(0,)"
   ]
  },
  {
   "cell_type": "markdown",
   "id": "80cc6e87-f072-43ad-a998-3950bb8f7481",
   "metadata": {},
   "source": [
    "Ahora una gráfica boxplot para **smoker** con respecto a **charges**."
   ]
  },
  {
   "cell_type": "code",
   "execution_count": 22,
   "id": "715d12ba-88e9-4156-a842-9d5fa4b25da0",
   "metadata": {},
   "outputs": [
    {
     "data": {
      "text/plain": [
       "<Axes: xlabel='smoker', ylabel='charges'>"
      ]
     },
     "execution_count": 22,
     "metadata": {},
     "output_type": "execute_result"
    },
    {
     "data": {
      "image/png": "[encoded data removed]",
      "text/plain": [
       "<Figure size 640x480 with 1 Axes>"
      ]
     },
     "metadata": {},
     "output_type": "display_data"
    }
   ],
   "source": [
    "sns.boxplot(x = 'smoker', y = 'charges', data = df)"
   ]
  },
  {
   "cell_type": "markdown",
   "id": "7f341e47-d720-40e3-a3b8-ef6a5c74bfcf",
   "metadata": {},
   "source": [
    "El gráfico nos muestra la variable \"smoker\" con respecto al precio, sus gráficas son lo suficientemente distintas como para considerar esta variable un buen predictor del precio."
   ]
  },
  {
   "cell_type": "markdown",
   "id": "309e370b-3b4d-44d0-92bf-2fc54fa964c3",
   "metadata": {},
   "source": [
    "Veamos las correlaciones de todas las variables del dataframe."
   ]
  },
  {
   "cell_type": "code",
   "execution_count": 23,
   "id": "d4225841-662a-405d-9f6e-8072b8413b1c",
   "metadata": {},
   "outputs": [
    {
     "data": {
      "text/html": [
       "<div>\n",
       "<style scoped>\n",
       "    .dataframe tbody tr th:only-of-type {\n",
       "        vertical-align: middle;\n",
       "    }\n",
       "\n",
       "    .dataframe tbody tr th {\n",
       "        vertical-align: top;\n",
       "    }\n",
       "\n",
       "    .dataframe thead th {\n",
       "        text-align: right;\n",
       "    }\n",
       "</style>\n",
       "<table border=\"1\" class=\"dataframe\">\n",
       "  <thead>\n",
       "    <tr style=\"text-align: right;\">\n",
       "      <th></th>\n",
       "      <th>age</th>\n",
       "      <th>gender</th>\n",
       "      <th>bmi</th>\n",
       "      <th>no_of_children</th>\n",
       "      <th>smoker</th>\n",
       "      <th>region</th>\n",
       "      <th>charges</th>\n",
       "    </tr>\n",
       "  </thead>\n",
       "  <tbody>\n",
       "    <tr>\n",
       "      <th>age</th>\n",
       "      <td>1.000000</td>\n",
       "      <td>-0.026584</td>\n",
       "      <td>0.112859</td>\n",
       "      <td>0.037126</td>\n",
       "      <td>-0.022290</td>\n",
       "      <td>-0.006969</td>\n",
       "      <td>0.298892</td>\n",
       "    </tr>\n",
       "    <tr>\n",
       "      <th>gender</th>\n",
       "      <td>-0.026584</td>\n",
       "      <td>1.000000</td>\n",
       "      <td>0.042766</td>\n",
       "      <td>0.015693</td>\n",
       "      <td>0.083125</td>\n",
       "      <td>0.022360</td>\n",
       "      <td>0.062959</td>\n",
       "    </tr>\n",
       "    <tr>\n",
       "      <th>bmi</th>\n",
       "      <td>0.112859</td>\n",
       "      <td>0.042766</td>\n",
       "      <td>1.000000</td>\n",
       "      <td>-0.001642</td>\n",
       "      <td>0.011824</td>\n",
       "      <td>0.271200</td>\n",
       "      <td>0.199906</td>\n",
       "    </tr>\n",
       "    <tr>\n",
       "      <th>no_of_children</th>\n",
       "      <td>0.037126</td>\n",
       "      <td>0.015693</td>\n",
       "      <td>-0.001642</td>\n",
       "      <td>1.000000</td>\n",
       "      <td>0.007016</td>\n",
       "      <td>-0.025594</td>\n",
       "      <td>0.066551</td>\n",
       "    </tr>\n",
       "    <tr>\n",
       "      <th>smoker</th>\n",
       "      <td>-0.022290</td>\n",
       "      <td>0.083125</td>\n",
       "      <td>0.011824</td>\n",
       "      <td>0.007016</td>\n",
       "      <td>1.000000</td>\n",
       "      <td>0.053839</td>\n",
       "      <td>0.789141</td>\n",
       "    </tr>\n",
       "    <tr>\n",
       "      <th>region</th>\n",
       "      <td>-0.006969</td>\n",
       "      <td>0.022360</td>\n",
       "      <td>0.271200</td>\n",
       "      <td>-0.025594</td>\n",
       "      <td>0.053839</td>\n",
       "      <td>1.000000</td>\n",
       "      <td>0.054018</td>\n",
       "    </tr>\n",
       "    <tr>\n",
       "      <th>charges</th>\n",
       "      <td>0.298892</td>\n",
       "      <td>0.062959</td>\n",
       "      <td>0.199906</td>\n",
       "      <td>0.066551</td>\n",
       "      <td>0.789141</td>\n",
       "      <td>0.054018</td>\n",
       "      <td>1.000000</td>\n",
       "    </tr>\n",
       "  </tbody>\n",
       "</table>\n",
       "</div>"
      ],
      "text/plain": [
       "                     age    gender       bmi  no_of_children    smoker  \\\n",
       "age             1.000000 -0.026584  0.112859        0.037126 -0.022290   \n",
       "gender         -0.026584  1.000000  0.042766        0.015693  0.083125   \n",
       "bmi             0.112859  0.042766  1.000000       -0.001642  0.011824   \n",
       "no_of_children  0.037126  0.015693 -0.001642        1.000000  0.007016   \n",
       "smoker         -0.022290  0.083125  0.011824        0.007016  1.000000   \n",
       "region         -0.006969  0.022360  0.271200       -0.025594  0.053839   \n",
       "charges         0.298892  0.062959  0.199906        0.066551  0.789141   \n",
       "\n",
       "                  region   charges  \n",
       "age            -0.006969  0.298892  \n",
       "gender          0.022360  0.062959  \n",
       "bmi             0.271200  0.199906  \n",
       "no_of_children -0.025594  0.066551  \n",
       "smoker          0.053839  0.789141  \n",
       "region          1.000000  0.054018  \n",
       "charges         0.054018  1.000000  "
      ]
     },
     "execution_count": 23,
     "metadata": {},
     "output_type": "execute_result"
    }
   ],
   "source": [
    "df.corr()"
   ]
  },
  {
   "cell_type": "markdown",
   "id": "aa6dc110-7a6e-4e28-82e0-691cf071fdec",
   "metadata": {},
   "source": [
    "La tabla de correlación nos muestra que la variable **smoker** tiene la correlación más alta con una **fuerte correlación positiva**, esto indica que las personas que fuman tienden a tener cargos de seguro médico más altos y que sería una variable candidata altamente usable para modelos de predicción.\n",
    "\n",
    "Por otra parte la variable **age** también podría ser una opción, la matriz muestra una correlación significativa (0.2988), lo que posiblemente indique que a mayor edad se puede tener cargos de seguro médico más altos.\n",
    "\n",
    "De la misma manera, **bmi**, sugiere que las personas con un índice de masa corporal más alto pueden tener cargos de seguro más altos."
   ]
  },
  {
   "cell_type": "markdown",
   "id": "456bb050-1680-46b8-b358-8b96b0886ad7",
   "metadata": {},
   "source": [
    "## 4. Desarrollo del modelo"
   ]
  },
  {
   "cell_type": "markdown",
   "id": "7fbc4635-de00-4dcd-861d-e5b132833e8a",
   "metadata": {},
   "source": [
    "Vamos a entrenar un modelo de `regresión lineal` para predecir el valor de **charges**, usando el atributo **smoker** del dataframe, y calculemos su valor de R-cuadrado. "
   ]
  },
  {
   "cell_type": "code",
   "execution_count": 24,
   "id": "08dc2f58-9659-4650-9376-50dc9b1f2a49",
   "metadata": {},
   "outputs": [
    {
     "name": "stdout",
     "output_type": "stream",
     "text": [
      "El valor de R-cuadrado del modelo de regresion lineal es: 0.6227430402464125\n"
     ]
    }
   ],
   "source": [
    "# Creamos el objeto LinearRegresion\n",
    "\n",
    "lm = LinearRegression()\n",
    "\n",
    "# Asignamos las variables\n",
    "X = df[['smoker']] # variable independiente\n",
    "Y = df['charges'] # variable dependiente\n",
    "\n",
    "# Entrenamos al modelo\n",
    "lm.fit(X,Y)\n",
    "\n",
    "# Calculamos el valor de R-cuadrdo\n",
    "print('El valor de R-cuadrado del modelo de regresion lineal es:', lm.score(X,Y))"
   ]
  },
  {
   "cell_type": "markdown",
   "id": "641241c6-217b-457c-ac74-1949beb2cadb",
   "metadata": {},
   "source": [
    "El valor de R-cuadrado es 0.6222, lo que significa que aproximadamente el 62.22% de la variabilidad en los cargos de seguro es explicada por la variable \"smoker\". Aunque este valor indica un ajuste moderado del modelo, hay una cantidad significativa de variabilidad que no se está teniendo en cuenta."
   ]
  },
  {
   "cell_type": "markdown",
   "id": "733864ab-4b0e-4124-99be-c61b78eca0b6",
   "metadata": {},
   "source": [
    "Hagamos una `regresión lineal multiple` con todos los otros atributos del dataframe y veamos su valor de R-cuadrado."
   ]
  },
  {
   "cell_type": "code",
   "execution_count": 25,
   "id": "580ef306-fdb2-495a-8808-721f0441a438",
   "metadata": {},
   "outputs": [
    {
     "name": "stdout",
     "output_type": "stream",
     "text": [
      "El valor de R-cuadrado del modelo de regresion lineal es: 0.7505888664568174\n"
     ]
    }
   ],
   "source": [
    "# Creamos el objeto LinearRegresion\n",
    "lm1 = LinearRegression()\n",
    "\n",
    "# Asignamos las variables\n",
    "Z = df[['age','gender','bmi','no_of_children','smoker','region']] # variable independiente\n",
    "Y = df['charges'] # variable dependiente\n",
    "\n",
    "# Entrenamos al modelo\n",
    "lm1.fit(Z,Y)\n",
    "\n",
    "# Calculamos el valor de R-cuadrdo\n",
    "print('El valor de R-cuadrado del modelo de regresion lineal es:', lm1.score(Z,Y))"
   ]
  },
  {
   "cell_type": "markdown",
   "id": "db467870-ea06-4345-90e0-66a42cb52d38",
   "metadata": {},
   "source": [
    "El valor de R-cuadrado es 0.7505, lo que indica que aproximadamente el 75.05% de la variabilidad en los cargos de seguro es explicada por todas estas variables juntas. Este valor es más alto que el del primer modelo, lo que sugiere que agregar más variables predictoras ha mejorado la capacidad del modelo para explicar la variabilidad en los datos."
   ]
  },
  {
   "cell_type": "markdown",
   "id": "bdc6f7bf-63e4-4991-b6e0-77dae4a2055b",
   "metadata": {},
   "source": [
    "Creemos un entrenamiento `pipeline` que use `StandardScaler()`, `PolynomialFeatures()` y `LinearRegression()` para crear un modelo que pueda predecir el valor de los cargos utilizando todos los demás atributos del conjunto de datos. Veamos si existe una mejora aún mayor en el rendimiento."
   ]
  },
  {
   "cell_type": "code",
   "execution_count": 26,
   "id": "a3bf001a-e589-4180-9e3e-de0af9b2e62b",
   "metadata": {},
   "outputs": [
    {
     "name": "stdout",
     "output_type": "stream",
     "text": [
      "El valor de R-cuadrado del modelo pipeline es: 0.8453700732446306\n",
      "[2785.75 5214.75 4510.5  5161.   4803.25]\n"
     ]
    }
   ],
   "source": [
    "# Creamos el pipeline creando una lista de tuplas que incluyen el nombre del modelo o estimador y su constructor correspondiente\n",
    "Input=[('scale',StandardScaler()), ('polynomial', PolynomialFeatures(include_bias=False)), ('model',LinearRegression())]\n",
    "\n",
    "# Ingresamos al constructor\n",
    "pipe = Pipeline(Input)\n",
    "\n",
    "# Convertimos todos los datos a float para evitar errores de conversion\n",
    "Z = Z.astype(float)\n",
    "\n",
    "# Entrenamos el modelo\n",
    "pipe.fit(Z, Y)\n",
    "\n",
    "# Realizamos una prediccion \n",
    "ypipe = pipe.predict(Z)\n",
    "\n",
    "# Calculamos el valor de R-cuadrado\n",
    "print('El valor de R-cuadrado del modelo pipeline es:', r2_score(Y, ypipe))\n",
    "print(ypipe[0:5])"
   ]
  },
  {
   "cell_type": "markdown",
   "id": "e5a8cd7e-8533-4f13-81a2-f285def4c5bb",
   "metadata": {},
   "source": [
    "El modelo pipeline parece ser el más robusto de los que se ha probado hasta ahora, con el valor más alto de R-cuadrado. Esto indica que el modelo es capaz de capturar una mayor proporción de la variabilidad en los datos y, por lo tanto, puede proporcionar mejores predicciones de los cargos de seguro."
   ]
  },
  {
   "cell_type": "markdown",
   "id": "29263b49-24eb-4d2c-a16a-1f9a509b3850",
   "metadata": {},
   "source": [
    "## 5. Refinamiento del modelo"
   ]
  },
  {
   "cell_type": "markdown",
   "id": "3ce7da69-9595-40a1-b6c3-d148f80c7b0d",
   "metadata": {},
   "source": [
    "Dividamos los datos en los subconjuntos entrenamiento y prueba, asumiendo un 20% de los datos reservados para pruebas."
   ]
  },
  {
   "cell_type": "code",
   "execution_count": 27,
   "id": "dac6595f-0c6f-48eb-8288-872c9e796ad8",
   "metadata": {},
   "outputs": [
    {
     "name": "stdout",
     "output_type": "stream",
     "text": [
      "Numero de muestras del test : 555\n",
      "Numero de muestas del entrenamiento: 2216\n"
     ]
    }
   ],
   "source": [
    "# Aplicamos el refinamiento para Z e Y\n",
    "x_train, x_test, y_train, y_test = train_test_split(Z, Y, test_size=0.2, random_state=1)\n",
    "print(\"Numero de muestras del test :\", x_test.shape[0])\n",
    "print(\"Numero de muestas del entrenamiento:\",x_train.shape[0])"
   ]
  },
  {
   "cell_type": "markdown",
   "id": "4e352696-d01f-487d-962c-fe1092e65135",
   "metadata": {},
   "source": [
    "Iniciamos una regresión de Ridgey asiganmos un hiperparametro alpha de 0.1. Entrenamos los modelos usando los datos de prueba del subconjunto y buscamos el valor de R-cuadrado."
   ]
  },
  {
   "cell_type": "code",
   "execution_count": 28,
   "id": "41d3748f-9aaf-42d0-96be-cd7845c4a1ac",
   "metadata": {},
   "outputs": [
    {
     "name": "stdout",
     "output_type": "stream",
     "text": [
      "Prediccion: [ 2812.72917963  2379.96091811  9906.19217065 27693.42325808]\n",
      "conjunto de pruebas : [ 3484.33  3044.21 10096.97 18033.97]\n",
      "El valor de R-cuadrado del modelo de Ridge es: 0.7254198858412231\n"
     ]
    }
   ],
   "source": [
    "# Creamos el objeto\n",
    "RigeModel=Ridge(alpha=0.1)\n",
    "\n",
    "# Entrenamos el objeto\n",
    "RigeModel.fit(x_train, y_train)\n",
    "\n",
    "# Prediccion\n",
    "yhat = RigeModel.predict(x_test)\n",
    "print('Prediccion:', yhat[0:4])\n",
    "print('conjunto de pruebas :', y_test[0:4].values)\n",
    "\n",
    "# R-cuadrado\n",
    "print(\"El valor de R-cuadrado del modelo de Ridge es:\",RigeModel.score(x_test, y_test))\n",
    "\n",
    "# Tambien se puede usar\n",
    "# print(r2_score(y_test,yhat))\n"
   ]
  },
  {
   "cell_type": "markdown",
   "id": "fda8e48b-23a9-458f-9383-28f80df3655d",
   "metadata": {},
   "source": [
    "Aplique la transformación polinómica a los parámetros de entrenamiento con degree=2. Utilice este conjunto de entidades transformadas para ajustar el mismo modelo de regresión, como el anterior, mediante el subconjunto de entrenamiento. Imprima el archivo  puntuación para el subconjunto de pruebas."
   ]
  },
  {
   "cell_type": "code",
   "execution_count": 29,
   "id": "e9653047-d32a-40c0-b136-019015be3eb7",
   "metadata": {},
   "outputs": [
    {
     "name": "stdout",
     "output_type": "stream",
     "text": [
      "Prediccion: [ 5228.54764882  4092.97622122 10583.74267373 25920.56487674]\n",
      "conjunto de pruebas : [ 3484.33  3044.21 10096.97 18033.97]\n",
      "El valor de R-cuadrado es:  0.8208413195172477\n"
     ]
    }
   ],
   "source": [
    "# Aplicamos la transformacion a polinomio de grado 2\n",
    "pr=PolynomialFeatures(degree=2)\n",
    "\n",
    "x_train_pr = pr.fit_transform(x_train)\n",
    "x_test_pr = pr.fit_transform(x_test)\n",
    "\n",
    "# Volvemos a aplicar al modelo de Ridge\n",
    "RigeModel.fit(x_train_pr, y_train)\n",
    "\n",
    "# Prediccion\n",
    "yhat1 = RigeModel.predict(x_test_pr)\n",
    "print('Prediccion:', yhat1[0:4])\n",
    "print('conjunto de pruebas :', y_test[0:4].values)\n",
    "\n",
    "# R-cuadrado\n",
    "print(\"El valor de R-cuadrado es: \",r2_score(y_test,yhat1))\n",
    "\n"
   ]
  },
  {
   "cell_type": "markdown",
   "id": "cd6dddb0-56c4-4099-a884-eff383d60326",
   "metadata": {},
   "source": [
    "Que sucedería si aumentamos el grado del polinomio, aumentando a grado 5, se observa que el valor de R-cuadrado disminuye, y para grados superirores este disminuirá aun más. Aunque grados 4, 5 y 6 siguen siendo buenos valores para R-cuadrado, no superán las espectativas de mejorara agrandes nivles de presición el modelo, mientras que de grado 6 para arriba ya no sirven."
   ]
  },
  {
   "cell_type": "code",
   "execution_count": 30,
   "id": "55411a21-0991-4289-b119-711c7ce17cf9",
   "metadata": {},
   "outputs": [
    {
     "name": "stdout",
     "output_type": "stream",
     "text": [
      "Prediccion: [ 5535.97278943  4257.5973275   9534.19910245 27185.11893583]\n",
      "conjunto de pruebas : [ 3484.33  3044.21 10096.97 18033.97]\n",
      "El valor de R-cuadrado es:  0.8174523580783555\n"
     ]
    },
    {
     "name": "stderr",
     "output_type": "stream",
     "text": [
      "D:\\anaconda3\\Lib\\site-packages\\sklearn\\linear_model\\_ridge.py:216: LinAlgWarning: Ill-conditioned matrix (rcond=1.40815e-22): result may not be accurate.\n",
      "  return linalg.solve(A, Xy, assume_a=\"pos\", overwrite_a=True).T\n"
     ]
    }
   ],
   "source": [
    "# Aplicamos la transformacion a polinomio de grado 5\n",
    "pr1=PolynomialFeatures(degree=5)\n",
    "\n",
    "x_train_pr1 = pr1.fit_transform(x_train)\n",
    "x_test_pr1 = pr1.fit_transform(x_test)\n",
    "\n",
    "# Volvemos a aplicar al modelo de Ridge\n",
    "RigeModel.fit(x_train_pr1, y_train)\n",
    "\n",
    "# Prediccion\n",
    "yhat2 = RigeModel.predict(x_test_pr1)\n",
    "print('Prediccion:', yhat2[0:4])\n",
    "print('conjunto de pruebas :', y_test[0:4].values)\n",
    "\n",
    "# R-cuadrado\n",
    "print(\"El valor de R-cuadrado es: \",r2_score(y_test,yhat2))"
   ]
  },
  {
   "cell_type": "markdown",
   "id": "0672d98a-2e18-4f16-8487-65d915da6981",
   "metadata": {},
   "source": [
    "La siguiente gráfica muestra lo sucedio."
   ]
  },
  {
   "cell_type": "code",
   "execution_count": 31,
   "id": "dd737011-256c-4577-ac34-0ceb59775c82",
   "metadata": {},
   "outputs": [
    {
     "data": {
      "text/plain": [
       "[<matplotlib.lines.Line2D at 0x1b8df9f0d10>]"
      ]
     },
     "execution_count": 31,
     "metadata": {},
     "output_type": "execute_result"
    },
    {
     "data": {
      "image/png": "[encoded data removed]",
      "text/plain": [
       "<Figure size 640x480 with 1 Axes>"
      ]
     },
     "metadata": {},
     "output_type": "display_data"
    }
   ],
   "source": [
    "Rsqu_test = []\n",
    "\n",
    "order = [2, 3, 4 , 5, 6, 7, 8]\n",
    "for n in order:\n",
    "    pr = PolynomialFeatures(degree=n)\n",
    "    x_train_pr1 = pr.fit_transform(x_train)\n",
    "    x_test_pr1 = pr.fit_transform(x_test)   \n",
    "    lr = LinearRegression()\n",
    "    lr.fit(x_train_pr1, y_train)\n",
    "    Rsqu_test.append(lr.score(x_test_pr1, y_test))\n",
    "\n",
    "plt.plot(order, Rsqu_test)\n",
    "plt.xlabel('orden')\n",
    "plt.ylabel('R-cuadrado')\n",
    "plt.title('R-cuadrado usando datos de prueba')\n",
    "plt.text(6.08, 0.85, 'Maximo')   \n",
    "plt.plot(6, 0.716,marker =\"o\")"
   ]
  },
  {
   "cell_type": "markdown",
   "id": "4f18a2c0-d9a7-499b-b3bd-decbfc4d2a5b",
   "metadata": {},
   "source": [
    "A partir del polinomio de grado 6 el valor de R-cuadrado decae drásticamente."
   ]
  },
  {
   "cell_type": "markdown",
   "id": "a12e5cae-ef88-4a4f-89a3-2f58e8ca1cb4",
   "metadata": {},
   "source": [
    "## Conclusión"
   ]
  },
  {
   "cell_type": "markdown",
   "id": "71656593-bb79-46eb-b55a-64702f1c329d",
   "metadata": {},
   "source": [
    "Después de evaluar varios modelos de regresión en un conjunto de datos para predecir los cargos de seguro, aquí están cada uno de los valores:"
   ]
  },
  {
   "cell_type": "markdown",
   "id": "1c43f911-0f20-4c67-be1e-ffcb7744eccb",
   "metadata": {},
   "source": [
    "1. Modelo de **regresión lineal simple** utilizando solo la variable \"smoker\":\n",
    "\n",
    "**R-cuadrado:** 0.6222\n",
    "\n",
    "Este modelo proporciona una estimación inicial de cómo la variable \"smoker\" está relacionada con los cargos de seguro. Sin embargo, su capacidad de predicción es moderada y limitada debido a la simplicidad del modelo."
   ]
  },
  {
   "cell_type": "markdown",
   "id": "7eed3a8a-4a1c-45c4-b74a-c3626c54d963",
   "metadata": {},
   "source": [
    "2. Modelo de **regresión lineal múltiple** utilizando varias variables predictoras:\n",
    "\n",
    "**R-cuadrado:** 0.7505\n",
    "\n",
    "Al incluir múltiples variables predictoras, el modelo mejora en términos de capacidad de predicción en comparación con el modelo simple de una sola variable. Sin embargo, aún queda espacio para mejorar la capacidad predictiva."
   ]
  },
  {
   "cell_type": "markdown",
   "id": "12d8ae26-96a7-4d3d-995f-56bb8b209c7d",
   "metadata": {},
   "source": [
    "3. Modelo de **regresión utilizando un pipeline** con escalado de características y expansión polinomial:\n",
    "\n",
    "**R-cuadrado:** 0.8453\n",
    "\n",
    "Este modelo, que incluye escalado de características y expansión polinomial, muestra un rendimiento mejorado en términos de R-cuadrado en comparación con los modelos anteriores. La capacidad de predicción ha mejorado significativamente gracias a la transformación de características y la inclusión de términos polinomiales."
   ]
  },
  {
   "cell_type": "markdown",
   "id": "ae0d7538-ca7a-4667-81fc-46845d89da5a",
   "metadata": {},
   "source": [
    "4. Modelo de **regresión Ridge** sin transformación polinomial:\n",
    "   \n",
    "**R-cuadrado:** 0.7255\n",
    "\n",
    "La inclusión de regularización Ridge en el modelo sin transformación polinomial ha mejorado ligeramente la capacidad de predicción en comparación con el modelo de regresión lineal simple. Sin embargo, el rendimiento aún no es tan bueno como el modelo con pipeline."
   ]
  },
  {
   "cell_type": "markdown",
   "id": "59cb8e17-b20f-4906-9151-3d4c363ec8bd",
   "metadata": {},
   "source": [
    "5. Modelo de **regresión Ridge con transformación polinomial de grado 2**:\n",
    "   \n",
    "**R-cuadrado:** 0.8206\n",
    "\n",
    "La adición de transformación polinomial de grado 2 al modelo de regresión Ridge ha mejorado significativamente la capacidad de predicción en comparación con el modelo de regresión Ridge sin transformación polinomial. Sin embargo, todavía tiene un rendimiento ligeramente inferior al modelo con pipeline."
   ]
  },
  {
   "cell_type": "markdown",
   "id": "a5788422-f0f3-4d62-8012-3279e970e161",
   "metadata": {},
   "source": [
    "Aplicando las predicciones del mejor modelo que en este caso es de pipeline."
   ]
  },
  {
   "cell_type": "code",
   "execution_count": 32,
   "id": "91d91f78-1ad5-40c4-9e3d-fd72b0a4d7d5",
   "metadata": {},
   "outputs": [
    {
     "data": {
      "text/html": [
       "<div>\n",
       "<style scoped>\n",
       "    .dataframe tbody tr th:only-of-type {\n",
       "        vertical-align: middle;\n",
       "    }\n",
       "\n",
       "    .dataframe tbody tr th {\n",
       "        vertical-align: top;\n",
       "    }\n",
       "\n",
       "    .dataframe thead th {\n",
       "        text-align: right;\n",
       "    }\n",
       "</style>\n",
       "<table border=\"1\" class=\"dataframe\">\n",
       "  <thead>\n",
       "    <tr style=\"text-align: right;\">\n",
       "      <th></th>\n",
       "      <th>age</th>\n",
       "      <th>gender</th>\n",
       "      <th>bmi</th>\n",
       "      <th>no_of_children</th>\n",
       "      <th>smoker</th>\n",
       "      <th>region</th>\n",
       "      <th>charges</th>\n",
       "      <th>predictions_charges</th>\n",
       "    </tr>\n",
       "  </thead>\n",
       "  <tbody>\n",
       "    <tr>\n",
       "      <th>0</th>\n",
       "      <td>18</td>\n",
       "      <td>2</td>\n",
       "      <td>33.770</td>\n",
       "      <td>1</td>\n",
       "      <td>0</td>\n",
       "      <td>4</td>\n",
       "      <td>1725.55</td>\n",
       "      <td>2785.75</td>\n",
       "    </tr>\n",
       "    <tr>\n",
       "      <th>1</th>\n",
       "      <td>28</td>\n",
       "      <td>2</td>\n",
       "      <td>33.000</td>\n",
       "      <td>3</td>\n",
       "      <td>0</td>\n",
       "      <td>4</td>\n",
       "      <td>4449.46</td>\n",
       "      <td>5214.75</td>\n",
       "    </tr>\n",
       "    <tr>\n",
       "      <th>2</th>\n",
       "      <td>33</td>\n",
       "      <td>2</td>\n",
       "      <td>22.705</td>\n",
       "      <td>0</td>\n",
       "      <td>0</td>\n",
       "      <td>1</td>\n",
       "      <td>21984.47</td>\n",
       "      <td>4510.50</td>\n",
       "    </tr>\n",
       "    <tr>\n",
       "      <th>3</th>\n",
       "      <td>32</td>\n",
       "      <td>2</td>\n",
       "      <td>28.880</td>\n",
       "      <td>0</td>\n",
       "      <td>0</td>\n",
       "      <td>1</td>\n",
       "      <td>3866.86</td>\n",
       "      <td>5161.00</td>\n",
       "    </tr>\n",
       "    <tr>\n",
       "      <th>4</th>\n",
       "      <td>31</td>\n",
       "      <td>1</td>\n",
       "      <td>25.740</td>\n",
       "      <td>0</td>\n",
       "      <td>0</td>\n",
       "      <td>4</td>\n",
       "      <td>3756.62</td>\n",
       "      <td>4803.25</td>\n",
       "    </tr>\n",
       "    <tr>\n",
       "      <th>5</th>\n",
       "      <td>46</td>\n",
       "      <td>1</td>\n",
       "      <td>33.440</td>\n",
       "      <td>1</td>\n",
       "      <td>0</td>\n",
       "      <td>4</td>\n",
       "      <td>8240.59</td>\n",
       "      <td>9553.50</td>\n",
       "    </tr>\n",
       "    <tr>\n",
       "      <th>6</th>\n",
       "      <td>37</td>\n",
       "      <td>1</td>\n",
       "      <td>27.740</td>\n",
       "      <td>3</td>\n",
       "      <td>0</td>\n",
       "      <td>1</td>\n",
       "      <td>7281.51</td>\n",
       "      <td>9790.75</td>\n",
       "    </tr>\n",
       "    <tr>\n",
       "      <th>7</th>\n",
       "      <td>37</td>\n",
       "      <td>2</td>\n",
       "      <td>29.830</td>\n",
       "      <td>2</td>\n",
       "      <td>0</td>\n",
       "      <td>2</td>\n",
       "      <td>6406.41</td>\n",
       "      <td>8151.75</td>\n",
       "    </tr>\n",
       "    <tr>\n",
       "      <th>8</th>\n",
       "      <td>60</td>\n",
       "      <td>1</td>\n",
       "      <td>25.840</td>\n",
       "      <td>0</td>\n",
       "      <td>0</td>\n",
       "      <td>1</td>\n",
       "      <td>28923.14</td>\n",
       "      <td>12919.00</td>\n",
       "    </tr>\n",
       "    <tr>\n",
       "      <th>9</th>\n",
       "      <td>25</td>\n",
       "      <td>2</td>\n",
       "      <td>26.220</td>\n",
       "      <td>0</td>\n",
       "      <td>0</td>\n",
       "      <td>2</td>\n",
       "      <td>2721.32</td>\n",
       "      <td>3807.75</td>\n",
       "    </tr>\n",
       "  </tbody>\n",
       "</table>\n",
       "</div>"
      ],
      "text/plain": [
       "   age  gender     bmi  no_of_children  smoker  region   charges  \\\n",
       "0   18       2  33.770               1       0       4   1725.55   \n",
       "1   28       2  33.000               3       0       4   4449.46   \n",
       "2   33       2  22.705               0       0       1  21984.47   \n",
       "3   32       2  28.880               0       0       1   3866.86   \n",
       "4   31       1  25.740               0       0       4   3756.62   \n",
       "5   46       1  33.440               1       0       4   8240.59   \n",
       "6   37       1  27.740               3       0       1   7281.51   \n",
       "7   37       2  29.830               2       0       2   6406.41   \n",
       "8   60       1  25.840               0       0       1  28923.14   \n",
       "9   25       2  26.220               0       0       2   2721.32   \n",
       "\n",
       "   predictions_charges  \n",
       "0              2785.75  \n",
       "1              5214.75  \n",
       "2              4510.50  \n",
       "3              5161.00  \n",
       "4              4803.25  \n",
       "5              9553.50  \n",
       "6              9790.75  \n",
       "7              8151.75  \n",
       "8             12919.00  \n",
       "9              3807.75  "
      ]
     },
     "execution_count": 32,
     "metadata": {},
     "output_type": "execute_result"
    }
   ],
   "source": [
    "df['predictions_charges'] = ypipe\n",
    "df.head(10)"
   ]
  },
  {
   "cell_type": "markdown",
   "id": "1f71dc36-b999-4bb1-b913-c9275954c6d8",
   "metadata": {},
   "source": [
    "El modelo de regresión utilizando un **pipeline con escalado de características y expansión polinomial** es el mejor en términos de capacidad de predicción, seguido por el modelo de regresión Ridge con transformación polinomial de grado 2"
   ]
  },
  {
   "cell_type": "markdown",
   "id": "d587d83e-a0ec-435c-822f-411d22e767f6",
   "metadata": {},
   "source": [
    "<hr/>\n",
    "\n",
    "## Autor original:\n",
    "Joseph Santarcangelo\n",
    "\n",
    "## Traducción:\n",
    "Jonathan Palan\n",
    "\n",
    "## Carga y cambios\n",
    "\n",
    "| Fecha             |Por         |  Descripción                                  |\n",
    "| -----------------| ---------------| ----------------------------------------------|\n",
    "| 2024-05-09     | Jonathan Palan | Traducción curso Data Analysis with Python|\n",
    "\n",
    "## Bibliografía\n",
    "\n",
    "[1] IBM,\"Data Analysis with Python\", available: https://www.coursera.org/learn/data-analysis-with-python, Skills Network\n",
    "<hr/>"
   ]
  }
 ],
 "metadata": {
  "kernelspec": {
   "display_name": "Python 3 (ipykernel)",
   "language": "python",
   "name": "python3"
  },
  "language_info": {
   "codemirror_mode": {
    "name": "ipython",
    "version": 3
   },
   "file_extension": ".py",
   "mimetype": "text/x-python",
   "name": "python",
   "nbconvert_exporter": "python",
   "pygments_lexer": "ipython3",
   "version": "3.11.7"
  }
 },
 "nbformat": 4,
 "nbformat_minor": 5
}
